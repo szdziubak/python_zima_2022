{
 "cells": [
  {
   "cell_type": "markdown",
   "id": "f9990912",
   "metadata": {},
   "source": [
    "# Wprowadzenie do markdown\n",
    "\n",
    "Szymon Dziubak"
   ]
  },
  {
   "cell_type": "markdown",
   "id": "6c52aab6",
   "metadata": {},
   "source": [
    "### Nagłówki"
   ]
  },
  {
   "cell_type": "markdown",
   "id": "60452040",
   "metadata": {},
   "source": [
    "# Nagłówek 1 `<- # Nagłówek lub <h1>Nagłówek<h1>`"
   ]
  },
  {
   "cell_type": "markdown",
   "id": "39d156fb",
   "metadata": {},
   "source": [
    "## Nagłówek 2 `<- # Nagłówek lub <h2>Nagłówek<h2>`"
   ]
  },
  {
   "cell_type": "markdown",
   "id": "7ab8d65d",
   "metadata": {},
   "source": [
    "### Nagłówek 3 `<- # Nagłówek lub <h3>Nagłówek<h3>`"
   ]
  },
  {
   "cell_type": "markdown",
   "id": "cddf216e",
   "metadata": {},
   "source": [
    "#### Nagłówek 4 `<- # Nagłówek lub <h4>Nagłówek<h4>`"
   ]
  },
  {
   "cell_type": "markdown",
   "id": "20e95903",
   "metadata": {},
   "source": [
    "##### Nagłówek 5 `<- # Nagłówek lub <h5>Nagłówek<h5>`"
   ]
  },
  {
   "cell_type": "markdown",
   "id": "68998e87",
   "metadata": {},
   "source": [
    "###### Nagłówek 6 `<- # Nagłówek lub <h6>Nagłówek<h6>`"
   ]
  },
  {
   "cell_type": "markdown",
   "id": "4836bb60",
   "metadata": {},
   "source": [
    "### Cytaty blokowe"
   ]
  },
  {
   "cell_type": "markdown",
   "id": "8b455777",
   "metadata": {},
   "source": [
    "`<blockquote>Cytat blokowy</blockquote>`"
   ]
  },
  {
   "cell_type": "markdown",
   "id": "556dad9f",
   "metadata": {},
   "source": [
    "<blockquote>Cytat blokowy</blockquote>  "
   ]
  },
  {
   "cell_type": "markdown",
   "id": "20fd2147",
   "metadata": {},
   "source": [
    "### Sekcje kodu"
   ]
  },
  {
   "cell_type": "markdown",
   "id": "3beea336",
   "metadata": {},
   "source": [
    "` ```Jakiś kod``` `"
   ]
  },
  {
   "cell_type": "markdown",
   "id": "c944c885",
   "metadata": {},
   "source": [
    "```\n",
    "Print('Hello world')\n",
    "a = 1+2\n",
    "b = \"Hello world\"\n",
    "print(a)\n",
    "print(b)\n",
    "```"
   ]
  },
  {
   "cell_type": "markdown",
   "id": "1ae609a4",
   "metadata": {},
   "source": [
    "`<code>\n",
    "Print('Hello world')\n",
    "a = 1+2\n",
    "b = \"Hello world\"\n",
    "print(a)\n",
    "print(b)\n",
    "</code>`"
   ]
  },
  {
   "cell_type": "markdown",
   "id": "31a69949",
   "metadata": {},
   "source": [
    "<code>Print('Hello world')\n",
    "a = 1+2\n",
    "b = \"Hello world\"\n",
    "print(a)\n",
    "print(b)\n",
    "</code>"
   ]
  },
  {
   "cell_type": "markdown",
   "id": "58621f7f",
   "metadata": {},
   "source": [
    "### Operatory matematyczne"
   ]
  },
  {
   "cell_type": "markdown",
   "id": "57c7b59a",
   "metadata": {},
   "source": [
    "`\\$\\operator_matematyczny$`"
   ]
  },
  {
   "cell_type": "markdown",
   "id": "f2fc1330",
   "metadata": {},
   "source": [
    "\\$\\sqrt{n}$ `<- \\$\\sqrt{n}$`"
   ]
  },
  {
   "cell_type": "markdown",
   "id": "a68df98b",
   "metadata": {},
   "source": [
    "### Nowa linia"
   ]
  },
  {
   "cell_type": "markdown",
   "id": "2513128e",
   "metadata": {},
   "source": [
    "`linia pierwsza<br> linia druga`"
   ]
  },
  {
   "cell_type": "markdown",
   "id": "86a4d9cb",
   "metadata": {},
   "source": [
    "linia pierwsza<br> linia druga"
   ]
  },
  {
   "cell_type": "markdown",
   "id": "6e2c8460",
   "metadata": {},
   "source": [
    "### Formatowanie tekstu"
   ]
  },
  {
   "cell_type": "markdown",
   "id": "3a9dfb45",
   "metadata": {},
   "source": [
    "```<b>tekst_pogrubiony</b>\n",
    "<i>tekst_pochylony</i>\n",
    "_tekst_pochylony_```"
   ]
  },
  {
   "cell_type": "markdown",
   "id": "6a9c443b",
   "metadata": {},
   "source": [
    "<b>tekst pogrubiony</b>"
   ]
  },
  {
   "cell_type": "markdown",
   "id": "725db8ac",
   "metadata": {},
   "source": [
    "*tekst_pochylony*"
   ]
  },
  {
   "cell_type": "markdown",
   "id": "c996d5e0",
   "metadata": {},
   "source": [
    "### Linia pozioma"
   ]
  },
  {
   "cell_type": "markdown",
   "id": "afa84711",
   "metadata": {},
   "source": [
    "`---`"
   ]
  },
  {
   "cell_type": "markdown",
   "id": "1263c1c1",
   "metadata": {},
   "source": [
    "---"
   ]
  },
  {
   "cell_type": "markdown",
   "id": "bba7af01",
   "metadata": {},
   "source": [
    "### Numerowanie"
   ]
  },
  {
   "cell_type": "markdown",
   "id": "c996b401",
   "metadata": {},
   "source": [
    "Lista numerowana: 1., 2., ... <br>\n",
    "`<ol>`<br>\n",
    "`<li>Numer jeden</li>`<br>\n",
    "`<li>Numer dwa</li>`<br>\n",
    "`<li>Numer trzy</li>`<br>\n",
    "`</ol>`"
   ]
  },
  {
   "cell_type": "markdown",
   "id": "acd93ad3",
   "metadata": {},
   "source": [
    "<ol>\n",
    "<li>Numer jeden</li>\n",
    "<li>Numer dwa</li>\n",
    "<li>Numer trzy</li>\n",
    "</ol>"
   ]
  },
  {
   "cell_type": "markdown",
   "id": "026cd560",
   "metadata": {},
   "source": [
    "Lista nienumerowana <br>\n",
    "`<ul>`<br>\n",
    "`<li>linia jeden</li>`<br>\n",
    "`<li>linia dwa</li>`<br>\n",
    "`<li>linia trzy</li>`<br>\n",
    "`</ul>`"
   ]
  },
  {
   "cell_type": "markdown",
   "id": "17936d96",
   "metadata": {},
   "source": [
    "<ul>\n",
    "<li>linia jeden</li>\n",
    "<li>linia dwa</li>\n",
    "<li>linia trzy</li>\n",
    "</ul>"
   ]
  },
  {
   "cell_type": "markdown",
   "id": "9d81774c",
   "metadata": {},
   "source": [
    "### Linki zewnętrzne i wewnętrzne"
   ]
  },
  {
   "cell_type": "markdown",
   "id": "4a2842d5",
   "metadata": {},
   "source": [
    "`__[Link do google](https://www.google.com)__`"
   ]
  },
  {
   "cell_type": "markdown",
   "id": "7378d91c",
   "metadata": {},
   "source": [
    "__[Link do google](https://www.google.com)__"
   ]
  },
  {
   "cell_type": "markdown",
   "id": "10d0808a",
   "metadata": {},
   "source": [
    "`[Wróć do nagłówków](#Nagłówki)`"
   ]
  },
  {
   "cell_type": "markdown",
   "id": "f195f963",
   "metadata": {},
   "source": [
    "[Wróć do nagłówków](#Nagłówki)"
   ]
  },
  {
   "cell_type": "markdown",
   "id": "297fab25",
   "metadata": {},
   "source": [
    "### Tabele"
   ]
  },
  {
   "cell_type": "markdown",
   "id": "0349b58c",
   "metadata": {},
   "source": [
    "`\n",
    "|Name|Address|Salary| \n",
    "|-----|-------|------| \n",
    "|Hanna|Brisbane|4000| \n",
    "|Adam|Sydney|5000|\n",
    "`"
   ]
  },
  {
   "cell_type": "markdown",
   "id": "bdcfa1fd",
   "metadata": {},
   "source": [
    "|Name|Address|Salary| \n",
    "|-----|-------|------| \n",
    "|Hanna|Brisbane|4000| \n",
    "|Adam|Sydney|5000|"
   ]
  },
  {
   "cell_type": "markdown",
   "id": "834ad16d",
   "metadata": {},
   "source": [
    "Źródło: \n",
    "https://www.datacamp.com/tutorial/markdown-in-jupyter-notebook"
   ]
  }
 ],
 "metadata": {
  "kernelspec": {
   "display_name": "Python 3 (ipykernel)",
   "language": "python",
   "name": "python3"
  },
  "language_info": {
   "codemirror_mode": {
    "name": "ipython",
    "version": 3
   },
   "file_extension": ".py",
   "mimetype": "text/x-python",
   "name": "python",
   "nbconvert_exporter": "python",
   "pygments_lexer": "ipython3",
   "version": "3.8.10"
  }
 },
 "nbformat": 4,
 "nbformat_minor": 5
}
