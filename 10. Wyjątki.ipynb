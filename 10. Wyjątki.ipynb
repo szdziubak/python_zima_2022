{
 "cells": [
  {
   "cell_type": "markdown",
   "id": "b85f9f88",
   "metadata": {},
   "source": [
    "# Obsługa wyjątków. Tworzenie własnych klas wyjątków. Wymuszanie obsługi wyjątków.\n",
    "\n",
    "Szymon Dziubak"
   ]
  },
  {
   "cell_type": "markdown",
   "id": "9c045487",
   "metadata": {},
   "source": [
    "### Wyjątki\n",
    "Kiedy obawiamy się, że w naszym kodzie wystapi błąd, powinniśmy przygotować blok do obsługi wyjątków. <br>\n",
    "Bloki te to bloki try-except. <br>\n",
    "Python wykonuje pewien kod pod try i jeżeli wystąi błąd zwraca to co jest pod except."
   ]
  },
  {
   "cell_type": "markdown",
   "id": "fb35e7cd",
   "metadata": {},
   "source": [
    "Jakie błędy najczęściej możemy dostać? <br>\n",
    "ImportError - kiedy nie znajdziemy modułu, który chcemy zaimportować<br>\n",
    "IndexError - kiedy indeks jest poza zakresem<br>\n",
    "KeyError - kiedy klucz nie jest znaleziony w słowniku<br>\n",
    "KeyboardInterrupt - kiedy przerwiemy program<br>\n",
    "NameError - kiedy nie ma takiej zmiennej<br>\n",
    "ZeroDivisionError - kiedy próbujemy dzielić przez zero"
   ]
  },
  {
   "cell_type": "markdown",
   "id": "2d8d6edc",
   "metadata": {},
   "source": [
    "<code>try:\n",
    "    zrób coś\n",
    "except Exception:\n",
    "    obsługa błędu<code>"
   ]
  },
  {
   "cell_type": "code",
   "execution_count": 1,
   "id": "482ac94c",
   "metadata": {},
   "outputs": [
    {
     "name": "stdout",
     "output_type": "stream",
     "text": [
      "Nie ma takiego modułu\n"
     ]
    }
   ],
   "source": [
    "try:\n",
    "    import randoms #nie ma randoms a random\n",
    "except ImportError:\n",
    "    print(\"Nie ma takiego modułu\")"
   ]
  },
  {
   "cell_type": "code",
   "execution_count": 2,
   "id": "88b631f5",
   "metadata": {},
   "outputs": [
    {
     "name": "stdout",
     "output_type": "stream",
     "text": [
      "Indeks jest poza zakresem\n"
     ]
    }
   ],
   "source": [
    "try:\n",
    "    lista = [\"A\", \"B\", \"C\"]\n",
    "    lista[3]\n",
    "except IndexError:\n",
    "    print(\"Indeks jest poza zakresem\")"
   ]
  },
  {
   "cell_type": "code",
   "execution_count": 3,
   "id": "febaa415",
   "metadata": {},
   "outputs": [
    {
     "name": "stdout",
     "output_type": "stream",
     "text": [
      "Nie ma takiego klucza w słowniku\n"
     ]
    }
   ],
   "source": [
    "try:\n",
    "    auta_marki = {\n",
    "    'Audi':'Niemcy',\n",
    "    'Citroen':'Francja',\n",
    "    'Fiat':'Włochy',\n",
    "    'Seat':'Hiszpania',\n",
    "    'Ford':'USA'}\n",
    "    print(auta_marki['Kia'])\n",
    "except KeyError:\n",
    "    print(\"Nie ma takiego klucza w słowniku\")"
   ]
  },
  {
   "cell_type": "code",
   "execution_count": 5,
   "id": "51926043",
   "metadata": {},
   "outputs": [
    {
     "name": "stdout",
     "output_type": "stream",
     "text": [
      "Przerwano wykonanie programu\n"
     ]
    }
   ],
   "source": [
    "try:\n",
    "    while True:\n",
    "        pass\n",
    "except KeyboardInterrupt:\n",
    "    print(\"Przerwano wykonanie programu\") #przycisk przerwania programu"
   ]
  },
  {
   "cell_type": "code",
   "execution_count": 7,
   "id": "fa72f85b",
   "metadata": {},
   "outputs": [
    {
     "name": "stdout",
     "output_type": "stream",
     "text": [
      "Nie ma takiej zmiennej\n"
     ]
    }
   ],
   "source": [
    "try:\n",
    "    print(zmienna_ktorej_nie_zdefiniowalismy)\n",
    "except NameError:\n",
    "    print(\"Nie ma takiej zmiennej\") #przycisk przerwania programu"
   ]
  },
  {
   "cell_type": "code",
   "execution_count": 8,
   "id": "78e4f924",
   "metadata": {},
   "outputs": [
    {
     "name": "stdout",
     "output_type": "stream",
     "text": [
      "Nie można dzielić przez 0\n"
     ]
    }
   ],
   "source": [
    "try:\n",
    "    print(5/0)\n",
    "except ZeroDivisionError:\n",
    "    print(\"Nie można dzielić przez 0\")"
   ]
  },
  {
   "cell_type": "markdown",
   "id": "3bb64ee5",
   "metadata": {},
   "source": [
    "try-except-finally<br>\n",
    "blok finally wykonamy, zawsze, jeżeli zostanie i nie zostanie zwrócowny błąd\n"
   ]
  },
  {
   "cell_type": "code",
   "execution_count": 16,
   "id": "9aebb22e",
   "metadata": {},
   "outputs": [
    {
     "name": "stdout",
     "output_type": "stream",
     "text": [
      "Nie można otworzyć pliku\n",
      "plik trzeba utworzyc\n"
     ]
    }
   ],
   "source": [
    "try:\n",
    "    plik = open(\"plik2.txt\")\n",
    "except: #blok bez zdefiniowanego konkretnego wyjątku\n",
    "    print(\"Nie można otworzyć pliku\")\n",
    "finally:\n",
    "    #plik = open(\"plik.txt\", \"w\")\n",
    "    print(\"plik trzeba utworzyc\")\n",
    "    plik.close()"
   ]
  },
  {
   "cell_type": "code",
   "execution_count": 12,
   "id": "70da6e74",
   "metadata": {},
   "outputs": [
    {
     "name": "stdout",
     "output_type": "stream",
     "text": [
      "Plik zamkniety\n"
     ]
    }
   ],
   "source": [
    "try:\n",
    "    plik = open(\"plik.txt\", \"w\") #można dać x które oznacza utwórz jeżeli nie istnieje\n",
    "except: #blok bez zdefiniowanego konkretnego wyjątku\n",
    "    print(\"Nie można otworzyć pliku\")\n",
    "finally:\n",
    "    plik.close()\n",
    "    print(\"Plik zamkniety\")\n",
    "    "
   ]
  },
  {
   "cell_type": "markdown",
   "id": "19dc6cc9",
   "metadata": {},
   "source": [
    "try-except-else<br>\n",
    "blok else będzie wykonany jeżeli nie będzie zgłoszony wyjątek"
   ]
  },
  {
   "cell_type": "code",
   "execution_count": 19,
   "id": "592bfd8c",
   "metadata": {},
   "outputs": [
    {
     "name": "stdout",
     "output_type": "stream",
     "text": [
      "1\n",
      "Program wykonany\n"
     ]
    }
   ],
   "source": [
    "#x = 1\n",
    "try:\n",
    "    print(x)\n",
    "except:\n",
    "    print(\"Błąd!!!\")\n",
    "else:\n",
    "    print(\"Program zakończony sukcesem\")"
   ]
  },
  {
   "cell_type": "code",
   "execution_count": 22,
   "id": "c4a8a2fe",
   "metadata": {},
   "outputs": [
    {
     "name": "stdout",
     "output_type": "stream",
     "text": [
      "1\n",
      "Program zakończony sukcesem\n",
      "Program wykonany\n"
     ]
    }
   ],
   "source": [
    "#x = 1\n",
    "try:\n",
    "    print(x)\n",
    "except NameError:\n",
    "    print(\"Nie ma takiej zmiennej\")\n",
    "except ZeroDivisionError:\n",
    "    print(\"Nie dziel przez 0\")\n",
    "else:\n",
    "    print(\"Program zakończony sukcesem\")\n",
    "finally:\n",
    "    print(\"Program wykonany\")"
   ]
  },
  {
   "cell_type": "markdown",
   "id": "c74d6ac5",
   "metadata": {},
   "source": [
    "### Wymuszanie wywołania wyjątków\n",
    "Zmuszamy pythona do wywołania wyjątku/błędu"
   ]
  },
  {
   "cell_type": "code",
   "execution_count": 25,
   "id": "2b1812e6",
   "metadata": {},
   "outputs": [
    {
     "name": "stdout",
     "output_type": "stream",
     "text": [
      "Wpisz wage: -1\n",
      "Wpisz wzrost w cm: 100\n"
     ]
    },
    {
     "ename": "ValueError",
     "evalue": "Wpisałeś złe wartości",
     "output_type": "error",
     "traceback": [
      "\u001b[1;31m---------------------------------------------------------------------------\u001b[0m",
      "\u001b[1;31mValueError\u001b[0m                                Traceback (most recent call last)",
      "\u001b[1;32mC:\\Users\\BPOL_1~1\\AppData\\Local\\Temp/ipykernel_9044/2053924823.py\u001b[0m in \u001b[0;36m<module>\u001b[1;34m\u001b[0m\n\u001b[0;32m      5\u001b[0m         \u001b[1;32mraise\u001b[0m \u001b[0mValueError\u001b[0m\u001b[1;33m(\u001b[0m\u001b[1;34m\"Wpisałeś złe wartości\"\u001b[0m\u001b[1;33m)\u001b[0m\u001b[1;33m\u001b[0m\u001b[1;33m\u001b[0m\u001b[0m\n\u001b[0;32m      6\u001b[0m     \u001b[1;32mreturn\u001b[0m \u001b[0mwaga\u001b[0m \u001b[1;33m/\u001b[0m \u001b[1;33m(\u001b[0m\u001b[0mwzrost\u001b[0m\u001b[1;33m/\u001b[0m\u001b[1;36m100\u001b[0m\u001b[1;33m)\u001b[0m\u001b[1;33m^\u001b[0m\u001b[1;36m2\u001b[0m\u001b[1;33m\u001b[0m\u001b[1;33m\u001b[0m\u001b[0m\n\u001b[1;32m----> 7\u001b[1;33m \u001b[0mBMI\u001b[0m\u001b[1;33m(\u001b[0m\u001b[0mwaga\u001b[0m\u001b[1;33m,\u001b[0m \u001b[0mwzrost\u001b[0m\u001b[1;33m)\u001b[0m\u001b[1;33m\u001b[0m\u001b[1;33m\u001b[0m\u001b[0m\n\u001b[0m",
      "\u001b[1;32mC:\\Users\\BPOL_1~1\\AppData\\Local\\Temp/ipykernel_9044/2053924823.py\u001b[0m in \u001b[0;36mBMI\u001b[1;34m(waga, wzrost)\u001b[0m\n\u001b[0;32m      3\u001b[0m \u001b[1;32mdef\u001b[0m \u001b[0mBMI\u001b[0m\u001b[1;33m(\u001b[0m\u001b[0mwaga\u001b[0m\u001b[1;33m,\u001b[0m \u001b[0mwzrost\u001b[0m\u001b[1;33m)\u001b[0m\u001b[1;33m:\u001b[0m\u001b[1;33m\u001b[0m\u001b[1;33m\u001b[0m\u001b[0m\n\u001b[0;32m      4\u001b[0m     \u001b[1;32mif\u001b[0m \u001b[0mwaga\u001b[0m \u001b[1;33m<=\u001b[0m \u001b[1;36m0\u001b[0m \u001b[1;32mor\u001b[0m \u001b[0mwzrost\u001b[0m \u001b[1;33m<\u001b[0m \u001b[1;36m50\u001b[0m\u001b[1;33m:\u001b[0m\u001b[1;33m\u001b[0m\u001b[1;33m\u001b[0m\u001b[0m\n\u001b[1;32m----> 5\u001b[1;33m         \u001b[1;32mraise\u001b[0m \u001b[0mValueError\u001b[0m\u001b[1;33m(\u001b[0m\u001b[1;34m\"Wpisałeś złe wartości\"\u001b[0m\u001b[1;33m)\u001b[0m\u001b[1;33m\u001b[0m\u001b[1;33m\u001b[0m\u001b[0m\n\u001b[0m\u001b[0;32m      6\u001b[0m     \u001b[1;32mreturn\u001b[0m \u001b[0mwaga\u001b[0m \u001b[1;33m/\u001b[0m \u001b[1;33m(\u001b[0m\u001b[0mwzrost\u001b[0m\u001b[1;33m/\u001b[0m\u001b[1;36m100\u001b[0m\u001b[1;33m)\u001b[0m\u001b[1;33m^\u001b[0m\u001b[1;36m2\u001b[0m\u001b[1;33m\u001b[0m\u001b[1;33m\u001b[0m\u001b[0m\n\u001b[0;32m      7\u001b[0m \u001b[0mBMI\u001b[0m\u001b[1;33m(\u001b[0m\u001b[0mwaga\u001b[0m\u001b[1;33m,\u001b[0m \u001b[0mwzrost\u001b[0m\u001b[1;33m)\u001b[0m\u001b[1;33m\u001b[0m\u001b[1;33m\u001b[0m\u001b[0m\n",
      "\u001b[1;31mValueError\u001b[0m: Wpisałeś złe wartości"
     ]
    }
   ],
   "source": [
    "waga = int(input(\"Wpisz wage: \"))\n",
    "wzrost = int(input(\"Wpisz wzrost w cm: \"))\n",
    "def BMI(waga, wzrost):\n",
    "    if waga <= 0 or wzrost < 50:\n",
    "        raise ValueError(\"Wpisałeś złe wartości\")\n",
    "    return waga / (wzrost/100)^2 \n",
    "BMI(waga, wzrost)"
   ]
  },
  {
   "cell_type": "markdown",
   "id": "a7c58531",
   "metadata": {},
   "source": [
    "### Tworzenie własnych klas wyjątków\n",
    "Nie zawsze mamy wyjątki których potrzebujemy. Natomiast sami możemy stworzyc sobie wyjątki, jeżeli potrzebujemy takiego którego nie ma."
   ]
  },
  {
   "cell_type": "code",
   "execution_count": 29,
   "id": "77d21338",
   "metadata": {},
   "outputs": [],
   "source": [
    "class BrakKasy(Exception): #tworzymy klasę, która dziedziczy z klasy Exceptions\n",
    "    pass\n",
    "    "
   ]
  },
  {
   "cell_type": "code",
   "execution_count": 30,
   "id": "c2ae9910",
   "metadata": {},
   "outputs": [
    {
     "ename": "BrakKasy",
     "evalue": "Brakuje Ci pieniędzy",
     "output_type": "error",
     "traceback": [
      "\u001b[1;31m---------------------------------------------------------------------------\u001b[0m",
      "\u001b[1;31mBrakKasy\u001b[0m                                  Traceback (most recent call last)",
      "\u001b[1;32mC:\\Users\\BPOL_1~1\\AppData\\Local\\Temp/ipykernel_9044/2880758983.py\u001b[0m in \u001b[0;36m<module>\u001b[1;34m\u001b[0m\n\u001b[1;32m----> 1\u001b[1;33m \u001b[1;32mraise\u001b[0m \u001b[0mBrakKasy\u001b[0m\u001b[1;33m(\u001b[0m\u001b[1;34m\"Brakuje Ci pieniędzy\"\u001b[0m\u001b[1;33m)\u001b[0m\u001b[1;33m\u001b[0m\u001b[1;33m\u001b[0m\u001b[0m\n\u001b[0m",
      "\u001b[1;31mBrakKasy\u001b[0m: Brakuje Ci pieniędzy"
     ]
    }
   ],
   "source": [
    "raise BrakKasy(\"Brakuje Ci pieniędzy\")"
   ]
  },
  {
   "cell_type": "code",
   "execution_count": 48,
   "id": "37545598",
   "metadata": {},
   "outputs": [],
   "source": [
    "class portfel():\n",
    "    def __init__(self, budzet):\n",
    "        self.budzet = budzet\n",
    "    \n",
    "    def update_budzet(self, zmiana):\n",
    "        if self.budzet >= abs(zmiana):\n",
    "            self.budzet += zmiana\n",
    "            print(self.budzet)\n",
    "        else:\n",
    "            raise BrakKasy(\"Brakuje Ci pieniędzy\")\n",
    "        \n",
    "        \n",
    "        "
   ]
  },
  {
   "cell_type": "code",
   "execution_count": 49,
   "id": "0409bcb7",
   "metadata": {},
   "outputs": [
    {
     "ename": "BrakKasy",
     "evalue": "Brakuje Ci pieniędzy",
     "output_type": "error",
     "traceback": [
      "\u001b[1;31m---------------------------------------------------------------------------\u001b[0m",
      "\u001b[1;31mBrakKasy\u001b[0m                                  Traceback (most recent call last)",
      "\u001b[1;32mC:\\Users\\BPOL_1~1\\AppData\\Local\\Temp/ipykernel_9044/2802928492.py\u001b[0m in \u001b[0;36m<module>\u001b[1;34m\u001b[0m\n\u001b[0;32m      1\u001b[0m \u001b[0mmoj_portfel\u001b[0m \u001b[1;33m=\u001b[0m \u001b[0mportfel\u001b[0m\u001b[1;33m(\u001b[0m\u001b[1;36m1000\u001b[0m\u001b[1;33m)\u001b[0m\u001b[1;33m\u001b[0m\u001b[1;33m\u001b[0m\u001b[0m\n\u001b[0;32m      2\u001b[0m \u001b[0mkoszt_wakacji_w_ciepłym_kraju\u001b[0m \u001b[1;33m=\u001b[0m \u001b[1;36m3500\u001b[0m\u001b[1;33m\u001b[0m\u001b[1;33m\u001b[0m\u001b[0m\n\u001b[1;32m----> 3\u001b[1;33m \u001b[0mmoj_portfel\u001b[0m\u001b[1;33m.\u001b[0m\u001b[0mupdate_budzet\u001b[0m\u001b[1;33m(\u001b[0m\u001b[1;33m-\u001b[0m\u001b[0mkoszt_wakacji_w_ciepłym_kraju\u001b[0m\u001b[1;33m)\u001b[0m\u001b[1;33m\u001b[0m\u001b[1;33m\u001b[0m\u001b[0m\n\u001b[0m\u001b[0;32m      4\u001b[0m \u001b[1;33m\u001b[0m\u001b[0m\n",
      "\u001b[1;32mC:\\Users\\BPOL_1~1\\AppData\\Local\\Temp/ipykernel_9044/1601981173.py\u001b[0m in \u001b[0;36mupdate_budzet\u001b[1;34m(self, zmiana)\u001b[0m\n\u001b[0;32m      8\u001b[0m             \u001b[0mprint\u001b[0m\u001b[1;33m(\u001b[0m\u001b[0mself\u001b[0m\u001b[1;33m.\u001b[0m\u001b[0mbudzet\u001b[0m\u001b[1;33m)\u001b[0m\u001b[1;33m\u001b[0m\u001b[1;33m\u001b[0m\u001b[0m\n\u001b[0;32m      9\u001b[0m         \u001b[1;32melse\u001b[0m\u001b[1;33m:\u001b[0m\u001b[1;33m\u001b[0m\u001b[1;33m\u001b[0m\u001b[0m\n\u001b[1;32m---> 10\u001b[1;33m             \u001b[1;32mraise\u001b[0m \u001b[0mBrakKasy\u001b[0m\u001b[1;33m(\u001b[0m\u001b[1;34m\"Brakuje Ci pieniędzy\"\u001b[0m\u001b[1;33m)\u001b[0m\u001b[1;33m\u001b[0m\u001b[1;33m\u001b[0m\u001b[0m\n\u001b[0m\u001b[0;32m     11\u001b[0m \u001b[1;33m\u001b[0m\u001b[0m\n\u001b[0;32m     12\u001b[0m \u001b[1;33m\u001b[0m\u001b[0m\n",
      "\u001b[1;31mBrakKasy\u001b[0m: Brakuje Ci pieniędzy"
     ]
    }
   ],
   "source": [
    "moj_portfel = portfel(1000)\n",
    "koszt_wakacji_w_ciepłym_kraju = 3500\n",
    "moj_portfel.update_budzet(-koszt_wakacji_w_ciepłym_kraju)\n",
    "\n"
   ]
  },
  {
   "cell_type": "markdown",
   "id": "a4536245",
   "metadata": {},
   "source": [
    "### Zadania"
   ]
  },
  {
   "cell_type": "markdown",
   "id": "ae25b194",
   "metadata": {},
   "source": [
    "__Zadanie 1__<br>\n",
    "Spróbuj otworzyć plik w formacie txt. Dodaj wyjątki obsługujące możliwe błędy przy otwieraniu pliku. Użyj bloku try-except-else-finally."
   ]
  },
  {
   "cell_type": "markdown",
   "id": "5773eaf7",
   "metadata": {},
   "source": [
    "__Zadanie 2__<br>\n",
    "Zbuduj klasę student opisującą główne cechy studenta (numer indeksu, kierunek itd)"
   ]
  },
  {
   "cell_type": "markdown",
   "id": "fff64732",
   "metadata": {},
   "source": [
    "__Zadanie 3__<br>\n",
    "Stwórz własne wyjątki które mogą wystąpić w klasie i dodaj je do klasy."
   ]
  },
  {
   "cell_type": "markdown",
   "id": "99e39ba6",
   "metadata": {},
   "source": [
    "__Zadanie 4__<br>\n",
    "Wywołaj klase wielokrotnie z takami parametrami, które mogą powodować błędy. Sprawdź czy wywoływanie wyjątków działa."
   ]
  },
  {
   "cell_type": "markdown",
   "id": "1f02931b",
   "metadata": {},
   "source": [
    "__Zadanie 5__<br>\n",
    "Stwórz wyjątek zlaWilgotnosc. Zbuduj funkcję która wyświetli wilgotność w pomieszczeniu zdefiniowaną przez użytkownika. Wyjątek powinien być wywołany gdy wilgotność <0% lub >100%. Wywołaj funkcję z błędem."
   ]
  }
 ],
 "metadata": {
  "kernelspec": {
   "display_name": "Python 3 (ipykernel)",
   "language": "python",
   "name": "python3"
  },
  "language_info": {
   "codemirror_mode": {
    "name": "ipython",
    "version": 3
   },
   "file_extension": ".py",
   "mimetype": "text/x-python",
   "name": "python",
   "nbconvert_exporter": "python",
   "pygments_lexer": "ipython3",
   "version": "3.8.10"
  }
 },
 "nbformat": 4,
 "nbformat_minor": 5
}
