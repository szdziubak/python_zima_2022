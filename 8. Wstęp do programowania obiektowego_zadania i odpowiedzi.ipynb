{
 "cells": [
  {
   "cell_type": "markdown",
   "id": "9bd81450",
   "metadata": {},
   "source": [
    "# Wstęp do programowania obiektowego\n",
    "\n",
    "Szymon Dziubak"
   ]
  },
  {
   "cell_type": "markdown",
   "id": "6f317947",
   "metadata": {},
   "source": [
    "### Zadania"
   ]
  },
  {
   "cell_type": "markdown",
   "id": "170f7665",
   "metadata": {},
   "source": [
    "__Zadanie 1__<br>\n",
    "Przygotuj klasę o nazwie Restaurant. Metoda init() w klasie Restaurant powinna przechowywać dwa atrybuty: restaurant_name i cuisine_type. Utwórz metodę o nazwie describe_restaurant() wyświetlającą te dwa fragmenty informacji oraz metodę o nazwie open_restaurant wyświetlającą informację o godzinach pracy restauracji."
   ]
  },
  {
   "cell_type": "code",
   "execution_count": 5,
   "id": "ee606f39",
   "metadata": {},
   "outputs": [],
   "source": [
    "class Restaurant:\n",
    "    def __init__(self, restaurant_name, cuisine_type):\n",
    "        self.restaurant_name = restaurant_name\n",
    "        self.cuisine_type = cuisine_type\n",
    "    def describe_restaurant(self):\n",
    "        print(\"Restaurant name: \" + str(self.restaurant_name))\n",
    "        print(\"Cuisine type: \" + str(self.cuisine_type))\n",
    "    def open_restaurant(self):\n",
    "        print(\"Open: 11AM - 10PM\")"
   ]
  },
  {
   "cell_type": "markdown",
   "id": "69ba2871",
   "metadata": {},
   "source": [
    "__Zadanie 2__<br>\n",
    "Bazując na klasie z zadania 1 utwórz trzy różne egzemplarze a następnie wywołaj metodę describe_restaurant() dla każdego egzemplarza."
   ]
  },
  {
   "cell_type": "code",
   "execution_count": 6,
   "id": "e40cb4dd",
   "metadata": {},
   "outputs": [
    {
     "name": "stdout",
     "output_type": "stream",
     "text": [
      "Restaurant name: Thien Ly\n",
      "Cuisine type: azjatycka\n",
      "Open: 11AM - 10PM\n"
     ]
    }
   ],
   "source": [
    "restauracja = Restaurant(\"Thien Ly\", \"azjatycka\")\n",
    "restauracja.describe_restaurant()\n",
    "restauracja.open_restaurant()"
   ]
  },
  {
   "cell_type": "markdown",
   "id": "20f1888f",
   "metadata": {},
   "source": [
    "__Zadanie 3__<br>\n",
    "Do stworzonej klasy dodaj atrybut number_served o wartości domyślnej 0. Następnie na podstawie klasy utwórz egzemplarz o nazwie restaurant. Wyświetl liczbę klientów obsłużonych przez tę restaurację, zmień jej wartość i wyświetl nową.\n"
   ]
  },
  {
   "cell_type": "code",
   "execution_count": 11,
   "id": "26826c9d",
   "metadata": {},
   "outputs": [],
   "source": [
    "class Restaurant:\n",
    "    def __init__(self, restaurant_name, cuisine_type, number_served = 0):\n",
    "        self.restaurant_name = restaurant_name\n",
    "        self.cuisine_type = cuisine_type\n",
    "        self.number_served = number_served\n",
    "    def describe_restaurant(self):\n",
    "        print(\"Restaurant name: \" + str(self.restaurant_name))\n",
    "        print(\"Cuisine type: \" + str(self.cuisine_type))\n",
    "    def open_restaurant(self):\n",
    "        print(\"Open: 11AM - 10PM\")"
   ]
  },
  {
   "cell_type": "code",
   "execution_count": 12,
   "id": "d6ba128b",
   "metadata": {},
   "outputs": [
    {
     "name": "stdout",
     "output_type": "stream",
     "text": [
      "0\n",
      "10\n"
     ]
    }
   ],
   "source": [
    "restaurant = Restaurant(\"Thien Ly\", \"azjatycka\")\n",
    "print(restaurant.number_served)\n",
    "restaurant.number_served = 10\n",
    "print(restaurant.number_served)"
   ]
  },
  {
   "cell_type": "markdown",
   "id": "89d473ae",
   "metadata": {},
   "source": [
    "__Zadanie 4__<br>\n",
    "Dodaj metodę set_number_served() pozwalającą na zdefiniowanie liczby obsłużonych klientów.\n",
    "Wywołaj ją."
   ]
  },
  {
   "cell_type": "code",
   "execution_count": 16,
   "id": "0d90834c",
   "metadata": {},
   "outputs": [],
   "source": [
    "class Restaurant:\n",
    "    def __init__(self, restaurant_name, cuisine_type):\n",
    "        self.restaurant_name = restaurant_name\n",
    "        self.cuisine_type = cuisine_type\n",
    "        self.number_served = 0\n",
    "    def describe_restaurant(self):\n",
    "        print(\"Restaurant name: \" + str(self.restaurant_name))\n",
    "        print(\"Cuisine type: \" + str(self.cuisine_type))\n",
    "    def open_restaurant(self):\n",
    "        print(\"Open: 11AM - 10PM\")\n",
    "    def set_number_served(self, number_served):\n",
    "        self.number_served = number_served\n",
    "        print(\"Number served: \"+str(self.number_served))"
   ]
  },
  {
   "cell_type": "code",
   "execution_count": 17,
   "id": "d9402677",
   "metadata": {},
   "outputs": [
    {
     "name": "stdout",
     "output_type": "stream",
     "text": [
      "Number served: 10\n",
      "10\n"
     ]
    }
   ],
   "source": [
    "restaurant = Restaurant(\"Thien Ly\", \"azjatycka\")\n",
    "restaurant.set_number_served(10)\n",
    "print(restaurant.number_served)"
   ]
  },
  {
   "cell_type": "markdown",
   "id": "caf26f69",
   "metadata": {},
   "source": [
    "__Zadanie 5__<br>\n",
    "Dodaj metodę increment_number_served() pozwalającą na inkrementację liczby obsłużonych klientów. Wywołaj ją kilka razy."
   ]
  },
  {
   "cell_type": "code",
   "execution_count": 18,
   "id": "e81cdb25",
   "metadata": {},
   "outputs": [],
   "source": [
    "class Restaurant:\n",
    "    def __init__(self, restaurant_name, cuisine_type):\n",
    "        self.restaurant_name = restaurant_name\n",
    "        self.cuisine_type = cuisine_type\n",
    "        self.number_served = 0\n",
    "    def describe_restaurant(self):\n",
    "        print(\"Restaurant name: \" + str(self.restaurant_name))\n",
    "        print(\"Cuisine type: \" + str(self.cuisine_type))\n",
    "    def open_restaurant(self):\n",
    "        print(\"Open: 11AM - 10PM\")\n",
    "    def increment_number_served(self, increment):\n",
    "        self.number_served += increment\n",
    "        print(\"Number served: \"+str(self.number_served))"
   ]
  },
  {
   "cell_type": "code",
   "execution_count": 19,
   "id": "443ceefe",
   "metadata": {},
   "outputs": [
    {
     "name": "stdout",
     "output_type": "stream",
     "text": [
      "Number served: 10\n",
      "10\n",
      "Number served: 18\n",
      "18\n",
      "Number served: 31\n",
      "31\n"
     ]
    }
   ],
   "source": [
    "restaurant = Restaurant(\"Thien Ly\", \"azjatycka\")\n",
    "restaurant.increment_number_served(10)\n",
    "print(restaurant.number_served)\n",
    "restaurant.increment_number_served(8)\n",
    "print(restaurant.number_served)\n",
    "restaurant.increment_number_served(13)\n",
    "print(restaurant.number_served)"
   ]
  }
 ],
 "metadata": {
  "kernelspec": {
   "display_name": "Python 3 (ipykernel)",
   "language": "python",
   "name": "python3"
  },
  "language_info": {
   "codemirror_mode": {
    "name": "ipython",
    "version": 3
   },
   "file_extension": ".py",
   "mimetype": "text/x-python",
   "name": "python",
   "nbconvert_exporter": "python",
   "pygments_lexer": "ipython3",
   "version": "3.8.10"
  }
 },
 "nbformat": 4,
 "nbformat_minor": 5
}
