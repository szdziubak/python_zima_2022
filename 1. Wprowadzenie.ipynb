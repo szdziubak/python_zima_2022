{
 "cells": [
  {
   "cell_type": "markdown",
   "id": "6524390e",
   "metadata": {},
   "source": [
    "# Podstawy programowania w języku Python\n",
    "\n",
    "### Zajęcia w poniedziałki o 9.50 i 11.40\n",
    "### Prowadzący: Szymon Dziubak\n",
    "### Kontakt: sdziuba@sgh.waw.pl\n"
   ]
  },
  {
   "cell_type": "code",
   "execution_count": 2,
   "id": "2dcbbfdf",
   "metadata": {},
   "outputs": [
    {
     "data": {
      "text/plain": [
       "False"
      ]
     },
     "execution_count": 2,
     "metadata": {},
     "output_type": "execute_result"
    }
   ],
   "source": [
    "bool([])"
   ]
  },
  {
   "cell_type": "markdown",
   "id": "b9d3a53f",
   "metadata": {},
   "source": [
    "### Zakres tematów zajęć\n",
    "\n",
    "1. Klasyfikacja języków programowania, podstawowe własności języka Python, cechy odróżniające język Python od innych popularnych \n",
    "języków programowania.\n",
    "2. Omówienie podstawowych typów występujących w języku Python. Operatory. Instrukcja przypisania, praca z interpreterem języka Python.\n",
    "3. Instrukcje sterujące: warunkowa, instrukcja wyboru, pętle. Przykłady i ćwiczenia budowane w oparciu o podstawowe algorytmy \n",
    "matematyczne.\n",
    "4. Dekompozycja, tworzenie funkcji.\n",
    "5. Tablice, krotki, listy.\n",
    "6. Rekursja, typy słownikowe.\n",
    "7. Obsługa plików.\n",
    "8. Operacje datowe i czasowe.\n",
    "9. Omówienie paradygmatu programowania obiektowego. Definicja klasy.\n",
    "10. Tworzenie klas i wykorzystywanie obiektów.\n",
    "11. Dziedziczenie i polimorfizm.\n",
    "12. Obsługa wyjątków. Tworzenie własnych klas wyjątków. Wymuszanie obsługi wyjątków.\n",
    "13. Moduły, biblioteki, pakiety.\n",
    "14. Programy w języku Python jako moduły lub skrypty systemowe.\n",
    "15. Analiza danych za pomocą języka Python - omówienie bibliotek NumPy i Pandas.\n",
    "+omówimy podstawy markdown\n",
    "\n"
   ]
  },
  {
   "cell_type": "markdown",
   "id": "2a73ffca",
   "metadata": {},
   "source": [
    "### Zaliczenie:\n",
    "Egzamin: 60% (60 punktów)<br>\n",
    "Projekt/Prace domowe: 40% (40 punktów)<br>\n",
    "\n",
    "Alternatywnie projekt"
   ]
  },
  {
   "cell_type": "markdown",
   "id": "a7d1595a",
   "metadata": {},
   "source": [
    "### Prace domowe:\n",
    "5-6 prac domowych, każda po 10-12 punktów <br>\n",
    "Czas na wysłanie prac domowych: 2 tygodnie <br>\n",
    "\n",
    "Proszę o wysyłanie prac domowych mailem:<br>\n",
    "tytuł maila: python<br>\n",
    "nazwa załącznika: {numer pracy domowej}_{numer_indeksu} np. 3_77665.ipynb lub .py<br>\n",
    "\n",
    "Proszę o wysłanie jednego załącznika<br>\n"
   ]
  },
  {
   "cell_type": "markdown",
   "id": "f4ffc37f",
   "metadata": {},
   "source": [
    "### Zaliczenie\n",
    "Łącznie student może uzyskać 100 pkt:<br>\n",
    "51 – 60 - 3<br>\n",
    "61 – 70 – 3,5<br>\n",
    "71 – 80 – 4<br>\n",
    "81 - 90 – 4,5<br>\n",
    "91 – 100 – 5 <br>\n"
   ]
  },
  {
   "cell_type": "markdown",
   "id": "6229b5ff",
   "metadata": {},
   "source": [
    "### Literatura\n",
    "Literatura podstawowa:<br>\n",
    "Python 3. Proste wprowadzenie do fascynującego świata programowania, Zed A, Shaw, Helion 2018<br>\n",
    "Literatura uzupełniająca:<br>\n",
    "Python w analizie danych. Przetwarzanie danych za pomocą pakietów Pandas i NumPy oraz środowiska IPython, Wydanie II, Wes \n",
    "McKinney, Helion 2018\n",
    "\n",
    "Od siebie polecam:<br>\n",
    "Python: Instrukcje dla programisty, Eric Matthes, Helion 2019 (podstawy pythona + projekty)<br>\n",
    "Python: Wprowadzenie, Mark Lutz, O'Reilly 2020 (dla fanów pythona - 1400 stron czystego pythona) <br>\n",
    "Python i praca z danymi: Przetwarzanie, analiza, modelowanie i wizualizacja, Avinash Navlani, Packt Publishing 2021 (dla data scientistów)<br>\n",
    "\n",
    "\n"
   ]
  },
  {
   "cell_type": "markdown",
   "id": "9fbdcd93",
   "metadata": {},
   "source": [
    "## Zaczynamy"
   ]
  },
  {
   "cell_type": "markdown",
   "id": "3434e1be",
   "metadata": {},
   "source": [
    "### Klasyfikacja języków programowania\n",
    "Ze względu na sposób wykonania:\n",
    "* kompilowalne\n",
    "* interpretowalne\n",
    "* dynamiczne\n",
    "\n",
    "Ze względu na poziom wykonywania programu:\n",
    "* języki wysokiego poziomu\n",
    "* języki niskiego poziomu (maszynowe)\n",
    "\n",
    "Python jest dynamicznie typowanym językiem interpretowanym wysokiego poziomu.\n"
   ]
  },
  {
   "cell_type": "markdown",
   "id": "1f7033b7",
   "metadata": {},
   "source": [
    "Zalety pythona:\n",
    "* jakość oprogramowania - czytelność, zrozumiałość\n",
    "* wydajność programistów - 1/3 do 1/5 linijek tego samego kodu co w C++ czy Javie\n",
    "* przenośność pomiędzy systemami operacyjnymi\n",
    "* obsługa bibliotek - wiele wbudowanych i dodatkowych bibliotek\n",
    "* integracja komponentów z innymi językami czy interfejsmi\n",
    "* uniwersalność - zorientowany obiektowo skryptowy język programowania\n",
    "\n",
    "Wady pythona:\n",
    "* wolniejszy niż języki nizkopoziomowe czy kompilowalne (np. C++)\n",
    "* szybkie tempo rozwoju prowadzące do wzrostu skomplikowania"
   ]
  },
  {
   "cell_type": "markdown",
   "id": "f0600b0c",
   "metadata": {},
   "source": [
    "Python od strony technicznej:\n",
    "* zorientowany obiektowo i funkcyjny\n",
    "* darmowy\n",
    "* przenośny pomiędzy platformami - Python napisany jest w ANSI C\n",
    "* ma duże możliwości\n",
    "* można go łączyć z innymi językami - np. API dla języka C\n",
    "\n"
   ]
  },
  {
   "cell_type": "markdown",
   "id": "9d6a9fb1",
   "metadata": {},
   "source": [
    "Python na tle innych języków:\n",
    "* bardziej czytelny niż C, Perl czy Java\n",
    "* prostszy i łatwiejszy w uzyciu niż C++ czy Java\n",
    "* bardziej uniwersalny niż JavaScript czy PHP\n",
    "* dojżalszy niż Lua czy Julia"
   ]
  },
  {
   "cell_type": "markdown",
   "id": "995a7e39",
   "metadata": {},
   "source": [
    "Przykłady wykorszystania pythona:\n",
    "* Google - część wyszukiwarki jest napisana w pythonie\n",
    "* Youtube - wieksza część portalu korzysta z pythona\n",
    "* NSA - kryptografia i analiza wywiadowcza\n",
    "* Intel, Cisco - testowanie urządzeń\n",
    "* JP Morgan, UBS - aplikacje finansowe\n",
    "* iRobot (a więc i Roomba) - oprogramowanie do robotów"
   ]
  },
  {
   "cell_type": "markdown",
   "id": "e42d3b64",
   "metadata": {},
   "source": [
    "Do czego możemy użyć pythona:\n",
    "* programowanie systemowe - narzędzia powłoki (shell) do wykonywania operacji w systemie opracyjnym\n",
    "* Graficzne Interfejsy Użytkownika (GUI) - tkinter API\n",
    "* sklepy internetowe - Django, TurboGears\n",
    "* integracja komponentów - rozszerzenie pythona o C czy C++\n",
    "* programowanie bazodanowe - interfejsy do Oracle, MySQL czy PostgreSQL + SQLAlchemy\n",
    "* programy numeryczne i naukowe\n",
    "* robotyka\n",
    "* analiza i wizualizacja danych\n"
   ]
  },
  {
   "cell_type": "markdown",
   "id": "8594c15f",
   "metadata": {},
   "source": [
    "### Środowiska programistyczne Pythona\n",
    "To, w jakim środowisku będziemy tworzyć aplikacje zależy od nas. Środowiska możemy izolować od siebie na poziomie aplikacji i na poziomie systemu.\n",
    "Na poziomie aplikacji możemy tworzyć wirtualne środowiska (venv). Pokazane jest to w pliku \"1. Wprowadzenie R.py\".\n",
    "Na poziomie systemu może to być konteneryzacja (np. Docker) albo wirtualna maszyna."
   ]
  }
 ],
 "metadata": {
  "kernelspec": {
   "display_name": "Python 3 (ipykernel)",
   "language": "python",
   "name": "python3"
  },
  "language_info": {
   "codemirror_mode": {
    "name": "ipython",
    "version": 3
   },
   "file_extension": ".py",
   "mimetype": "text/x-python",
   "name": "python",
   "nbconvert_exporter": "python",
   "pygments_lexer": "ipython3",
   "version": "3.8.10"
  }
 },
 "nbformat": 4,
 "nbformat_minor": 5
}
