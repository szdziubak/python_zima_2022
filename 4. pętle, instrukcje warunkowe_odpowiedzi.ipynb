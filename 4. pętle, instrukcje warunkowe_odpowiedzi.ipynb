{
 "cells": [
  {
   "cell_type": "markdown",
   "id": "e20adb9f",
   "metadata": {},
   "source": [
    "# Pętle, instrukcje warunkowe\n",
    "\n",
    "Szymon Dziubak"
   ]
  },
  {
   "cell_type": "markdown",
   "id": "2b507f65",
   "metadata": {},
   "source": [
    "### Konstrukcja warunkowa if"
   ]
  },
  {
   "cell_type": "markdown",
   "id": "3571517f",
   "metadata": {},
   "source": [
    "Konstrukcja:<br>\n",
    "`\n",
    "if warunek:\n",
    "    akcja\n",
    "elif warunek:\n",
    "    akcja\n",
    "elif warunek:\n",
    "    akcja\n",
    "else:\n",
    "    akcja\n",
    "`"
   ]
  },
  {
   "cell_type": "code",
   "execution_count": null,
   "id": "c5bef75e",
   "metadata": {},
   "outputs": [],
   "source": [
    "#test warunkowy:\n",
    "auto = 'Kia'\n",
    "auto == 'Kia'"
   ]
  },
  {
   "cell_type": "code",
   "execution_count": null,
   "id": "47b157a2",
   "metadata": {},
   "outputs": [],
   "source": [
    "auto.upper() != 'Kia'"
   ]
  },
  {
   "cell_type": "code",
   "execution_count": null,
   "id": "f74df123",
   "metadata": {},
   "outputs": [],
   "source": [
    "koreanskie_auta = ['Kia', 'Hyundai', 'Daewoo']\n",
    "niemieckie_auta = ['Audi', 'Opel', 'BMW', 'Mercedes', 'Porshe']\n",
    "japonskie_auta = ['Mazda', 'Lexus', 'Toyota', 'Nissan', 'Honda']\n",
    "'Nissan' in koreanskie_auta"
   ]
  },
  {
   "cell_type": "code",
   "execution_count": null,
   "id": "93701928",
   "metadata": {},
   "outputs": [],
   "source": [
    "niemieckie_auta = ['Audi', 'Opel', 'BMW', 'Mercedes', 'Porshe']\n",
    "japonskie_auta = ['Mazda', 'Lexus', 'Toyota', 'Nissan', 'Honda']\n",
    "koreanskie_auta = ['Kia', 'Hyundai', 'Daewoo']\n",
    "\n",
    "auto = 'toyota'\n",
    "wiek = 17\n",
    "if auto.title() in niemieckie_auta:\n",
    "    print(f'{auto.title()} to niemieckie auto')\n",
    "    if wiek >= 18:\n",
    "        print(\"Twoje auto jest już pełnoletnie\")\n",
    "elif auto.title() in japonskie_auta:\n",
    "    print(f'{auto.title()} to japonskie auto')\n",
    "    if wiek >= 18:\n",
    "        print(\"Twoje auto jest już pełnoletnie\")\n",
    "elif auto.title() in koreanskie_auta:\n",
    "    print(f'{auto.title()} to koreanskie auto')\n",
    "    if wiek >= 18:\n",
    "        print(\"Twoje auto jest już pełnoletnie\")\n",
    "else:\n",
    "    print(f\"{auto.title()} pochodzi z niezdefiniowanego kraju\")"
   ]
  },
  {
   "cell_type": "markdown",
   "id": "c5c57794",
   "metadata": {},
   "source": [
    "### Pętla for"
   ]
  },
  {
   "cell_type": "markdown",
   "id": "e80e9a4d",
   "metadata": {},
   "source": [
    "Konstrukcja<br>\n",
    "`\n",
    "for element in objekt:\n",
    "    akcja\n",
    "`"
   ]
  },
  {
   "cell_type": "code",
   "execution_count": 1,
   "id": "2eec75df",
   "metadata": {},
   "outputs": [
    {
     "name": "stdout",
     "output_type": "stream",
     "text": [
      "1\n",
      "2\n",
      "3\n",
      "4\n",
      "5\n",
      "6\n",
      "7\n",
      "8\n",
      "9\n"
     ]
    }
   ],
   "source": [
    "for i in range(1,10):\n",
    "    print(i)"
   ]
  },
  {
   "cell_type": "code",
   "execution_count": 3,
   "id": "110cc2fc",
   "metadata": {},
   "outputs": [
    {
     "name": "stdout",
     "output_type": "stream",
     "text": [
      "Alphabet to amerykański wytwórca orpogramowania\n",
      "Microsoft to amerykański wytwórca orpogramowania\n",
      "Ibm to amerykański wytwórca orpogramowania\n",
      "Oracle to amerykański wytwórca orpogramowania\n",
      "Salesforce to amerykański wytwórca orpogramowania\n"
     ]
    }
   ],
   "source": [
    "for firma in ['Alphabet', 'Microsoft', 'IBM', 'Oracle', 'Salesforce']:\n",
    "    print(f\"{firma.title()} to amerykański wytwórca orpogramowania\")"
   ]
  },
  {
   "cell_type": "code",
   "execution_count": 10,
   "id": "ef8c33ca",
   "metadata": {
    "scrolled": true
   },
   "outputs": [
    {
     "name": "stdout",
     "output_type": "stream",
     "text": [
      "1*1=1\n",
      "1*2=2\n",
      "1*3=3\n",
      "1*4=4\n",
      "1*5=5\n",
      "1*6=6\n",
      "1*7=7\n",
      "1*8=8\n",
      "1*9=9\n",
      "1*10=10\n",
      "2*1=2\n",
      "2*2=4\n",
      "2*3=6\n",
      "2*4=8\n",
      "2*5=10\n",
      "2*6=12\n",
      "2*7=14\n",
      "2*8=16\n",
      "2*9=18\n",
      "2*10=20\n",
      "3*1=3\n",
      "3*2=6\n",
      "3*3=9\n",
      "3*4=12\n",
      "3*5=15\n",
      "3*6=18\n",
      "3*7=21\n",
      "3*8=24\n",
      "3*9=27\n",
      "3*10=30\n",
      "4*1=4\n",
      "4*2=8\n",
      "4*3=12\n",
      "4*4=16\n",
      "4*5=20\n",
      "4*6=24\n",
      "4*7=28\n",
      "4*8=32\n",
      "4*9=36\n",
      "4*10=40\n",
      "5*1=5\n",
      "5*2=10\n",
      "5*3=15\n",
      "5*4=20\n",
      "5*5=25\n",
      "5*6=30\n",
      "5*7=35\n",
      "5*8=40\n",
      "5*9=45\n",
      "5*10=50\n",
      "6*1=6\n",
      "6*2=12\n",
      "6*3=18\n",
      "6*4=24\n",
      "6*5=30\n",
      "6*6=36\n",
      "6*7=42\n",
      "6*8=48\n",
      "6*9=54\n",
      "6*10=60\n",
      "7*1=7\n",
      "7*2=14\n",
      "7*3=21\n",
      "7*4=28\n",
      "7*5=35\n",
      "7*6=42\n",
      "7*7=49\n",
      "7*8=56\n",
      "7*9=63\n",
      "7*10=70\n",
      "8*1=8\n",
      "8*2=16\n",
      "8*3=24\n",
      "8*4=32\n",
      "8*5=40\n",
      "8*6=48\n",
      "8*7=56\n",
      "8*8=64\n",
      "8*9=72\n",
      "8*10=80\n",
      "9*1=9\n",
      "9*2=18\n",
      "9*3=27\n",
      "9*4=36\n",
      "9*5=45\n",
      "9*6=54\n",
      "9*7=63\n",
      "9*8=72\n",
      "9*9=81\n",
      "9*10=90\n",
      "10*1=10\n",
      "10*2=20\n",
      "10*3=30\n",
      "10*4=40\n",
      "10*5=50\n",
      "10*6=60\n",
      "10*7=70\n",
      "10*8=80\n",
      "10*9=90\n",
      "10*10=100\n"
     ]
    }
   ],
   "source": [
    "#tabliczka mnożenia\n",
    "lista_a = [1,2,3,4,5,6,7,8,9,10]\n",
    "lista_b = lista_a[:]\n",
    "for a in lista_a:\n",
    "    for b in lista_b:\n",
    "        print(f\"{a}*{b}={a*b}\")"
   ]
  },
  {
   "cell_type": "code",
   "execution_count": 6,
   "id": "fd2261e7",
   "metadata": {},
   "outputs": [
    {
     "name": "stdout",
     "output_type": "stream",
     "text": [
      "1) Alphabet\n",
      "2) Microsoft\n",
      "3) IBM\n",
      "4) Oracle\n",
      "5) Salesforce\n"
     ]
    }
   ],
   "source": [
    "lista = ['Alphabet', 'Microsoft', 'IBM', 'Oracle', 'Salesforce']\n",
    "for i, element in enumerate(lista):\n",
    "    print(f\"{i+1}) {element}\")"
   ]
  },
  {
   "cell_type": "markdown",
   "id": "ea7b7495",
   "metadata": {},
   "source": [
    "### Pętla while"
   ]
  },
  {
   "cell_type": "markdown",
   "id": "033ac8b7",
   "metadata": {},
   "source": [
    "Konstrukcja<br>\n",
    "`\n",
    "while True:\n",
    "    akcja\n",
    "`"
   ]
  },
  {
   "cell_type": "code",
   "execution_count": 28,
   "id": "629774d5",
   "metadata": {},
   "outputs": [
    {
     "name": "stdout",
     "output_type": "stream",
     "text": [
      "1\n",
      "2\n",
      "3\n",
      "4\n",
      "5\n"
     ]
    }
   ],
   "source": [
    "numer = 1\n",
    "while numer <= 5: #trzeba uważać na pętle nieskończone\n",
    "    print(numer)\n",
    "    numer += 1"
   ]
  },
  {
   "cell_type": "code",
   "execution_count": 27,
   "id": "bee11903",
   "metadata": {},
   "outputs": [
    {
     "name": "stdout",
     "output_type": "stream",
     "text": [
      "1:0.8771729640285172\n",
      "2:0.05240609107031798\n",
      "3:0.033970688726145004\n",
      "4:0.022880952012349413\n",
      "5:0.0062931090533387135\n",
      "6:0.0043748057113931265\n",
      "7:0.0002453592445759148\n"
     ]
    }
   ],
   "source": [
    "import random #moduł do liczb losowych\n",
    "#random.random()# liczba losowa od 0 do 1\n",
    "numer = 1\n",
    "iter = 1\n",
    "while numer > 3e-3: #3*10^(-3)\n",
    "    numer *= random.random()\n",
    "    print(f\"{iter}:{numer}\")\n",
    "    iter += 1"
   ]
  },
  {
   "cell_type": "code",
   "execution_count": 40,
   "id": "e1e31d15",
   "metadata": {},
   "outputs": [
    {
     "name": "stdout",
     "output_type": "stream",
     "text": [
      "Numer  2\n",
      "Numer  3\n",
      "Numer  4\n",
      "Numer  5\n",
      "Numer  6\n",
      "Numer  7\n",
      "Numer  8\n",
      "Numer  9\n",
      "Numer  10\n",
      "Numer  11\n",
      "Numer  12\n",
      "Numer  13\n",
      "Numer  14\n",
      "Koniec pętli\n"
     ]
    }
   ],
   "source": [
    "n = 1\n",
    "while n < 20:\n",
    "    n += 1\n",
    "    if n == 15:\n",
    "        break\n",
    "    print(\"Numer \", n)\n",
    "print(\"Koniec pętli\")"
   ]
  },
  {
   "cell_type": "code",
   "execution_count": 41,
   "id": "b4330ceb",
   "metadata": {},
   "outputs": [
    {
     "name": "stdout",
     "output_type": "stream",
     "text": [
      "Numer  2\n",
      "Numer  3\n",
      "Numer  4\n",
      "Numer  5\n",
      "Numer  6\n",
      "Numer  7\n",
      "Numer  8\n",
      "Numer  9\n",
      "Numer  10\n",
      "Numer  11\n",
      "Numer  12\n",
      "Numer  13\n",
      "Numer  14\n",
      "Numer  16\n",
      "Numer  17\n",
      "Numer  18\n",
      "Numer  19\n",
      "Numer  20\n",
      "Koniec pętli\n"
     ]
    }
   ],
   "source": [
    "n = 1\n",
    "while n < 20:\n",
    "    n += 1\n",
    "    if n == 15:\n",
    "        continue\n",
    "    print(\"Numer \", n)\n",
    "print(\"Koniec pętli\")"
   ]
  },
  {
   "cell_type": "markdown",
   "id": "463138e8",
   "metadata": {},
   "source": [
    "Polecenia break i continue z pętlą for"
   ]
  },
  {
   "cell_type": "code",
   "execution_count": 42,
   "id": "66629e69",
   "metadata": {},
   "outputs": [
    {
     "name": "stdout",
     "output_type": "stream",
     "text": [
      "Numer  1\n",
      "Numer  2\n",
      "Numer  3\n",
      "Numer  4\n",
      "Numer  5\n",
      "Numer  6\n",
      "Numer  7\n",
      "Numer  8\n",
      "Numer  9\n",
      "Numer  10\n",
      "Numer  11\n",
      "Numer  12\n",
      "Numer  13\n",
      "Numer  14\n",
      "Koniec pętli\n"
     ]
    }
   ],
   "source": [
    "n = 1\n",
    "for n in range(n, 20):\n",
    "    if n == 15:\n",
    "        break\n",
    "    print(\"Numer \", n)\n",
    "print(\"Koniec pętli\")"
   ]
  },
  {
   "cell_type": "code",
   "execution_count": 43,
   "id": "25a1109a",
   "metadata": {},
   "outputs": [
    {
     "name": "stdout",
     "output_type": "stream",
     "text": [
      "Numer  1\n",
      "Numer  2\n",
      "Numer  3\n",
      "Numer  4\n",
      "Numer  5\n",
      "Numer  6\n",
      "Numer  7\n",
      "Numer  8\n",
      "Numer  9\n",
      "Numer  10\n",
      "Numer  11\n",
      "Numer  12\n",
      "Numer  13\n",
      "Numer  14\n",
      "Numer  16\n",
      "Numer  17\n",
      "Numer  18\n",
      "Numer  19\n",
      "Koniec pętli\n"
     ]
    }
   ],
   "source": [
    "n = 1\n",
    "for n in range(n, 20):\n",
    "    if n == 15:\n",
    "        continue\n",
    "    print(\"Numer \", n)\n",
    "print(\"Koniec pętli\")"
   ]
  },
  {
   "cell_type": "markdown",
   "id": "7ced231a",
   "metadata": {},
   "source": [
    "### Wszystko razem - zadania"
   ]
  },
  {
   "cell_type": "markdown",
   "id": "ed5673e0",
   "metadata": {},
   "source": [
    "__Przykład 1.__ <br>\n",
    "Stwórz słownik osób z liczbą punktów za 2 aktywności: projekt (max 40) i egzamin (max 60).\n",
    "Na podstawie sumy punktów dodaj ocene wg. skali: <br>\n",
    "    51 – 60 - 3<br>\n",
    "    61 – 70 – 3,5<br>\n",
    "    71 – 80 – 4<br>\n",
    "    81 - 90 – 4,5<br>\n",
    "    91 – 100 – 5 \n",
    "    \n",
    "Na wejściu powinniśmy utworzyć słownik:<br>\n",
    "oceny = {numer_indeksu_1 : {projekt: ilosc_punktow, cwiczenia: ilosc_punktow}, numer_indeksu_2 = ...}<br>\n",
    "Na wyjściu powinnismy otrzymać:<br>\n",
    "oceny = {numer_indeksu_1 : {projekt: ilosc_punktow, cwiczenia: ilosc_punktow, ocena: ocena}, numer_indeksu_2 = ...}"
   ]
  },
  {
   "cell_type": "code",
   "execution_count": 7,
   "id": "07ac5164",
   "metadata": {},
   "outputs": [],
   "source": [
    "oceny = {\n",
    "    76543:{'projekt':35, 'egzamin':34},\n",
    "    76542:{'projekt':27, 'egzamin':55},\n",
    "    76541:{'projekt':40, 'egzamin':54},\n",
    "    76549:{'projekt':11, 'egzamin':41},\n",
    "    76548:{'projekt':0, 'egzamin':54},\n",
    "    76547:{'projekt':36, 'egzamin':11}\n",
    "}\n",
    "\n",
    "for numer_indeksu, wartosci in oceny.items():\n",
    "    suma_punktow = wartosci['projekt']+wartosci['egzamin']\n",
    "    if suma_punktow > 90:\n",
    "        oceny[numer_indeksu]['ocena'] = 5\n",
    "    elif suma_punktow > 80:\n",
    "        oceny[numer_indeksu]['ocena'] = 4.5\n",
    "    elif suma_punktow > 70:\n",
    "        oceny[numer_indeksu]['ocena'] = 4\n",
    "    elif suma_punktow > 60:\n",
    "        oceny[numer_indeksu]['ocena'] = 3.5\n",
    "    elif suma_punktow > 50:\n",
    "        oceny[numer_indeksu]['ocena'] = 3\n",
    "    else:\n",
    "        oceny[numer_indeksu]['ocena'] = 2\n",
    "    \n",
    "print(oceny)"
   ]
  },
  {
   "cell_type": "markdown",
   "id": "1862c956",
   "metadata": {},
   "source": [
    "__Przykład 2__<br>\n",
    "Zaimplementuj algorytm potęgi bez użycia znaku potęgi dla dodatnich wykładników (tylko mnożenie i dodawanie).<br>\n",
    "Spróbuj uzyskać ten sam efekt za pomocą pętli for i while."
   ]
  },
  {
   "cell_type": "code",
   "execution_count": 33,
   "id": "400f4462",
   "metadata": {},
   "outputs": [],
   "source": [
    "#wzór na potęgę: (podstawa)^(wykładnik)\n",
    "podstawa = 3\n",
    "wykładnik = 4"
   ]
  },
  {
   "cell_type": "code",
   "execution_count": 34,
   "id": "4e8a5f86",
   "metadata": {},
   "outputs": [
    {
     "name": "stdout",
     "output_type": "stream",
     "text": [
      "81\n"
     ]
    }
   ],
   "source": [
    "wynik = 1\n",
    "for i in range(1, wykładnik+1):\n",
    "    wynik *= podstawa \n",
    "print(wynik)"
   ]
  },
  {
   "cell_type": "code",
   "execution_count": 35,
   "id": "fcc69e5b",
   "metadata": {},
   "outputs": [
    {
     "name": "stdout",
     "output_type": "stream",
     "text": [
      "81\n"
     ]
    }
   ],
   "source": [
    "i = 1\n",
    "wynik = 1\n",
    "while i <= wykładnik:\n",
    "    wynik *= podstawa\n",
    "    i += 1\n",
    "print(wynik)"
   ]
  },
  {
   "cell_type": "markdown",
   "id": "1727c9d1",
   "metadata": {},
   "source": [
    "__Przykład 3__<br>\n",
    "Znajdź miejsca zerowe ax^2 + bx + c = 0 <br>\n",
    "dla a = 2 b = -5 c = 7"
   ]
  },
  {
   "cell_type": "code",
   "execution_count": 40,
   "id": "95cf4633",
   "metadata": {},
   "outputs": [],
   "source": [
    "a = -2\n",
    "b = -5\n",
    "c = 7"
   ]
  },
  {
   "cell_type": "code",
   "execution_count": 46,
   "id": "62ea35b4",
   "metadata": {},
   "outputs": [
    {
     "name": "stdout",
     "output_type": "stream",
     "text": [
      "x1: 1.0\n",
      "x2: -3.5\n"
     ]
    }
   ],
   "source": [
    "delta = b**2 - 4*a*c\n",
    "if delta < 0:\n",
    "    print(\"brak miejsc zerowych\")\n",
    "else:\n",
    "    x1 = (-b - delta**(1/2))/(2*a)\n",
    "    x2 = (-b + delta**(1/2))/(2*a)\n",
    "    print(\"x1: \"+ str(x1))\n",
    "    print(\"x2: \"+ str(x2))"
   ]
  },
  {
   "cell_type": "markdown",
   "id": "af4d498d",
   "metadata": {},
   "source": [
    "__Przykład 4__<br>\n",
    "Oblicz NWD dla zdefiniowanych a i b<br>\n",
    "Własności NWD:<br>\n",
    "NWD(a,b) = NWD (a-b, b) gdzie a>b<br>\n",
    "NWD(a,b) = NWD(a, b-a) gdzie a<b<br>"
   ]
  },
  {
   "cell_type": "code",
   "execution_count": 4,
   "id": "abde3ca8",
   "metadata": {},
   "outputs": [
    {
     "name": "stdout",
     "output_type": "stream",
     "text": [
      "4\n"
     ]
    }
   ],
   "source": [
    "a = 20\n",
    "b = 16\n",
    "while a != b:\n",
    "    if a > b:\n",
    "        a = a-b\n",
    "    else:\n",
    "        b = b-a\n",
    "print(a)"
   ]
  },
  {
   "cell_type": "markdown",
   "id": "8c1fa902",
   "metadata": {},
   "source": [
    "__Przykład 5__<br>\n",
    "Napisz kod na obliczanie dominanty. Jeeli mamy remis to wybierz dowoln z tych liczb.\n"
   ]
  },
  {
   "cell_type": "code",
   "execution_count": 32,
   "id": "1a221687",
   "metadata": {},
   "outputs": [],
   "source": [
    "lista = [1,2,3,4,5,6,7,8,9,3,6,3,5,3,7,5,2,5,9,1,1,6,7,8,3,5,8,4,5,4,6,7,8,3,2,3,5,7,2,6,9,1,1,6,7,8,3,\n",
    "         5,8,9,5,4,6,7,8,3,2,3,5,7,2,6,9,1,1,6,7,8,3,5,8,9,5,4,6,2,5,9,1,1,6,5,8,9,2,5,8,3,8,1,5,8,9,4]"
   ]
  },
  {
   "cell_type": "code",
   "execution_count": 23,
   "id": "8274de4f",
   "metadata": {},
   "outputs": [
    {
     "name": "stdout",
     "output_type": "stream",
     "text": [
      "Jest najwięcej wystąpień 5. Liczba wystąpień to 16\n"
     ]
    }
   ],
   "source": [
    "zliczenia = dict()\n",
    "klucze = set(lista)\n",
    "for klucz in klucze:\n",
    "    zliczenia[klucz] = 0\n",
    "for i in lista:\n",
    "    zliczenia[i] += 1\n",
    "max_klucz = ''\n",
    "max_wartosc = 0\n",
    "for klucz, wartosc in zliczenia.items():\n",
    "    if wartosc > max_wartosc:\n",
    "        max_klucz = klucz\n",
    "        max_wartosc = wartosc\n",
    "    else:\n",
    "        pass\n",
    "print(f\"Jest najwięcej wystąpień {max_klucz}. Liczba wystąpień to {max_wartosc}\")\n"
   ]
  },
  {
   "cell_type": "markdown",
   "id": "6242ed53",
   "metadata": {},
   "source": [
    "__Przykład 6__<br>\n",
    "Zaimplemenuj liczenie mediany dla liczb z listy."
   ]
  },
  {
   "cell_type": "code",
   "execution_count": 42,
   "id": "25fafaa4",
   "metadata": {},
   "outputs": [
    {
     "name": "stdout",
     "output_type": "stream",
     "text": [
      "5.0\n"
     ]
    }
   ],
   "source": [
    "lista_mediana = lista[:]\n",
    "lista_mediana.sort()\n",
    "active = True\n",
    "while active:\n",
    "    dlugosc_listy = len(lista_mediana)\n",
    "    if dlugosc_listy <= 2:\n",
    "        mediana = sum(lista_mediana)/dlugosc_listy\n",
    "        active = False\n",
    "    else:\n",
    "        lista_mediana = lista_mediana[1:-1]\n",
    "print(mediana)"
   ]
  },
  {
   "cell_type": "markdown",
   "id": "3551a159",
   "metadata": {},
   "source": [
    "__Przykład 7__<br>\n",
    "Sprawdź czy napis jest palindromem, czyli na wspak da taki sam napis jak \"kajak\"."
   ]
  },
  {
   "cell_type": "code",
   "execution_count": 53,
   "id": "7d72f597",
   "metadata": {},
   "outputs": [
    {
     "name": "stdout",
     "output_type": "stream",
     "text": [
      "Nie jest palindromem\n"
     ]
    }
   ],
   "source": [
    "napis = 'samochód'\n",
    "a = True\n",
    "n = len(napis)\n",
    "for i in range(len(napis)//2): ##// zaokrągla w dół\n",
    "    if napis[i] != napis[n-i-1]:\n",
    "        a = False\n",
    "        print(\"Nie jest palindromem\")\n",
    "        break\n",
    "if a == True:\n",
    "    print(\"Jest palindromem\")\n",
    "    "
   ]
  },
  {
   "cell_type": "markdown",
   "id": "78801b12",
   "metadata": {},
   "source": [
    "__Przykład 8__<br>\n",
    "W folderze 4.Pliki dodatkowe znajdują się 2 pliki: Dane historyczne dla EUR_PLN i EUR_USD.<br>\n",
    "Stwórz słownik z notowaniami dla par EUR_PLN i EUR_USD w formie listy dla kursów z otwarcia dla dat od 12.09.2022 do 16.09.2022.<br>\n",
    "Dodaj nowy klucz z notowaniami dla pary USD_PLN (obliczając ją odpowiednia dzieląc kurs EUR/PLN przez EUR/USD).\n"
   ]
  },
  {
   "cell_type": "code",
   "execution_count": 56,
   "id": "6d785351",
   "metadata": {},
   "outputs": [],
   "source": [
    "EUR_PLN = [4.6870, 4.7167, 4.7127, 4.7201, 4.7123]\n",
    "EUR_USD = [1.0119, 0.9970, 0.9977, 0.9999, 1.0015]\n",
    "kursy = {'EUR_PLN' : EUR_PLN, 'EUR_USD' : EUR_USD}"
   ]
  },
  {
   "cell_type": "code",
   "execution_count": 59,
   "id": "a31ab2a1",
   "metadata": {},
   "outputs": [],
   "source": [
    "kursy['USD_PLN'] = [i_EUR_PLN / i_EUR_USD for i_EUR_PLN, i_EUR_USD in zip(kursy['EUR_PLN'], kursy['EUR_USD'])]"
   ]
  },
  {
   "cell_type": "code",
   "execution_count": 72,
   "id": "681616e6",
   "metadata": {},
   "outputs": [
    {
     "data": {
      "text/plain": [
       "[4.631880620614686,\n",
       " 4.7308926780341025,\n",
       " 4.723564197654605,\n",
       " 4.720572057205721,\n",
       " 4.705242136794808]"
      ]
     },
     "execution_count": 72,
     "metadata": {},
     "output_type": "execute_result"
    }
   ],
   "source": [
    "#drugi sposób z poleceniem map\n",
    "#map(funkcja, wartości1, wartości2,...) wykonuje dane operacje na wartościach\n",
    "\n",
    "from operator import truediv #import funkcji dzielącej\n",
    "list(map(truediv, EUR_PLN, EUR_USD))"
   ]
  },
  {
   "cell_type": "code",
   "execution_count": 79,
   "id": "0ac87f8f",
   "metadata": {},
   "outputs": [
    {
     "data": {
      "text/plain": [
       "[4.631880620614686,\n",
       " 4.7308926780341025,\n",
       " 4.723564197654605,\n",
       " 4.720572057205721,\n",
       " 4.705242136794808]"
      ]
     },
     "execution_count": 79,
     "metadata": {},
     "output_type": "execute_result"
    }
   ],
   "source": [
    "#teraz sami zaimplementujmy dzielenie dla funkcji map\n",
    "def dzielenie(numer1, numer2):\n",
    "    return numer1/numer2\n",
    "    \n",
    "list(map(dzielenie, EUR_PLN, EUR_USD))"
   ]
  },
  {
   "cell_type": "markdown",
   "id": "04718c56",
   "metadata": {},
   "source": [
    "__Przykład 9__<br>\n",
    "Narysujmy choinke ze zdefiniowaną wysokością"
   ]
  },
  {
   "cell_type": "code",
   "execution_count": 95,
   "id": "e3913a53",
   "metadata": {},
   "outputs": [
    {
     "name": "stdout",
     "output_type": "stream",
     "text": [
      "            *  \n",
      "          * * *  \n",
      "        * * * * *  \n",
      "      * * * * * * *  \n",
      "    * * * * * * * * *  \n",
      "  * * * * * * * * * * *  \n"
     ]
    }
   ],
   "source": [
    "n=6\n",
    "for i in range(n):\n",
    "    for j in range(n-i):\n",
    "        print(' ', end=' ')\n",
    "    for k in range(2*i+1):\n",
    "        print('*',end=' ')\n",
    "    print(\" \") #nowa linia"
   ]
  },
  {
   "cell_type": "code",
   "execution_count": 93,
   "id": "8e8a1737",
   "metadata": {},
   "outputs": [
    {
     "name": "stdout",
     "output_type": "stream",
     "text": [
      "            *  \n",
      "          * * *  \n",
      "        * * * * *  \n",
      "      * * * * * * *  \n",
      "    * * * * * * * * *  \n",
      "  * * * * * * * * * * *  \n",
      "            *  \n",
      "          * * *  \n",
      "        * * * * *  \n",
      "      * * * * * * *  \n",
      "    * * * * * * * * *  \n",
      "  * * * * * * * * * * *  \n",
      "          * * *\n",
      "          * * *\n",
      "          * * *\n"
     ]
    }
   ],
   "source": [
    "for i in range(n):\n",
    "    for j in range(n-i):\n",
    "        print(' ', end=' ')\n",
    "    for k in range(2*i+1):\n",
    "        print('*',end=' ')\n",
    "    print(\" \") #nowa linia\n",
    "    \n",
    "for i in range(n):\n",
    "    for j in range(n-i):\n",
    "        print(' ', end=' ')\n",
    "    for k in range(2*i+1):\n",
    "        print('*',end=' ')\n",
    "    print(\" \") #nowa linia\n",
    "    \n",
    "for i in range(max(n//2, 2)):\n",
    "    for j in range(n-1):\n",
    "        print(' ', end=' ')\n",
    "    print('* * *')"
   ]
  },
  {
   "cell_type": "markdown",
   "id": "7d638ac0",
   "metadata": {},
   "source": [
    "__Przykład 10__<br>\n",
    "Mając kurs EUR/USD sprawdź czy danego dnia kurs jest poniżej czy powyżej parytetu (parytet: EUR/USD = 1)"
   ]
  },
  {
   "cell_type": "markdown",
   "id": "1a1fcc41",
   "metadata": {},
   "source": [
    "|Data|EUR/USD|\n",
    "|----|-------|\n",
    "|25.08.2022|0.9974| \n",
    "|26.08.2022|0.9961|\n",
    "|29.08.2022|0.9995|\n",
    "|30.08.2022|1.0012|\n",
    "|31.08.2022|1.0057|"
   ]
  },
  {
   "cell_type": "code",
   "execution_count": 108,
   "id": "48e21444",
   "metadata": {},
   "outputs": [],
   "source": [
    "EUR_USD = {\n",
    "\"25.08.2022\" : 0.9974,\n",
    "\"26.08.2022\" : 0.9961,\n",
    "\"29.08.2022\" : 0.9995,\n",
    "\"30.08.2022\" : 1.0012,\n",
    "\"31.08.2022\" : 1.0057\n",
    "}"
   ]
  },
  {
   "cell_type": "code",
   "execution_count": 117,
   "id": "7f3e5288",
   "metadata": {},
   "outputs": [
    {
     "name": "stdout",
     "output_type": "stream",
     "text": [
      "Kurs EUR/USD poniżej parytetu dnia 25.08.2022\n",
      "Kurs EUR/USD poniżej parytetu dnia 26.08.2022\n",
      "Kurs EUR/USD poniżej parytetu dnia 29.08.2022\n",
      "Kurs EUR/USD powyżej parytetu dnia 30.08.2022\n",
      "Kurs EUR/USD powyżej parytetu dnia 31.08.2022\n"
     ]
    }
   ],
   "source": [
    "#ciekawsza wersja\n",
    "def roznica(wartosc):\n",
    "    return wartosc - 1\n",
    "\n",
    "roznice = list(map(roznica, list(EUR_USD.values())))\n",
    "zipped = zip(list(EUR_USD.keys()), roznice)\n",
    "\n",
    "for data, roznica in zipped:\n",
    "    if roznica < 0:\n",
    "        print(f\"Kurs EUR/USD poniżej parytetu dnia {data}\")\n",
    "    else:\n",
    "        print(f\"Kurs EUR/USD powyżej parytetu dnia {data}\")"
   ]
  },
  {
   "cell_type": "code",
   "execution_count": 116,
   "id": "aca21fdf",
   "metadata": {},
   "outputs": [
    {
     "name": "stdout",
     "output_type": "stream",
     "text": [
      "Dnia 25.08.2022 kurs euro do usd znalazł się poniżej parytetu\n",
      "Dnia 26.08.2022 kurs euro do usd znalazł się poniżej parytetu\n",
      "Dnia 29.08.2022 kurs euro do usd znalazł się poniżej parytetu\n",
      "Dnia 30.08.2022 kurs euro do usd znalazł się powyżej parytetu\n",
      "Dnia 31.08.2022 kurs euro do usd znalazł się powyżej parytetu\n"
     ]
    }
   ],
   "source": [
    "#prostsza wersja\n",
    "for data, kurs in EUR_USD.items():\n",
    "    if kurs<1:\n",
    "        print(f\"Dnia {data} kurs euro do usd znalazł się poniżej parytetu\")\n",
    "    else:\n",
    "        print(f\"Dnia {data} kurs euro do usd znalazł się powyżej parytetu\")"
   ]
  }
 ],
 "metadata": {
  "kernelspec": {
   "display_name": "Python 3 (ipykernel)",
   "language": "python",
   "name": "python3"
  },
  "language_info": {
   "codemirror_mode": {
    "name": "ipython",
    "version": 3
   },
   "file_extension": ".py",
   "mimetype": "text/x-python",
   "name": "python",
   "nbconvert_exporter": "python",
   "pygments_lexer": "ipython3",
   "version": "3.8.10"
  }
 },
 "nbformat": 4,
 "nbformat_minor": 5
}
