{
 "cells": [
  {
   "cell_type": "markdown",
   "id": "7fcf8489",
   "metadata": {},
   "source": [
    "# Programowanie obiektowe cd.\n",
    "\n",
    "Szymon Dziubak"
   ]
  },
  {
   "cell_type": "markdown",
   "id": "24d4285e",
   "metadata": {},
   "source": [
    "### Zadania"
   ]
  },
  {
   "cell_type": "markdown",
   "id": "deee0457",
   "metadata": {},
   "source": [
    "1. Stwórz klasę nadrzędną jednoślady i klasy podrzędne motor i skuter dziedziczące z klasy nadrzędnej.\n",
    "Dodaj atrybuty obydwu obiektów i metody dla nich wspólne i charakterystyczne dla każdego z nich. "
   ]
  },
  {
   "cell_type": "code",
   "execution_count": 1,
   "id": "d0ae3989",
   "metadata": {},
   "outputs": [],
   "source": [
    "class jednoślad():\n",
    "    \n",
    "    przebieg = 0\n",
    "    \n",
    "    def __init__(self, typ, marka, kolor):\n",
    "        self.typ = typ\n",
    "        self.marka = marka\n",
    "        self.kolor = kolor\n",
    "        \n",
    "    def jedz(self):\n",
    "        self.przebieg += 1\n",
    "    \n",
    "    def podajPrzebieg(self):\n",
    "        return self.przebieg\n",
    "    \n",
    "class motocykl(jednoślad):\n",
    "    \n",
    "    def __init__(self, marka, kolor, rocznik, prędkośćMax):\n",
    "        super().__init__(\"motocykl\", marka, kolor)\n",
    "        self.rocznik = rocznik\n",
    "        self.prędkośćMax= prędkośćMax\n",
    "        \n",
    "    def podajDane(self):\n",
    "        \n",
    "        dane = \"Motocykl \" + str(self.prędkośćMax) + \" max km/h\" + \"\\n\"\n",
    "        dane += \"Marki \" + self.marka + \"\\n\"\n",
    "        dane += \"Przebieg \" + str(self.podajPrzebieg()) + \"\\n\"\n",
    "        return dane\n",
    "        \n",
    "class skuter(jednoślad):\n",
    "    def __init__(self, marka, kolor, rocznik, styl):\n",
    "        super().__init__(\"skuter\", marka, kolor)\n",
    "        self.styl = styl\n",
    "        self.skrzynia = \"automatyczna\"\n",
    "    \n",
    "    def podajDane(self):\n",
    "        \n",
    "        dane = \"Skuter \" + self.styl + \"\\n\"\n",
    "        dane += \"Marki \" + self.marka + \"\\n\"\n",
    "        dane += \"Przebieg \" + str(self.podajPrzebieg()) + \"\\n\"\n",
    "        return dane "
   ]
  },
  {
   "cell_type": "code",
   "execution_count": 3,
   "id": "d6ce147c",
   "metadata": {},
   "outputs": [
    {
     "name": "stdout",
     "output_type": "stream",
     "text": [
      "Super szybki motocykl 232 max km/h\n",
      "Marki Honda\n",
      "Przebieg 0\n",
      "\n",
      "Super szybki motocykl 190 max km/h\n",
      "Marki BMW\n",
      "Przebieg 0\n",
      "\n",
      "Stylowy skuter Włoski\n",
      "Marki Vespa\n",
      "Przebieg 0\n",
      "\n",
      "Stylowy skuter Skandynawski\n",
      "Marki Junak\n",
      "Przebieg 0\n",
      "\n"
     ]
    }
   ],
   "source": [
    "jednoslady = []\n",
    "jednoslady.append(motocykl(\"Honda\", \"czerwony\", 1996, 232))\n",
    "jednoslady.append(motocykl(\"BMW\", \"czarny\", 2015, 190))\n",
    "jednoslady.append(skuter(\"Vespa\", \"biały\", 2001, \"Włoski\"))\n",
    "jednoslady.append(skuter(\"Junak\", \"odcień kości słoniowej\", 2005, \"Skandynawski\"))\n",
    "for z in jednoslady:\n",
    "    print(z.podajDane())"
   ]
  },
  {
   "cell_type": "markdown",
   "id": "009b26da",
   "metadata": {},
   "source": [
    "2. Zmodyfikuj klasę jednoślady z zadania 2 aby nie dało się jej wywołać. W klasie jednoślady dodaj metodę, którę należy nadpisać dla motorów i skuterów."
   ]
  },
  {
   "cell_type": "code",
   "execution_count": 6,
   "id": "8f0b0002",
   "metadata": {},
   "outputs": [],
   "source": [
    "from abc import ABC, abstractmethod\n",
    "class jednoślad(ABC):\n",
    "    \n",
    "    przebieg = 0\n",
    "    \n",
    "    def __init__(self, typ, marka, kolor):\n",
    "        self.typ = typ\n",
    "        self.marka = marka\n",
    "        self.kolor = kolor\n",
    "        \n",
    "    def jedz(self):\n",
    "        self.przebieg += 1\n",
    "    \n",
    "    def podajPrzebieg(self):\n",
    "        return self.przebieg\n",
    "\n",
    "    @abstractmethod\n",
    "    def podajDane(self):\n",
    "        pass"
   ]
  },
  {
   "cell_type": "code",
   "execution_count": 7,
   "id": "ca9db8da",
   "metadata": {},
   "outputs": [
    {
     "name": "stdout",
     "output_type": "stream",
     "text": [
      "Super szybki motocykl 232 max km/h\n",
      "Marki Honda\n",
      "Przebieg 0\n",
      "\n",
      "Super szybki motocykl 190 max km/h\n",
      "Marki BMW\n",
      "Przebieg 0\n",
      "\n",
      "Stylowy skuter Włoski\n",
      "Marki Vespa\n",
      "Przebieg 0\n",
      "\n",
      "Stylowy skuter Skandynawski\n",
      "Marki Junak\n",
      "Przebieg 0\n",
      "\n"
     ]
    }
   ],
   "source": [
    "jednoslady = []\n",
    "jednoslady.append(motocykl(\"Honda\", \"czerwony\", 1996, 232))\n",
    "jednoslady.append(motocykl(\"BMW\", \"czarny\", 2015, 190))\n",
    "jednoslady.append(skuter(\"Vespa\", \"biały\", 2001, \"Włoski\"))\n",
    "jednoslady.append(skuter(\"Junak\", \"odcień kości słoniowej\", 2005, \"Skandynawski\"))\n",
    "for z in jednoslady:\n",
    "    print(z.podajDane())"
   ]
  },
  {
   "cell_type": "markdown",
   "id": "fca065fb",
   "metadata": {},
   "source": [
    "3. Niektórych z atrybutów nie powinno się zmieniać. Dla klas z zadania 2 dodaj hermetyzacje tych atrybutów."
   ]
  },
  {
   "cell_type": "code",
   "execution_count": 58,
   "id": "0029645a",
   "metadata": {},
   "outputs": [],
   "source": [
    "class jednoślad():\n",
    "    \n",
    "    __przebieg = 0\n",
    "    \n",
    "    def __init__(self, typ, marka, kolor):\n",
    "        self.__typ = typ\n",
    "        self.__marka = marka\n",
    "        self.__kolor = kolor\n",
    "\n",
    "    def jedz(self):\n",
    "        self.__przebieg += 1\n",
    "    \n",
    "    def podajPrzebieg(self):\n",
    "        return self.__przebieg\n",
    "    \n",
    "class motocykl(jednoślad):\n",
    "    \n",
    "    def __init__(self, marka, kolor, rocznik, prędkośćMax):\n",
    "        super().__init__(\"motocykl\", marka, kolor)\n",
    "\n",
    "        self.__rocznik = rocznik\n",
    "        self.__prędkośćMax= prędkośćMax\n",
    "        self.__marka = marka\n",
    "        \n",
    "    def podajDane(self):\n",
    "        \n",
    "        dane = \"Motocykl \" + str(self.__prędkośćMax) + \" max km/h\" + \"\\n\"\n",
    "        dane += \"Marki \" + self.__marka + \"\\n\"\n",
    "        dane += \"Przebieg \" + str(self.podajPrzebieg()) + \"\\n\"\n",
    "        return dane\n",
    "        \n",
    "class skuter(jednoślad):\n",
    "    def __init__(self, marka, kolor, rocznik, styl):\n",
    "        super().__init__(\"skuter\", marka, kolor)\n",
    "\n",
    "        self.__styl = styl\n",
    "        self.__skrzynia = \"automatyczna\"\n",
    "        self.__marka = marka\n",
    "    \n",
    "    def podajDane(self):\n",
    "        \n",
    "        dane = \"Skuter \" + self.__styl + \"\\n\"\n",
    "        dane += \"Marki \" + self.__marka + \"\\n\"\n",
    "        dane += \"Przebieg \" + str(self.podajPrzebieg()) + \"\\n\"\n",
    "        return dane "
   ]
  },
  {
   "cell_type": "code",
   "execution_count": 59,
   "id": "18de7281",
   "metadata": {},
   "outputs": [
    {
     "name": "stdout",
     "output_type": "stream",
     "text": [
      "Motocykl 232 max km/h\n",
      "Marki Honda\n",
      "Przebieg 0\n",
      "\n",
      "Motocykl 190 max km/h\n",
      "Marki BMW\n",
      "Przebieg 0\n",
      "\n",
      "Skuter Włoski\n",
      "Marki Vespa\n",
      "Przebieg 0\n",
      "\n",
      "Skuter Skandynawski\n",
      "Marki Junak\n",
      "Przebieg 0\n",
      "\n"
     ]
    }
   ],
   "source": [
    "jednoslady = []\n",
    "jednoslady.append(motocykl(\"Honda\", \"czerwony\", 1996, 232))\n",
    "jednoslady.append(motocykl(\"BMW\", \"czarny\", 2015, 190))\n",
    "jednoslady.append(skuter(\"Vespa\", \"biały\", 2001, \"Włoski\"))\n",
    "jednoslady.append(skuter(\"Junak\", \"odcień kości słoniowej\", 2005, \"Skandynawski\"))\n",
    "for z in jednoslady:\n",
    "    print(z.podajDane())"
   ]
  },
  {
   "cell_type": "markdown",
   "id": "027a99b0",
   "metadata": {},
   "source": [
    "4. SGH ma kilka budynków. Utwórz klasę budynek a następnie klasę budynek_SGH który opisuje budynki na SGH. "
   ]
  },
  {
   "cell_type": "code",
   "execution_count": 94,
   "id": "320f4274",
   "metadata": {},
   "outputs": [],
   "source": [
    "class budynek():\n",
    "    \n",
    "    def __init__(self, rok_budowy, adres, typ):\n",
    "        self.rok_budowy = rok_budowy\n",
    "        self.adres = adres\n",
    "        self.typ = typ\n",
    "    \n",
    "        \n",
    "\n",
    "class budynek_sgh(budynek):\n",
    "    def __init__(self, nazwa_budynku, przeznaczenie, rok_budowy, adres):\n",
    "        super().__init__(rok_budowy, adres, \"placówka edukacyjna\")\n",
    "        self.rok_budowy = rok_budowy\n",
    "        self.nazwa_budynku = nazwa_budynku\n",
    "        self.przeznaczenie = przeznaczenie\n",
    "        self.adres = adres\n",
    "\n",
    "        \n",
    "    def wyświetl_info(self):\n",
    "        print(f\"\"\"\n",
    "        {self.nazwa_budynku} powstał w {self.rok_budowy} roku.\n",
    "        Jest to {self.przeznaczenie}.\n",
    "        \"\"\")\n",
    "        \n",
    "            \n",
    "    "
   ]
  },
  {
   "cell_type": "code",
   "execution_count": 95,
   "id": "a7735ae2",
   "metadata": {},
   "outputs": [
    {
     "name": "stdout",
     "output_type": "stream",
     "text": [
      "\n",
      "        Budynek G powstał w 1960 roku.\n",
      "        Jest to budynek ogólnego użytku.\n",
      "        \n"
     ]
    }
   ],
   "source": [
    "budynek_G = budynek_sgh(\"Budynek G\", \"budynek ogólnego użytku\", 1960, \"Al. Niepodległości 162\")\n",
    "budynek_G.wyświetl_info()\n"
   ]
  },
  {
   "cell_type": "markdown",
   "id": "d6643e76",
   "metadata": {},
   "source": [
    "5. Klasa nadrzędna z zadania 4 nie powinna być wywoływana bezpośrednio. \n",
    "Dodatkowo dodaj atrybut w klasie nadrzędnej iloscOsob któa wyświetla, ile maksymalnie osób może znajdować się w budynku. Metoda powinna być nadpisana."
   ]
  },
  {
   "cell_type": "code",
   "execution_count": 97,
   "id": "b2993eaf",
   "metadata": {},
   "outputs": [],
   "source": [
    "from abc import ABC, abstractmethod\n",
    "class budynek(ABC):\n",
    "    \n",
    "    def __init__(self, rok_budowy, adres, typ):\n",
    "        self.rok_budowy = rok_budowy\n",
    "        self.adres = adres\n",
    "        self.typ = typ\n",
    "  \n",
    "    @abstractmethod\n",
    "    def podaj_adres(self):\n",
    "        pass\n",
    "        \n",
    "\n",
    "class budynek_sgh(budynek):\n",
    "    def __init__(self, nazwa_budynku, przeznaczenie, rok_budowy, adres):\n",
    "        super().__init__(rok_budowy, adres, \"placówka edukacyjna\")\n",
    "        self.rok_budowy = rok_budowy\n",
    "        self.nazwa_budynku = nazwa_budynku\n",
    "        self.przeznaczenie = przeznaczenie\n",
    "        self.adres = adres\n",
    "\n",
    "        \n",
    "    def wyświetl_info(self):\n",
    "        print(f\"\"\"\n",
    "        {self.nazwa_budynku} powstał w {self.rok_budowy} roku.\n",
    "        Jest to {self.przeznaczenie}.\n",
    "        \"\"\")\n",
    "        \n",
    "    def podaj_adres(self):\n",
    "        print(f\"Adres to {self.adres}\")\n",
    "    "
   ]
  },
  {
   "cell_type": "code",
   "execution_count": 99,
   "id": "58ce605e",
   "metadata": {},
   "outputs": [
    {
     "name": "stdout",
     "output_type": "stream",
     "text": [
      "\n",
      "        Budynek G powstał w 1960 roku.\n",
      "        Jest to budynek ogólnego użytku.\n",
      "        \n",
      "Adres to Al. Niepodległości 162\n"
     ]
    }
   ],
   "source": [
    "budynek_G = budynek_sgh(\"Budynek G\", \"budynek ogólnego użytku\", 1960, \"Al. Niepodległości 162\")\n",
    "budynek_G.wyświetl_info()\n",
    "budynek_G.podaj_adres()"
   ]
  },
  {
   "cell_type": "markdown",
   "id": "a63172b4",
   "metadata": {},
   "source": [
    "6. W klasach z zadania 6 dodaj hermetyzacje tych atrybutów, których nie powinno się zmieniać."
   ]
  },
  {
   "cell_type": "code",
   "execution_count": 101,
   "id": "c63b723b",
   "metadata": {},
   "outputs": [],
   "source": [
    "class budynek():\n",
    "    \n",
    "    def __init__(self, rok_budowy, adres, typ):\n",
    "        self.__rok_budowy = rok_budowy\n",
    "        self.__adres = adres\n",
    "        self.__typ = typ\n",
    "    \n",
    "    #def podaj_adres(self):\n",
    "     #   print(f\"Adres to {self.adres}\")\n",
    "        \n",
    "\n",
    "class budynek_sgh(budynek):\n",
    "    def __init__(self, nazwa_budynku, przeznaczenie, rok_budowy, adres):\n",
    "        super().__init__(rok_budowy, adres, \"placówka edukacyjna\")\n",
    "        self.__rok_budowy = rok_budowy\n",
    "        self.__nazwa_budynku = nazwa_budynku\n",
    "        self.__przeznaczenie = przeznaczenie\n",
    "        self.__adres = adres\n",
    "\n",
    "        \n",
    "    def wyświetl_info(self):\n",
    "        print(f\"\"\"\n",
    "        {self.__nazwa_budynku} powstał w {self.__rok_budowy} roku.\n",
    "        Jest to {self.__przeznaczenie}.\n",
    "        \"\"\")\n",
    "        "
   ]
  },
  {
   "cell_type": "code",
   "execution_count": 102,
   "id": "8311cdeb",
   "metadata": {},
   "outputs": [
    {
     "name": "stdout",
     "output_type": "stream",
     "text": [
      "\n",
      "        Budynek G powstał w 1960 roku.\n",
      "        Jest to budynek ogólnego użytku.\n",
      "        \n"
     ]
    }
   ],
   "source": [
    "budynek_G = budynek_sgh(\"Budynek G\", \"budynek ogólnego użytku\", 1960, \"Al. Niepodległości 162\")\n",
    "budynek_G.wyświetl_info()\n"
   ]
  },
  {
   "cell_type": "markdown",
   "id": "77d73ddc",
   "metadata": {},
   "source": [
    "7. Stwórz 2 wystąpienia klasy z zadania 3 i za pomocą odpowiedniej metody sprawdź instancją której klasy są te wystąpienia. Czy są również instancją klasy nadrzędnej?"
   ]
  },
  {
   "cell_type": "code",
   "execution_count": 108,
   "id": "4c8e087c",
   "metadata": {},
   "outputs": [],
   "source": [
    "m_honda = motocykl(\"Honda\", \"czerwony\", 1996, 232)\n",
    "m_bmw = motocykl(\"BMW\", \"czarny\", 2015, 190)\n",
    "s_vespa = skuter(\"Vespa\", \"biały\", 2001, \"Włoski\")"
   ]
  },
  {
   "cell_type": "code",
   "execution_count": 121,
   "id": "c8e725a6",
   "metadata": {},
   "outputs": [
    {
     "data": {
      "text/plain": [
       "True"
      ]
     },
     "execution_count": 121,
     "metadata": {},
     "output_type": "execute_result"
    }
   ],
   "source": [
    "isinstance(m_honda, motocykl)\n",
    "isinstance(m_honda, jednoślad)\n",
    "isinstance(s_vespa, motocykl)\n",
    "isinstance(s_vespa, skuter)"
   ]
  }
 ],
 "metadata": {
  "kernelspec": {
   "display_name": "Python 3 (ipykernel)",
   "language": "python",
   "name": "python3"
  },
  "language_info": {
   "codemirror_mode": {
    "name": "ipython",
    "version": 3
   },
   "file_extension": ".py",
   "mimetype": "text/x-python",
   "name": "python",
   "nbconvert_exporter": "python",
   "pygments_lexer": "ipython3",
   "version": "3.8.10"
  }
 },
 "nbformat": 4,
 "nbformat_minor": 5
}
