{
 "cells": [
  {
   "cell_type": "markdown",
   "id": "1327e408",
   "metadata": {},
   "source": [
    "# Podstawy pythona\n",
    "\n",
    "Szymon Dziubak"
   ]
  },
  {
   "cell_type": "markdown",
   "id": "95e9a7eb",
   "metadata": {},
   "source": [
    "### Zmienne"
   ]
  },
  {
   "cell_type": "code",
   "execution_count": 1,
   "id": "ec82d52f",
   "metadata": {},
   "outputs": [
    {
     "name": "stdout",
     "output_type": "stream",
     "text": [
      "Witaj Pythonie\n"
     ]
    }
   ],
   "source": [
    "wiadomosc = \"Witaj Pythonie\"\n",
    "print(wiadomosc)"
   ]
  },
  {
   "cell_type": "code",
   "execution_count": 3,
   "id": "d9b04641",
   "metadata": {},
   "outputs": [
    {
     "name": "stdout",
     "output_type": "stream",
     "text": [
      "Witaj na zajęciach \"Podstawy programowania w języku Python\"!\n"
     ]
    }
   ],
   "source": [
    "wiadomosc = 'Witaj na zajęciach \"Podstawy programowania w języku Python\"!'\n",
    "print(wiadomosc)"
   ]
  },
  {
   "cell_type": "code",
   "execution_count": 4,
   "id": "3cb82ed0",
   "metadata": {},
   "outputs": [
    {
     "ename": "NameError",
     "evalue": "name 'wiadomość' is not defined",
     "output_type": "error",
     "traceback": [
      "\u001b[1;31m---------------------------------------------------------------------------\u001b[0m",
      "\u001b[1;31mNameError\u001b[0m                                 Traceback (most recent call last)",
      "\u001b[1;32mC:\\Users\\BPOL_1~1\\AppData\\Local\\Temp/ipykernel_3632/646186687.py\u001b[0m in \u001b[0;36m<module>\u001b[1;34m\u001b[0m\n\u001b[1;32m----> 1\u001b[1;33m \u001b[0mprint\u001b[0m\u001b[1;33m(\u001b[0m\u001b[0mwiadomość\u001b[0m\u001b[1;33m)\u001b[0m\u001b[1;33m\u001b[0m\u001b[1;33m\u001b[0m\u001b[0m\n\u001b[0m",
      "\u001b[1;31mNameError\u001b[0m: name 'wiadomość' is not defined"
     ]
    }
   ],
   "source": [
    "print(wiadomość)"
   ]
  },
  {
   "cell_type": "code",
   "execution_count": 5,
   "id": "63124e1b",
   "metadata": {},
   "outputs": [
    {
     "ename": "SyntaxError",
     "evalue": "EOL while scanning string literal (Temp/ipykernel_3632/2883396097.py, line 1)",
     "output_type": "error",
     "traceback": [
      "\u001b[1;36m  File \u001b[1;32m\"C:\\Users\\BPOL_1~1\\AppData\\Local\\Temp/ipykernel_3632/2883396097.py\"\u001b[1;36m, line \u001b[1;32m1\u001b[0m\n\u001b[1;33m    wiadomosc = 'wiadomosc testowa\u001b[0m\n\u001b[1;37m                                  ^\u001b[0m\n\u001b[1;31mSyntaxError\u001b[0m\u001b[1;31m:\u001b[0m EOL while scanning string literal\n"
     ]
    }
   ],
   "source": [
    "wiadomosc = 'wiadomosc testowa"
   ]
  },
  {
   "cell_type": "markdown",
   "id": "b936b8a1",
   "metadata": {},
   "source": [
    "* Zmienne powinny zawierać jedynie litery, cyfry i znaki podkreślenia\n",
    "* Nie można stosować spacji\n",
    "* Nie powinno się nadawać zmiennym nazw już zarezerwowanych przez pythona np. print\n",
    "* Nazwa zmiennej powinna być krótka i czytelna"
   ]
  },
  {
   "cell_type": "markdown",
   "id": "191a684f",
   "metadata": {},
   "source": [
    "---"
   ]
  },
  {
   "cell_type": "markdown",
   "id": "5dacd3f7",
   "metadata": {},
   "source": [
    "### Ciągi tekstowe"
   ]
  },
  {
   "cell_type": "code",
   "execution_count": 6,
   "id": "f934b1df",
   "metadata": {},
   "outputs": [
    {
     "data": {
      "text/plain": [
       "'ciąg tekstowy 2'"
      ]
     },
     "execution_count": 6,
     "metadata": {},
     "output_type": "execute_result"
    }
   ],
   "source": [
    "#Przykłady ciągów tekstowych:\n",
    "'ciąg tekstowy 1'\n",
    "\"ciąg tekstowy 2\""
   ]
  },
  {
   "cell_type": "code",
   "execution_count": 7,
   "id": "6e92c63c",
   "metadata": {},
   "outputs": [
    {
     "name": "stdout",
     "output_type": "stream",
     "text": [
      "jan kowalski\n"
     ]
    }
   ],
   "source": [
    "imie_nazwisko = \"jan kowalski\"\n",
    "print(imie_nazwisko)"
   ]
  },
  {
   "cell_type": "code",
   "execution_count": 8,
   "id": "fdf0edf9",
   "metadata": {},
   "outputs": [
    {
     "name": "stdout",
     "output_type": "stream",
     "text": [
      "Jan Kowalski\n"
     ]
    }
   ],
   "source": [
    "print(imie_nazwisko.title())"
   ]
  },
  {
   "cell_type": "code",
   "execution_count": 9,
   "id": "398809b2",
   "metadata": {},
   "outputs": [
    {
     "name": "stdout",
     "output_type": "stream",
     "text": [
      "JAN KOWALSKI\n"
     ]
    }
   ],
   "source": [
    "print(imie_nazwisko.upper())"
   ]
  },
  {
   "cell_type": "code",
   "execution_count": 10,
   "id": "a97eac90",
   "metadata": {},
   "outputs": [
    {
     "name": "stdout",
     "output_type": "stream",
     "text": [
      "jan kowalski\n"
     ]
    }
   ],
   "source": [
    "print(imie_nazwisko.lower())"
   ]
  },
  {
   "cell_type": "code",
   "execution_count": 108,
   "id": "c3d0eeb7",
   "metadata": {},
   "outputs": [
    {
     "name": "stdout",
     "output_type": "stream",
     "text": [
      "12\n"
     ]
    }
   ],
   "source": [
    "print(len(imie_nazwisko))"
   ]
  },
  {
   "cell_type": "code",
   "execution_count": 84,
   "id": "70da443c",
   "metadata": {},
   "outputs": [
    {
     "name": "stdout",
     "output_type": "stream",
     "text": [
      "Jan Kowalski\n",
      "Swapcase zamienia wielkie litery na małe i małe na wielkie jak: jAN kOWALSKI\n"
     ]
    }
   ],
   "source": [
    "formatowane_imie_nazwisko = imie_nazwisko.title()\n",
    "print(formatowane_imie_nazwisko)\n",
    "print(\"Swapcase zamienia wielkie litery na małe i małe na wielkie jak: \" + formatowane_imie_nazwisko.swapcase())"
   ]
  },
  {
   "cell_type": "code",
   "execution_count": 87,
   "id": "f35a814f",
   "metadata": {},
   "outputs": [
    {
     "name": "stdout",
     "output_type": "stream",
     "text": [
      "Capitalize zamienia pierwszą literę ciągu na wielką: Jan kowalski\n"
     ]
    }
   ],
   "source": [
    "print(\"Capitalize zamienia pierwszą literę ciągu na wielką: \"+imie_nazwisko.capitalize())"
   ]
  },
  {
   "cell_type": "code",
   "execution_count": 91,
   "id": "130c9b06",
   "metadata": {},
   "outputs": [
    {
     "data": {
      "text/plain": [
       "['jan', 'kowalski']"
      ]
     },
     "execution_count": 91,
     "metadata": {},
     "output_type": "execute_result"
    }
   ],
   "source": [
    "#Split dzieli tekst na podciągi domyślnie po spacji\n",
    "\"jan kowalski\".split()\n",
    "\"jan, kowalski\".split(\", \") #dzielenie po znaku \", \""
   ]
  },
  {
   "cell_type": "code",
   "execution_count": 12,
   "id": "656d7137",
   "metadata": {},
   "outputs": [
    {
     "name": "stdout",
     "output_type": "stream",
     "text": [
      "Jan Kowalski\n"
     ]
    }
   ],
   "source": [
    "imie = \"Jan\"\n",
    "nazwisko = 'kowalski'\n",
    "imie_nazwisko = f\"{imie.title()} {nazwisko.title()}\"\n",
    "print(imie_nazwisko)"
   ]
  },
  {
   "cell_type": "code",
   "execution_count": 13,
   "id": "49481f5c",
   "metadata": {},
   "outputs": [
    {
     "name": "stdout",
     "output_type": "stream",
     "text": [
      "Witaj Jan Kowalski na zajęciach z pythona\n"
     ]
    }
   ],
   "source": [
    "print(f\"Witaj {imie_nazwisko} na zajęciach z pythona\")"
   ]
  },
  {
   "cell_type": "code",
   "execution_count": 15,
   "id": "d5647591",
   "metadata": {},
   "outputs": [
    {
     "name": "stdout",
     "output_type": "stream",
     "text": [
      "Jan Kowalski\n"
     ]
    }
   ],
   "source": [
    "#W starszych wersjach (<3.6)\n",
    "imie_nazwisko = \"{} {}\".format(imie.title(), nazwisko.title())\n",
    "print(imie_nazwisko) #efekt ten sam ale nowsza wersja jest jednak łatwiejsza"
   ]
  },
  {
   "cell_type": "code",
   "execution_count": 20,
   "id": "ef86d501",
   "metadata": {},
   "outputs": [
    {
     "name": "stdout",
     "output_type": "stream",
     "text": [
      "Python\n",
      "\tPython\n",
      "Python\t\n"
     ]
    }
   ],
   "source": [
    "#\\t - tabolator\n",
    "print(\"Python\")\n",
    "print(\"\\tPython\") #tabulator na początku\n",
    "print(\"Python\\t\") #tabulator na końcu"
   ]
  },
  {
   "cell_type": "code",
   "execution_count": 21,
   "id": "5bb2e856",
   "metadata": {},
   "outputs": [
    {
     "name": "stdout",
     "output_type": "stream",
     "text": [
      "Mamy 3 głównych dostawców chmury:\n",
      "AWS\n",
      "Azure\n",
      "GCP\n"
     ]
    }
   ],
   "source": [
    "#\\n - nowa linia\n",
    "print(\"Mamy 3 głównych dostawców chmury:\\nAWS\\nAzure\\nGCP\")"
   ]
  },
  {
   "cell_type": "code",
   "execution_count": 23,
   "id": "dac774a9",
   "metadata": {},
   "outputs": [
    {
     "name": "stdout",
     "output_type": "stream",
     "text": [
      "Mamy 3 głównych dostawców chmury:\n",
      "\tAWS\n",
      "\tAzure\n",
      "\tGCP\n"
     ]
    }
   ],
   "source": [
    "#kombinacja nowych linii z tabulatorami\n",
    "print(\"Mamy 3 głównych dostawców chmury:\\n\\tAWS\\n\\tAzure\\n\\tGCP\")"
   ]
  },
  {
   "cell_type": "code",
   "execution_count": 24,
   "id": "6f27b0e1",
   "metadata": {},
   "outputs": [],
   "source": [
    "ulubiona_pizza = '  pepperoni   ' #ciąg znaków z białymy znakami z lewej i prawej strony"
   ]
  },
  {
   "cell_type": "code",
   "execution_count": 25,
   "id": "2f5c8de3",
   "metadata": {},
   "outputs": [
    {
     "data": {
      "text/plain": [
       "'pepperoni   '"
      ]
     },
     "execution_count": 25,
     "metadata": {},
     "output_type": "execute_result"
    }
   ],
   "source": [
    "ulubiona_pizza.lstrip()"
   ]
  },
  {
   "cell_type": "code",
   "execution_count": 26,
   "id": "1f8ac0c5",
   "metadata": {},
   "outputs": [
    {
     "data": {
      "text/plain": [
       "'  pepperoni'"
      ]
     },
     "execution_count": 26,
     "metadata": {},
     "output_type": "execute_result"
    }
   ],
   "source": [
    "ulubiona_pizza.rstrip()"
   ]
  },
  {
   "cell_type": "code",
   "execution_count": 27,
   "id": "e698d8e5",
   "metadata": {},
   "outputs": [
    {
     "data": {
      "text/plain": [
       "'pepperoni'"
      ]
     },
     "execution_count": 27,
     "metadata": {},
     "output_type": "execute_result"
    }
   ],
   "source": [
    "ulubiona_pizza.strip()"
   ]
  },
  {
   "cell_type": "markdown",
   "id": "01b578bd",
   "metadata": {},
   "source": [
    "a co z tabulatorami/nowymi liniami?"
   ]
  },
  {
   "cell_type": "code",
   "execution_count": 1,
   "id": "68514a56",
   "metadata": {},
   "outputs": [],
   "source": [
    "ulubiona_pizza_nowa_linia = \" Moja ulubiona pizza to: \\n - peperoni \\n\" \n",
    "ulubiona_pizza_tabulator = \"\\tpeperoni\\t\""
   ]
  },
  {
   "cell_type": "code",
   "execution_count": 2,
   "id": "71289c3c",
   "metadata": {},
   "outputs": [
    {
     "name": "stdout",
     "output_type": "stream",
     "text": [
      " Moja ulubiona pizza to: \n",
      " - peperoni \n",
      "\n"
     ]
    }
   ],
   "source": [
    "print(ulubiona_pizza_nowa_linia)"
   ]
  },
  {
   "cell_type": "code",
   "execution_count": 3,
   "id": "5d4fa38a",
   "metadata": {},
   "outputs": [
    {
     "name": "stdout",
     "output_type": "stream",
     "text": [
      "\tpeperoni\t\n"
     ]
    }
   ],
   "source": [
    "print(ulubiona_pizza_tabulator)"
   ]
  },
  {
   "cell_type": "code",
   "execution_count": 11,
   "id": "bb92edf5",
   "metadata": {},
   "outputs": [
    {
     "data": {
      "text/plain": [
       "'Moja ulubiona pizza to: \\n - peperoni'"
      ]
     },
     "execution_count": 11,
     "metadata": {},
     "output_type": "execute_result"
    }
   ],
   "source": [
    "ulubiona_pizza_nowa_linia.strip()"
   ]
  },
  {
   "cell_type": "code",
   "execution_count": 10,
   "id": "091a2925",
   "metadata": {},
   "outputs": [
    {
     "data": {
      "text/plain": [
       "'peperoni'"
      ]
     },
     "execution_count": 10,
     "metadata": {},
     "output_type": "execute_result"
    }
   ],
   "source": [
    "ulubiona_pizza_tabulator.strip()"
   ]
  },
  {
   "cell_type": "code",
   "execution_count": 37,
   "id": "b9c9e8ad",
   "metadata": {},
   "outputs": [
    {
     "name": "stdout",
     "output_type": "stream",
     "text": [
      "\tpeperoni\t\n",
      "peperoni\n"
     ]
    }
   ],
   "source": [
    "print(ulubiona_pizza_tabulator) #strip nie zmienił postaci pierwotnej zmiennej\n",
    "ulubiona_pizza_tabulator = ulubiona_pizza_tabulator.strip() #nadpisujemy zmienną bez białych znaków\n",
    "print(ulubiona_pizza_tabulator) #nowa postać zmiennej"
   ]
  },
  {
   "cell_type": "code",
   "execution_count": 38,
   "id": "d3dfa642",
   "metadata": {},
   "outputs": [
    {
     "ename": "SyntaxError",
     "evalue": "EOL while scanning string literal (Temp/ipykernel_3632/847185701.py, line 1)",
     "output_type": "error",
     "traceback": [
      "\u001b[1;36m  File \u001b[1;32m\"C:\\Users\\BPOL_1~1\\AppData\\Local\\Temp/ipykernel_3632/847185701.py\"\u001b[1;36m, line \u001b[1;32m1\u001b[0m\n\u001b[1;33m    tekst = \"To drugie zajęcia z przedmiotu:\u001b[0m\n\u001b[1;37m                                            ^\u001b[0m\n\u001b[1;31mSyntaxError\u001b[0m\u001b[1;31m:\u001b[0m EOL while scanning string literal\n"
     ]
    }
   ],
   "source": [
    "tekst = \"To drugie zajęcia z przedmiotu:\n",
    "\"Podstawy programowania w języku Python\"\n",
    "Mam nadzieje, że zobaczymy się na kolejnych\""
   ]
  },
  {
   "cell_type": "code",
   "execution_count": 40,
   "id": "c798fea9",
   "metadata": {},
   "outputs": [
    {
     "name": "stdout",
     "output_type": "stream",
     "text": [
      "To drugie zajęcia z przedmiotu:\n",
      "\"Podstawy programowania w języku Python\"\n",
      "Mam nadzieje, że zobaczymy się na kolejnych\n"
     ]
    }
   ],
   "source": [
    "tekst = \"\"\"To drugie zajęcia z przedmiotu:\n",
    "\"Podstawy programowania w języku Python\"\n",
    "Mam nadzieje, że zobaczymy się na kolejnych\"\"\"\n",
    "print(tekst)"
   ]
  },
  {
   "cell_type": "code",
   "execution_count": 75,
   "id": "97e3772e",
   "metadata": {},
   "outputs": [],
   "source": [
    "tekst = \"Podstawy programowania w języku Python\""
   ]
  },
  {
   "cell_type": "code",
   "execution_count": 80,
   "id": "74c91c4c",
   "metadata": {},
   "outputs": [
    {
     "name": "stdout",
     "output_type": "stream",
     "text": [
      "Pierwsza litera tekstu: P\n",
      "Pierwsze trzy litery tekstu: Pod\n",
      "Ostatnia litera tekstu: n\n",
      "Ostatnie trzy litery tekstu: tho\n"
     ]
    }
   ],
   "source": [
    "print(f\"Pierwsza litera tekstu: {tekst[0]}\")\n",
    "print(f\"Pierwsze trzy litery tekstu: {tekst[0:3]}\")\n",
    "print(f\"Ostatnia litera tekstu: {tekst[-1]}\")\n",
    "print(f\"Ostatnie trzy litery tekstu: {tekst[-4:-1]}\")\n"
   ]
  },
  {
   "cell_type": "markdown",
   "id": "a3f0abd6",
   "metadata": {},
   "source": [
    "---"
   ]
  },
  {
   "cell_type": "markdown",
   "id": "e102148f",
   "metadata": {},
   "source": [
    "### Liczby"
   ]
  },
  {
   "cell_type": "markdown",
   "id": "6862122f",
   "metadata": {},
   "source": [
    "Podstawowe operatory matematyczne"
   ]
  },
  {
   "cell_type": "code",
   "execution_count": 43,
   "id": "ef5c417f",
   "metadata": {},
   "outputs": [
    {
     "name": "stdout",
     "output_type": "stream",
     "text": [
      "Dodawanie: 2 + 2 = 4\n",
      "Odejmowanie: 3 - 2 = 1\n",
      "Mnożenie: 4 * 2 = 8\n",
      "Dzielenie: 4 : 2 = 2.0\n",
      "Potęgowanie: 4^2 = 16\n",
      "Pierwiastkowanie: 4^ (1/2) = 2.0\n"
     ]
    }
   ],
   "source": [
    "print(f\"Dodawanie: 2 + 2 = {2+2}\")\n",
    "print(f\"Odejmowanie: 3 - 2 = {3-2}\")\n",
    "print(f\"Mnożenie: 4 * 2 = {4*2}\")\n",
    "print(f\"Dzielenie: 4 : 2 = {4/2}\") #wynik - liczba zmiennoprzecinkowa (ang. float)\n",
    "print(f\"Potęgowanie: 4^2 = {4**2}\")\n",
    "print(f\"Pierwiastkowanie: 4^ (1/2) = {4**(1/2)}\") #wynik - liczba zmiennoprzecinkowa (ang. float)"
   ]
  },
  {
   "cell_type": "code",
   "execution_count": 45,
   "id": "d9274554",
   "metadata": {},
   "outputs": [
    {
     "name": "stdout",
     "output_type": "stream",
     "text": [
      "7000000000\n"
     ]
    }
   ],
   "source": [
    "liczba_ludnosci_swiata = 7_000_000_000\n",
    "print(liczba_ludnosci_swiata)"
   ]
  },
  {
   "cell_type": "code",
   "execution_count": 46,
   "id": "01dac520",
   "metadata": {},
   "outputs": [
    {
     "name": "stdout",
     "output_type": "stream",
     "text": [
      "6\n"
     ]
    }
   ],
   "source": [
    "a,b,c = 1,2,3\n",
    "print(a+b+c)"
   ]
  },
  {
   "cell_type": "code",
   "execution_count": null,
   "id": "6196ae98",
   "metadata": {},
   "outputs": [],
   "source": [
    "#Stałe z wielkiej litery (nie jest to specjalny typ)\n",
    "LICZBA_STUDENTÓW = 25"
   ]
  },
  {
   "cell_type": "code",
   "execution_count": 106,
   "id": "fdc333c4",
   "metadata": {},
   "outputs": [
    {
     "name": "stdout",
     "output_type": "stream",
     "text": [
      "1.12\n",
      "1.0\n",
      "1\n"
     ]
    },
    {
     "data": {
      "text/plain": [
       "True"
      ]
     },
     "execution_count": 106,
     "metadata": {},
     "output_type": "execute_result"
    }
   ],
   "source": [
    "print(round(1.123456789, 2))\n",
    "print(round(1.123456789, 0))\n",
    "print(round(1.123456789))\n",
    "round(1.123456789, 0) == round(1.123456789)\n"
   ]
  },
  {
   "cell_type": "code",
   "execution_count": 4,
   "id": "1243d5f8",
   "metadata": {},
   "outputs": [
    {
     "data": {
      "text/plain": [
       "100.0"
      ]
     },
     "execution_count": 4,
     "metadata": {},
     "output_type": "execute_result"
    }
   ],
   "source": [
    "1e2 #zwraca x * 10^n tutaj 1*10^2. Zwraca float"
   ]
  },
  {
   "cell_type": "markdown",
   "id": "1dd37237",
   "metadata": {},
   "source": [
    "---"
   ]
  },
  {
   "cell_type": "markdown",
   "id": "cd8b1f4e",
   "metadata": {},
   "source": [
    "### Komentarze"
   ]
  },
  {
   "cell_type": "markdown",
   "id": "2794147f",
   "metadata": {},
   "source": [
    "Komentarze dodajemy po znaku #"
   ]
  },
  {
   "cell_type": "code",
   "execution_count": 47,
   "id": "71c1b04e",
   "metadata": {},
   "outputs": [
    {
     "name": "stdout",
     "output_type": "stream",
     "text": [
      "Ta część nie jest zakomentowana\n"
     ]
    }
   ],
   "source": [
    "#To komentarz do kodu poniżej\n",
    "print(\"Ta część nie jest zakomentowana\")\n",
    "#print(\"a ta już jest zakomentowana\")"
   ]
  },
  {
   "cell_type": "markdown",
   "id": "27b2c7ab",
   "metadata": {},
   "source": [
    "### Inne"
   ]
  },
  {
   "cell_type": "markdown",
   "id": "6b1ffa05",
   "metadata": {},
   "source": [
    "Typy zmiennych"
   ]
  },
  {
   "cell_type": "code",
   "execution_count": 51,
   "id": "b4b50a64",
   "metadata": {},
   "outputs": [
    {
     "name": "stdout",
     "output_type": "stream",
     "text": [
      "<class 'int'>\n",
      "<class 'float'>\n",
      "<class 'str'>\n",
      "<class 'bool'>\n"
     ]
    }
   ],
   "source": [
    "a = 1\n",
    "print(type(a))\n",
    "b = 1.0\n",
    "print(type(b))\n",
    "c = \"1\"\n",
    "print(type(c))\n",
    "d = True\n",
    "print(type(d))"
   ]
  },
  {
   "cell_type": "code",
   "execution_count": 53,
   "id": "fe887953",
   "metadata": {},
   "outputs": [
    {
     "data": {
      "text/plain": [
       "True"
      ]
     },
     "execution_count": 53,
     "metadata": {},
     "output_type": "execute_result"
    }
   ],
   "source": [
    "a == b #1 = 1.0?"
   ]
  },
  {
   "cell_type": "code",
   "execution_count": 54,
   "id": "d81896c3",
   "metadata": {},
   "outputs": [
    {
     "data": {
      "text/plain": [
       "False"
      ]
     },
     "execution_count": 54,
     "metadata": {},
     "output_type": "execute_result"
    }
   ],
   "source": [
    "a == c #1 = \"1\"?"
   ]
  },
  {
   "cell_type": "code",
   "execution_count": 56,
   "id": "621570bd",
   "metadata": {},
   "outputs": [
    {
     "data": {
      "text/plain": [
       "True"
      ]
     },
     "execution_count": 56,
     "metadata": {},
     "output_type": "execute_result"
    }
   ],
   "source": [
    "1 == True"
   ]
  },
  {
   "cell_type": "code",
   "execution_count": 57,
   "id": "e8084afc",
   "metadata": {},
   "outputs": [
    {
     "data": {
      "text/plain": [
       "True"
      ]
     },
     "execution_count": 57,
     "metadata": {},
     "output_type": "execute_result"
    }
   ],
   "source": [
    "0 == False"
   ]
  },
  {
   "cell_type": "code",
   "execution_count": 101,
   "id": "33c8d347",
   "metadata": {},
   "outputs": [
    {
     "name": "stdout",
     "output_type": "stream",
     "text": [
      "string -> integer\n",
      "11\n",
      "float -> integer\n",
      "1\n",
      "string -> float\n",
      "1.1\n",
      "integer -> float\n",
      "1.0\n",
      "integer -> string\n",
      "1\n",
      "<class 'str'>\n",
      "float -> string\n",
      "1.1\n",
      "<class 'str'>\n"
     ]
    }
   ],
   "source": [
    "#konwertowanie\n",
    "\n",
    "print(\"string -> integer\")\n",
    "print(int(\"11\"))\n",
    "\n",
    "print(\"float -> integer\")\n",
    "print(int(1.1))\n",
    "\n",
    "print(\"string -> float\")\n",
    "print(float(\"1.1\"))\n",
    "      \n",
    "print(\"integer -> float\")\n",
    "print(float(1))\n",
    "\n",
    "print(\"integer -> string\")\n",
    "print(str(1))\n",
    "print(type(str(1)))\n",
    "\n",
    "print(\"float -> string\")\n",
    "print(str(1.1))\n",
    "print(type(str(1.1)))"
   ]
  },
  {
   "cell_type": "code",
   "execution_count": 96,
   "id": "f926825b",
   "metadata": {},
   "outputs": [
    {
     "data": {
      "text/plain": [
       "1"
      ]
     },
     "execution_count": 96,
     "metadata": {},
     "output_type": "execute_result"
    }
   ],
   "source": [
    "int(1.1)"
   ]
  },
  {
   "cell_type": "markdown",
   "id": "e0531ec0",
   "metadata": {},
   "source": [
    "w definicji zmiennych boolowskich 1 możemy rozpatrywać jako True a 0 jako False"
   ]
  },
  {
   "cell_type": "markdown",
   "id": "af58f20c",
   "metadata": {},
   "source": [
    "Operatory logiczne"
   ]
  },
  {
   "cell_type": "code",
   "execution_count": 61,
   "id": "949f1b00",
   "metadata": {},
   "outputs": [
    {
     "data": {
      "text/plain": [
       "False"
      ]
     },
     "execution_count": 61,
     "metadata": {},
     "output_type": "execute_result"
    }
   ],
   "source": [
    "True and False"
   ]
  },
  {
   "cell_type": "code",
   "execution_count": 62,
   "id": "2172dccd",
   "metadata": {},
   "outputs": [
    {
     "data": {
      "text/plain": [
       "True"
      ]
     },
     "execution_count": 62,
     "metadata": {},
     "output_type": "execute_result"
    }
   ],
   "source": [
    "True or False"
   ]
  },
  {
   "cell_type": "code",
   "execution_count": 63,
   "id": "d6848504",
   "metadata": {},
   "outputs": [
    {
     "data": {
      "text/plain": [
       "False"
      ]
     },
     "execution_count": 63,
     "metadata": {},
     "output_type": "execute_result"
    }
   ],
   "source": [
    "not True "
   ]
  },
  {
   "cell_type": "code",
   "execution_count": 64,
   "id": "9f90d92b",
   "metadata": {},
   "outputs": [
    {
     "data": {
      "text/plain": [
       "True"
      ]
     },
     "execution_count": 64,
     "metadata": {},
     "output_type": "execute_result"
    }
   ],
   "source": [
    "not False"
   ]
  },
  {
   "cell_type": "code",
   "execution_count": 67,
   "id": "15f8fe85",
   "metadata": {},
   "outputs": [
    {
     "data": {
      "text/plain": [
       "True"
      ]
     },
     "execution_count": 67,
     "metadata": {},
     "output_type": "execute_result"
    }
   ],
   "source": [
    "not 0"
   ]
  },
  {
   "cell_type": "code",
   "execution_count": 68,
   "id": "30ff23e1",
   "metadata": {},
   "outputs": [
    {
     "data": {
      "text/plain": [
       "False"
      ]
     },
     "execution_count": 68,
     "metadata": {},
     "output_type": "execute_result"
    }
   ],
   "source": [
    "not 1"
   ]
  },
  {
   "cell_type": "code",
   "execution_count": 69,
   "id": "12fe5b4a",
   "metadata": {},
   "outputs": [
    {
     "data": {
      "text/plain": [
       "False"
      ]
     },
     "execution_count": 69,
     "metadata": {},
     "output_type": "execute_result"
    }
   ],
   "source": [
    "not 8"
   ]
  },
  {
   "cell_type": "code",
   "execution_count": 70,
   "id": "6581d530",
   "metadata": {},
   "outputs": [
    {
     "data": {
      "text/plain": [
       "True"
      ]
     },
     "execution_count": 70,
     "metadata": {},
     "output_type": "execute_result"
    }
   ],
   "source": [
    "1 and True"
   ]
  },
  {
   "cell_type": "code",
   "execution_count": 74,
   "id": "e9fc7a8e",
   "metadata": {},
   "outputs": [
    {
     "data": {
      "text/plain": [
       "False"
      ]
     },
     "execution_count": 74,
     "metadata": {},
     "output_type": "execute_result"
    }
   ],
   "source": [
    "0 or False"
   ]
  },
  {
   "cell_type": "markdown",
   "id": "dd898363",
   "metadata": {},
   "source": [
    "---"
   ]
  },
  {
   "cell_type": "markdown",
   "id": "5c185eff",
   "metadata": {},
   "source": [
    "Na koniec spróbujmy odpalić pythona z konsoli"
   ]
  },
  {
   "cell_type": "markdown",
   "id": "a4536245",
   "metadata": {},
   "source": [
    "### Zadania"
   ]
  },
  {
   "cell_type": "markdown",
   "id": "5773eaf7",
   "metadata": {},
   "source": [
    "__Zadanie 1__<br>\n",
    "Umieść prosty komunikat w zmiennej a następnie go wyświetl"
   ]
  },
  {
   "cell_type": "markdown",
   "id": "41d1111c",
   "metadata": {},
   "source": [
    "__Zadanie 1__<br>\n",
    "Umieść prosty komunikat w zmiennej a następnie go wyświetl"
   ]
  },
  {
   "cell_type": "markdown",
   "id": "40105288",
   "metadata": {},
   "source": [
    "__Zadanie 2__<br>\n",
    "Stwórz dwie zmienne a następnie wyświetl je w jednym komunikacie"
   ]
  },
  {
   "cell_type": "markdown",
   "id": "4f199380",
   "metadata": {},
   "source": [
    "__Zadanie 3__<br>\n",
    "Zapisz w imieniu białe znaki z lewej i z prawej strony (spacje, nowe wiersze, tab).\n",
    "Usuń te znaki używając znanych Ci poleceń do usuwania białych znaków."
   ]
  },
  {
   "cell_type": "markdown",
   "id": "7971d9f7",
   "metadata": {},
   "source": [
    "__Zadanie 4__<br>\n",
    "Umieść w zmiennej ulubioną liczbę. Następnie używając tej zmiennej wyświetl komuniat o pierwiastku z tej liczby."
   ]
  },
  {
   "cell_type": "markdown",
   "id": "84ca6d37",
   "metadata": {},
   "source": [
    "__Zadanie 5__<br>\n",
    "Utwórz zmienne a,b i c, każdą mającą inny, poznany typ danych.\n",
    "Użyj polecenia do sprawdzenia typu a następnie spróbuj przekonwertować te zmienne na inne typy."
   ]
  }
 ],
 "metadata": {
  "kernelspec": {
   "display_name": "Python 3 (ipykernel)",
   "language": "python",
   "name": "python3"
  },
  "language_info": {
   "codemirror_mode": {
    "name": "ipython",
    "version": 3
   },
   "file_extension": ".py",
   "mimetype": "text/x-python",
   "name": "python",
   "nbconvert_exporter": "python",
   "pygments_lexer": "ipython3",
   "version": "3.8.10"
  }
 },
 "nbformat": 4,
 "nbformat_minor": 5
}
