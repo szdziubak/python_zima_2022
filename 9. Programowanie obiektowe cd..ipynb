{
 "cells": [
  {
   "cell_type": "markdown",
   "id": "7fcf8489",
   "metadata": {},
   "source": [
    "# Programowanie obiektowe cd.\n",
    "\n",
    "Szymon Dziubak"
   ]
  },
  {
   "cell_type": "markdown",
   "id": "d439a16a",
   "metadata": {},
   "source": [
    "Dziedziczenie <br>\n",
    "Nie zawsze trzeba tworzyć nową klasę od podstaw. Można zasosować dziedziczenie czyli proces w którym jedna klasa dziedziczy (przejmuje) pewne atrybuty i metody z innej klasy.\n",
    "<br>Klasa pierwotna to klasa nadrzędna natomiast klasa która dziedziczy to klasa potomna."
   ]
  },
  {
   "cell_type": "code",
   "execution_count": 15,
   "id": "905abbeb",
   "metadata": {},
   "outputs": [],
   "source": [
    "#Metoda __init__() w klasie potomnej"
   ]
  },
  {
   "cell_type": "code",
   "execution_count": 12,
   "id": "ab73c5bd",
   "metadata": {},
   "outputs": [],
   "source": [
    "class Car:\n",
    "    def __init__(self, make, model, year):\n",
    "        self.make = make\n",
    "        self.model = model\n",
    "        self.year = year\n",
    "        self.odometer_reading = 0\n",
    " \n",
    "    def get_descriptive_name(self):\n",
    "        long_name = f\"{self.year} {self.make} {self.model}\"\n",
    "        return long_name.title()\n",
    " \n",
    "    def read_odometer(self):\n",
    "        print(f\"This car has {self.odometer_reading} miles on it.\")\n",
    " \n",
    "    def update_odometer(self, mileage):\n",
    "        if mileage >= self.odometer_reading:\n",
    "            self.odometer_reading = mileage\n",
    "        else:\n",
    "            print(\"You can't roll back an odometer!\")\n",
    " \n",
    "    def increment_odometer(self, miles):\n",
    "        self.odometer_reading += miles\n"
   ]
  },
  {
   "cell_type": "code",
   "execution_count": 13,
   "id": "ffb9bc41",
   "metadata": {},
   "outputs": [],
   "source": [
    "class ElectricCar(Car): #definicja klasy potomnej, z klasą nadrzędną w nawiasie\n",
    "    \"\"\"Przedstawia cechy charakterystyczne samochodu elektrycznego\"\"\"\n",
    " \n",
    "    def __init__(self, make, model, year):\n",
    "        \"\"\"Inicjalizuje parametry klasy nadrzędnej\"\"\"\n",
    "        super().__init__(make, model, year)  #pobiera informacje wymagane do utworzenia egzemplarza klasy Car\n",
    "        #wywołanie super() tworzy połączenie między klasami. Pozwala na otrzymanie wszytskich atrybutów klasy nadrzędnej\n",
    " "
   ]
  },
  {
   "cell_type": "code",
   "execution_count": 14,
   "id": "cc347038",
   "metadata": {},
   "outputs": [
    {
     "name": "stdout",
     "output_type": "stream",
     "text": [
      "2019 Tesla Model S\n"
     ]
    }
   ],
   "source": [
    "my_tesla = ElectricCar('tesla', 'model s', 2019) \n",
    "print(my_tesla.get_descriptive_name()) #klasa ElectricCar oddziedziczyła metody klasy Car"
   ]
  },
  {
   "cell_type": "code",
   "execution_count": null,
   "id": "4fa3bbbc",
   "metadata": {},
   "outputs": [],
   "source": [
    "#Definiowanie atrybutów i metod dla klasy potomnej"
   ]
  },
  {
   "cell_type": "code",
   "execution_count": 27,
   "id": "11d9c553",
   "metadata": {},
   "outputs": [],
   "source": [
    "class ElectricCar(Car):\n",
    "    def __init__(self, make, model, year):\n",
    "        \"\"\"Inicjalizuje parametry klasy nadrzędnej. \n",
    "        Następnie inicjalizuje atrybuty charakterystyczne\"\"\"\n",
    "        super().__init__(make, model, year)\n",
    "        self.battery_size = 75 #nowy atrybut\n",
    " \n",
    "    def describe_battery(self): #dodajemy nową metodę \n",
    "        \"\"\"Wyświetla informacje o pojemności akumulatora\"\"\"\n",
    "        print(f\"This car has a {self.battery_size}-kWh battery.\")"
   ]
  },
  {
   "cell_type": "code",
   "execution_count": 17,
   "id": "405f95dc",
   "metadata": {},
   "outputs": [
    {
     "name": "stdout",
     "output_type": "stream",
     "text": [
      "2019 Tesla Model S\n"
     ]
    },
    {
     "ename": "AttributeError",
     "evalue": "'ElectricCar' object has no attribute 'describe_battery'",
     "output_type": "error",
     "traceback": [
      "\u001b[1;31m---------------------------------------------------------------------------\u001b[0m",
      "\u001b[1;31mAttributeError\u001b[0m                            Traceback (most recent call last)",
      "\u001b[1;32mC:\\Users\\BPOL_1~1\\AppData\\Local\\Temp/ipykernel_17860/592445602.py\u001b[0m in \u001b[0;36m<module>\u001b[1;34m\u001b[0m\n\u001b[0;32m      1\u001b[0m \u001b[0mmy_tesla\u001b[0m \u001b[1;33m=\u001b[0m \u001b[0mElectricCar\u001b[0m\u001b[1;33m(\u001b[0m\u001b[1;34m'tesla'\u001b[0m\u001b[1;33m,\u001b[0m \u001b[1;34m'model s'\u001b[0m\u001b[1;33m,\u001b[0m \u001b[1;36m2019\u001b[0m\u001b[1;33m)\u001b[0m\u001b[1;33m\u001b[0m\u001b[1;33m\u001b[0m\u001b[0m\n\u001b[0;32m      2\u001b[0m \u001b[0mprint\u001b[0m\u001b[1;33m(\u001b[0m\u001b[0mmy_tesla\u001b[0m\u001b[1;33m.\u001b[0m\u001b[0mget_descriptive_name\u001b[0m\u001b[1;33m(\u001b[0m\u001b[1;33m)\u001b[0m\u001b[1;33m)\u001b[0m\u001b[1;33m\u001b[0m\u001b[1;33m\u001b[0m\u001b[0m\n\u001b[1;32m----> 3\u001b[1;33m \u001b[0mmy_tesla\u001b[0m\u001b[1;33m.\u001b[0m\u001b[0mdescribe_battery\u001b[0m\u001b[1;33m(\u001b[0m\u001b[1;33m)\u001b[0m\u001b[1;33m\u001b[0m\u001b[1;33m\u001b[0m\u001b[0m\n\u001b[0m",
      "\u001b[1;31mAttributeError\u001b[0m: 'ElectricCar' object has no attribute 'describe_battery'"
     ]
    }
   ],
   "source": [
    "my_tesla = ElectricCar('tesla', 'model s', 2019)\n",
    "print(my_tesla.get_descriptive_name())\n",
    "my_tesla.describe_battery()"
   ]
  },
  {
   "cell_type": "code",
   "execution_count": null,
   "id": "a8727a88",
   "metadata": {},
   "outputs": [],
   "source": [
    "#Nadpisywanie metod klasy nadrzędnej"
   ]
  },
  {
   "cell_type": "code",
   "execution_count": 44,
   "id": "3ea0a85d",
   "metadata": {},
   "outputs": [],
   "source": [
    "class Car:\n",
    "    def __init__(self, make, model, year):\n",
    "        self.make = make\n",
    "        self.model = model\n",
    "        self.year = year\n",
    "        self.odometer_reading = 0\n",
    " \n",
    "    def get_descriptive_name(self):\n",
    "        long_name = f\"{self.year} {self.make} {self.model}\"\n",
    "        return long_name.title()\n",
    " \n",
    "    def read_odometer(self):\n",
    "        print(f\"This car has {self.odometer_reading} miles on it.\")\n",
    " \n",
    "    def update_odometer(self, mileage):\n",
    "        if mileage >= self.odometer_reading:\n",
    "            self.odometer_reading = mileage\n",
    "        else:\n",
    "            print(\"You can't roll back an odometer!\")\n",
    " \n",
    "    def increment_odometer(self, miles):\n",
    "        self.odometer_reading += miles\n",
    "\n",
    "    def fill_gas_tank():\n",
    "        print(\"Tankuję paliwo!\")"
   ]
  },
  {
   "cell_type": "code",
   "execution_count": 48,
   "id": "ba585a1b",
   "metadata": {},
   "outputs": [],
   "source": [
    "class ElectricCar(Car):\n",
    "    def __init__(self, make, model, year):\n",
    "        \"\"\"Inicjalizuje parametry klasy nadrzędnej. \n",
    "        Następnie inicjalizuje atrybuty charakterystyczne\"\"\"\n",
    "        super().__init__(make, model, year)\n",
    "        self.battery_size = 75 #nowy atrybut\n",
    "        \n",
    "    def describe_battery(self): #dodajemy nową metodę \n",
    "        \"\"\"Wyświetla informacje o pojemności akumulatora\"\"\"\n",
    "        print(f\"This car has a {self.battery_size}-kWh battery.\")\n",
    "        \n",
    "    @staticmethod #jeżeli nie chcemy używać argumentu self bo nie jest nam potrzebny to przed funkcją piszemy @staticmethod\n",
    "    def fill_gas_tank(): #nadpisujemy metodę\n",
    "        \"Nadpisana metoda\"\n",
    "        print(\"Ten samochód nie wymaga tankowania paliwa!\")"
   ]
  },
  {
   "cell_type": "code",
   "execution_count": 49,
   "id": "ab533e59",
   "metadata": {},
   "outputs": [
    {
     "name": "stdout",
     "output_type": "stream",
     "text": [
      "Ten samochód nie wymaga tankowania paliwa!\n",
      "None\n"
     ]
    }
   ],
   "source": [
    "my_tesla = ElectricCar('tesla', 'model s', 2019)\n",
    "print(my_tesla.fill_gas_tank())"
   ]
  },
  {
   "cell_type": "code",
   "execution_count": null,
   "id": "c3f0b3c8",
   "metadata": {},
   "outputs": [],
   "source": [
    "#Egzemplarz jako atrybut\n",
    "#zagadnienie - mamy wiele metod w klasie i chcemy dokonać ich podziału na mneijsze klasy"
   ]
  },
  {
   "cell_type": "code",
   "execution_count": 50,
   "id": "0fc8b782",
   "metadata": {},
   "outputs": [],
   "source": [
    "class Car:\n",
    "    def __init__(self, make, model, year):\n",
    "        self.make = make\n",
    "        self.model = model\n",
    "        self.year = year\n",
    "        self.odometer_reading = 0\n",
    " \n",
    "    def get_descriptive_name(self):\n",
    "        long_name = f\"{self.year} {self.make} {self.model}\"\n",
    "        return long_name.title()\n",
    " \n",
    "    def read_odometer(self):\n",
    "        print(f\"This car has {self.odometer_reading} miles on it.\")\n",
    " \n",
    "    def update_odometer(self, mileage):\n",
    "        if mileage >= self.odometer_reading:\n",
    "            self.odometer_reading = mileage\n",
    "        else:\n",
    "            print(\"You can't roll back an odometer!\")\n",
    " \n",
    "    def increment_odometer(self, miles):\n",
    "        self.odometer_reading += miles\n",
    "\n",
    "    def fill_gas_tank():\n",
    "        print(\"Tankuję paliwo!\")"
   ]
  },
  {
   "cell_type": "code",
   "execution_count": 55,
   "id": "d9a3d250",
   "metadata": {},
   "outputs": [],
   "source": [
    "#wyrzucamy obiekt Battery poza klase Car\n",
    "class Battery:\n",
    "    \"\"\"A simple attempt to model a battery for an electric car.\"\"\"\n",
    " \n",
    "    def __init__(self, battery_size=75):\n",
    "        \"\"\"Initialize the battery's attributes.\"\"\"\n",
    "        self.battery_size = battery_size\n",
    "    def describe_battery(self):\n",
    "        \"\"\"Print a statement describing the battery size.\"\"\"\n",
    "        print(f\"This car has a {self.battery_size}-kWh battery.\")\n",
    "\n",
    "    def get_range(self):\n",
    "        \"\"\"Print a statement about the range this battery provides.\"\"\"\n",
    "        if self.battery_size == 75:\n",
    "            range = 260\n",
    "        elif self.battery_size == 100:\n",
    "            range = 315\n",
    "        print(f\"This car can go about {range} miles on a full charge.\")"
   ]
  },
  {
   "cell_type": "code",
   "execution_count": 52,
   "id": "365b8c08",
   "metadata": {},
   "outputs": [],
   "source": [
    "class ElectricCar(Car):\n",
    "    \"\"\"Represent aspects of a car, specific to electric vehicles.\"\"\"\n",
    "    def __init__(self, make, model, year):\n",
    "        \"\"\"\n",
    "        Initialize attributes of the parent class.\n",
    "        Then initialize attributes specific to an electric car.\n",
    "        \"\"\"\n",
    "        super().__init__(make, model, year)\n",
    "        self.battery = Battery() #tworzymy egzemplarz klasy Battery"
   ]
  },
  {
   "cell_type": "code",
   "execution_count": 56,
   "id": "e2ad1895",
   "metadata": {},
   "outputs": [
    {
     "name": "stdout",
     "output_type": "stream",
     "text": [
      "2019 Tesla Model S\n",
      "This car has a 75-kWh battery.\n"
     ]
    }
   ],
   "source": [
    "my_tesla = ElectricCar('tesla', 'model s', 2019)\n",
    "print(my_tesla.get_descriptive_name())\n",
    "my_tesla.battery.describe_battery()"
   ]
  },
  {
   "cell_type": "code",
   "execution_count": 57,
   "id": "88b4f195",
   "metadata": {},
   "outputs": [
    {
     "name": "stdout",
     "output_type": "stream",
     "text": [
      "This car can go about 260 miles on a full charge.\n"
     ]
    }
   ],
   "source": [
    "my_tesla.battery.get_range()"
   ]
  },
  {
   "cell_type": "markdown",
   "id": "d7b533b3",
   "metadata": {},
   "source": [
    "Abstrakcja<br>\n",
    "Jeżeli klasa, posiada metody abstrakcyjne, oznacza to tyle że, potomstwo jest zmuszone ją nadpisać. Równocześnie klasa taka, nigdy nie powinna być sama w sobie wykorzystana do tworzenia obiektów."
   ]
  },
  {
   "cell_type": "markdown",
   "id": "0ce79892",
   "metadata": {},
   "source": [
    "Źródło: http://analityk.edu.pl/programowanie-obiektowe-w-python-dziedziczenie/ (polecam doczytać)"
   ]
  },
  {
   "cell_type": "markdown",
   "id": "c87d0f4a",
   "metadata": {},
   "source": [
    "Zamieniamy klasę ptak na klasę abstrakcyjną. Na metodę abstrakcyjną zamieniamy metodę 'wydajOdglos'.\n",
    "Klasę i metodę trzeba więc nadpisać w klasach dziedziczących."
   ]
  },
  {
   "cell_type": "code",
   "execution_count": 110,
   "id": "19c3b772",
   "metadata": {},
   "outputs": [],
   "source": [
    "from abc import ABC, abstractmethod\n",
    "#klasa abc zapewnia możliwość definicji klas abstrakcyjnych (abstract base classes)\n",
    "class ptak(ABC): #ABC czyli klasa abstrakcyjna\n",
    "    \n",
    "    def __init__ (self, gatunek, szybkość):\n",
    "        self.gatunek = gatunek\n",
    "        self.szybkość = szybkość\n",
    "        \n",
    "    def lec(self):\n",
    "        print (\"Tu\", self.gatunek, \". Startuje, i zaraz osiągne prędkość\", self.szybkość)\n",
    "    \n",
    "    @abstractmethod #metoda abstrakcyjna, trzeba nadpisać\n",
    "    def wydajOdgłos(self):\n",
    "        pass"
   ]
  },
  {
   "cell_type": "code",
   "execution_count": 111,
   "id": "3da56f65",
   "metadata": {},
   "outputs": [
    {
     "ename": "TypeError",
     "evalue": "Can't instantiate abstract class ptak with abstract methods wydajOdgłos",
     "output_type": "error",
     "traceback": [
      "\u001b[1;31m---------------------------------------------------------------------------\u001b[0m",
      "\u001b[1;31mTypeError\u001b[0m                                 Traceback (most recent call last)",
      "\u001b[1;32mC:\\Users\\BPOL_1~1\\AppData\\Local\\Temp/ipykernel_10616/3877884109.py\u001b[0m in \u001b[0;36m<module>\u001b[1;34m\u001b[0m\n\u001b[1;32m----> 1\u001b[1;33m \u001b[0mptak\u001b[0m \u001b[1;33m=\u001b[0m \u001b[0mptak\u001b[0m\u001b[1;33m(\u001b[0m\u001b[1;33m)\u001b[0m \u001b[1;31m#z klasy abstrakcyjnej nie można stworzyć egzemplarza\u001b[0m\u001b[1;33m\u001b[0m\u001b[1;33m\u001b[0m\u001b[0m\n\u001b[0m",
      "\u001b[1;31mTypeError\u001b[0m: Can't instantiate abstract class ptak with abstract methods wydajOdgłos"
     ]
    }
   ],
   "source": [
    "ptak = ptak() #z klasy abstrakcyjnej nie można stworzyć egzemplarza"
   ]
  },
  {
   "cell_type": "code",
   "execution_count": 112,
   "id": "c75ac8f7",
   "metadata": {},
   "outputs": [],
   "source": [
    "class orzeł (ptak): #dziedziczenie\n",
    "    \n",
    "    def __init__ (self, szybkość):\n",
    "        super().__init__(\"orzeł\", szybkość)\n",
    "    \n",
    "    def poluj(self):\n",
    "            print (\"Tu\", self.gatunek, \". Rozpoczołem polowanie\")\n",
    "            \n",
    "    def wydajOdgłos(self): #nadpisanie klasy\n",
    "        print (\"wrrrr\")"
   ]
  },
  {
   "cell_type": "code",
   "execution_count": 113,
   "id": "2c237a61",
   "metadata": {},
   "outputs": [
    {
     "name": "stdout",
     "output_type": "stream",
     "text": [
      "wrrrr\n"
     ]
    }
   ],
   "source": [
    "egz = orzeł(100) #tutaj już możemy wywołać klasę i metodę\n",
    "egz.wydajOdgłos()"
   ]
  },
  {
   "cell_type": "code",
   "execution_count": 114,
   "id": "3b83d7c8",
   "metadata": {},
   "outputs": [],
   "source": [
    "class pingwin (ptak):\n",
    "            \n",
    "    def __init__(self, szybkość):\n",
    "        super().__init__(\"pingwin\", szybkość)\n",
    "        \n",
    "    def ślizgaj(self):\n",
    "        print (\"Tu\", self.gatunek, \". Rozpoczołem ślizg\")\n",
    "        \n",
    "    def lec(self):\n",
    "        print (\"Tu\", self.gatunek, \". Przykro mi, ale nie latam\")\n",
    "\n",
    "    def wydajOdgłos(self):\n",
    "        print (\"kwiiiii\")"
   ]
  },
  {
   "cell_type": "markdown",
   "id": "296860af",
   "metadata": {},
   "source": [
    "Podsumowując:\n",
    "- klasa ABC i funkcje abc i abstractmethod pozwalają na tworzenie klas i metod abstrakcyjnych\n",
    "- klasa ptak dziedziczy ABC\n",
    "- metody przed którymi jest @abstractmethod są metodami abstrakcyjnymi\n",
    "- wyrażenia np. @abstractmethod to dekoratory\n",
    "- klasy orzeł i pingwin muszą(!) nadpisać metody abstrakcyjne\n",
    "- jest to przydatne gdy chcemy zmusić klasy potomne do posiadania jakiś metod, w tym przypadku wydajOsglos"
   ]
  },
  {
   "cell_type": "markdown",
   "id": "237b1f0b",
   "metadata": {},
   "source": [
    "Enkapsulacja / hermetyzacja<br>\n",
    "Polega na uniemozliwieniu uzyskania dostępu do parametrów z zewnątrz klasy.\n",
    "Hermetyzacji mozna poddac zmienne i metody.<br>\n",
    "Dosłownej hermetyzacji w pythonie nie ma."
   ]
  },
  {
   "cell_type": "code",
   "execution_count": 8,
   "id": "3401807d",
   "metadata": {},
   "outputs": [],
   "source": [
    "class samochód:\n",
    "    \n",
    "    def __init__(self):\n",
    "        \n",
    "        self.__silnik = False #zmieniamy nazwy na __nazwa dzieki czemu będzie to metoda wewnętrzna\n",
    "        self.__bieg = 0\n",
    "        self.__prędkość= 0\n",
    "        \n",
    "    def uruchom(self):\n",
    "        self.__silnik = True\n",
    "    \n",
    "    def wyłącz(self):\n",
    "        self.__silnik = False\n",
    "    \n",
    "    def biegNastępny(self):\n",
    "        if self.__bieg <= 6: self.__bieg += 1; print(self.__bieg)\n",
    "            \n",
    "    def biegPoprzedni(self):\n",
    "        if self.__bieg >= 0: self.__bieg -= 1; print(self.__bieg)\n",
    "            \n",
    "    def przyspiesz(self):\n",
    "        if self.__silnik == True and self.__bieg > 0 : self.__prędkość += 10; print(self.__prędkość)\n",
    "        \n",
    "    def hamuj(self):\n",
    "        if self.__prędkość >= 10: self.__prędkość -= 10\n",
    "        else: self.__prędkość = 0\n",
    "        print(self.__prędkość)"
   ]
  },
  {
   "cell_type": "code",
   "execution_count": 9,
   "id": "968e4569",
   "metadata": {},
   "outputs": [],
   "source": [
    "#możemy stworzyć egzemplarz i uruchomić metody\n",
    "car = samochód()\n",
    "#car.uruchom()\n",
    "#car.biegNastępny()\n",
    "#car.przyspiesz()\n",
    "#car.hamuj()\n",
    "#car.wyłącz()"
   ]
  },
  {
   "cell_type": "code",
   "execution_count": 11,
   "id": "472486c5",
   "metadata": {},
   "outputs": [
    {
     "name": "stdout",
     "output_type": "stream",
     "text": [
      "0\n"
     ]
    }
   ],
   "source": [
    "#nie powinniśmy wyświetlać metod wewnętrznych. \n",
    "#Python bezpośrednio nie uniemożliwia odwołania się do metod wewnętrznych ale nie powinniśmy tego robić\n",
    "#print(car.__prędkość) #nie wyświetla\n",
    "print(car._samochód__prędkość)#wyświetla ale musimy zdefiniować: _nazwaKlasy__nazwaAtrybutu\n",
    "#car.__prędkość = 20"
   ]
  },
  {
   "cell_type": "code",
   "execution_count": 6,
   "id": "8f703486",
   "metadata": {},
   "outputs": [],
   "source": [
    "car.__prędkość = 20 #można edytować atrybuty"
   ]
  },
  {
   "cell_type": "markdown",
   "id": "e6dcd7ca",
   "metadata": {},
   "source": [
    "Polimorfizm<br>\n",
    "Polega na tym, że klasa podrzędna (dziedzicząca) może być użyta tam gdzie użyta jest klasa nadrzędna (bazowa).\n",
    "Instancja klasy dziedziczącej jest instancją klasy bazowej.\n",
    "Użyjemy metody isinstance() żeby sprawdzić, czy dany obiekt należy do jakiejś klasy."
   ]
  },
  {
   "cell_type": "code",
   "execution_count": 115,
   "id": "6132098f",
   "metadata": {},
   "outputs": [
    {
     "data": {
      "text/plain": [
       "True"
      ]
     },
     "execution_count": 115,
     "metadata": {},
     "output_type": "execute_result"
    }
   ],
   "source": [
    "jakub = pingwin(20)\n",
    "isinstance(jakub, pingwin) #True - jakub jet instancją klasy pingwin\n",
    "isinstance(jakub, orzeł) #False\n",
    "isinstance(jakub, ptak) #True - patrz definicje poliformizmu"
   ]
  },
  {
   "cell_type": "markdown",
   "id": "24d4285e",
   "metadata": {},
   "source": [
    "### Zadania"
   ]
  },
  {
   "cell_type": "markdown",
   "id": "deee0457",
   "metadata": {},
   "source": [
    "1. Stwórz klasę nadrzędną jednoślady i klasy podrzędne motor i skuter dziedziczące z klasy nadrzędnej.\n",
    "Dodaj atrybuty obydwu obiektów i metody dla nich wspólne i charakterystyczne dla każdego z nich. "
   ]
  },
  {
   "cell_type": "markdown",
   "id": "009b26da",
   "metadata": {},
   "source": [
    "2. Zmodyfikuj klasę jednoślady z zadania 2 aby nie dało się jej wywołać. W klasie jednoślady dodaj metodę, którę należy nadpisać dla motorów i skuterów."
   ]
  },
  {
   "cell_type": "markdown",
   "id": "fca065fb",
   "metadata": {},
   "source": [
    "3. Niektórych z atrybutów nie powinno się zmieniać. Dla klas z zadania 2 dodaj hermetyzacje tych atrybutów."
   ]
  },
  {
   "cell_type": "markdown",
   "id": "027a99b0",
   "metadata": {},
   "source": [
    "4. SGH ma kilka budynków. Utwórz klasę budynek a następnie klasę budynek_SGH który opisuje budynki na SGH. "
   ]
  },
  {
   "cell_type": "markdown",
   "id": "d6643e76",
   "metadata": {},
   "source": [
    "5. Klasa nadrzędna z zadania 4 nie powinna być wywoływana bezpośrednio. \n",
    "Dodatkowo dodaj atrybut w klasie nadrzędnej iloscOsob któa wyświetla, ile maksymalnie osób może znajdować się w budynku. Metoda powinna być nadpisana."
   ]
  },
  {
   "cell_type": "markdown",
   "id": "a63172b4",
   "metadata": {},
   "source": [
    "6. W klasach z zadania 6 dodaj hermetyzacje tych atrybutów, których nie powinno się zmieniać."
   ]
  },
  {
   "cell_type": "markdown",
   "id": "77d73ddc",
   "metadata": {},
   "source": [
    "7. Stwórz 2 wystąpienia klasy z zadania 3 i za pomocą odpowiedniej metody sprawdź instancją której klasy są te wystąpienia. Czy są również instancją klasy nadrzędnej?"
   ]
  }
 ],
 "metadata": {
  "kernelspec": {
   "display_name": "Python 3 (ipykernel)",
   "language": "python",
   "name": "python3"
  },
  "language_info": {
   "codemirror_mode": {
    "name": "ipython",
    "version": 3
   },
   "file_extension": ".py",
   "mimetype": "text/x-python",
   "name": "python",
   "nbconvert_exporter": "python",
   "pygments_lexer": "ipython3",
   "version": "3.8.10"
  }
 },
 "nbformat": 4,
 "nbformat_minor": 5
}
