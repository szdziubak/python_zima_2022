{
 "cells": [
  {
   "cell_type": "markdown",
   "id": "88647d4d",
   "metadata": {},
   "source": [
    "# 5.1. Biblioteka math\n",
    "\n",
    "Szymon Dziubak"
   ]
  },
  {
   "cell_type": "code",
   "execution_count": 18,
   "id": "06154075",
   "metadata": {},
   "outputs": [],
   "source": [
    "import math #biblioteka do obliczeń matematycznych"
   ]
  },
  {
   "cell_type": "code",
   "execution_count": 8,
   "id": "09239a69",
   "metadata": {},
   "outputs": [
    {
     "name": "stdout",
     "output_type": "stream",
     "text": [
      "Liczba Eulera:\n",
      "2.718281828459045\n",
      "Liczba Pi:\n",
      "3.141592653589793\n",
      "Tau:\n",
      "6.283185307179586\n",
      "Nieskończoność:\n",
      "inf\n",
      "Not A Number:\n",
      "nan\n"
     ]
    }
   ],
   "source": [
    "#Stałe\n",
    "\n",
    "print(\"Liczba Eulera:\")\n",
    "print(math.e) \n",
    "\n",
    "print(\"Liczba Pi:\")\n",
    "print(math.pi) \n",
    "\n",
    "print(\"Tau:\") #stosunek obwodu do promienia okręgu\n",
    "print(math.tau) \n",
    "\n",
    "print(\"Nieskończoność:\")\n",
    "print(math.inf) \n",
    "\n",
    "print(\"Not A Number:\")\n",
    "print(math.nan) "
   ]
  },
  {
   "cell_type": "code",
   "execution_count": 17,
   "id": "9d2cc41b",
   "metadata": {},
   "outputs": [
    {
     "name": "stdout",
     "output_type": "stream",
     "text": [
      "3\n",
      "2\n",
      "120\n",
      "4\n",
      "5.0\n",
      "22026.465794806718\n",
      "81\n",
      "1.5849625007211563\n",
      "3.321928094887362\n",
      "1.0\n",
      "1.9235384061671346\n"
     ]
    }
   ],
   "source": [
    "#Funkcje numeryczne\n",
    "\n",
    "#zaokrąglenie do góry\n",
    "print(math.ceil(2.1))\n",
    "\n",
    "#zaokrąglenie w dół\n",
    "print(math.floor(2.1))\n",
    "\n",
    "#silnia\n",
    "print(math.factorial(5))\n",
    "\n",
    "#największy wspólny dzielnik\n",
    "print(math.gcd(20, 16))\n",
    "\n",
    "#wartość bezwzględna\n",
    "print(math.fabs(-5))\n",
    "\n",
    "#exp - liczba eulera do potęgi n\n",
    "print(math.exp(10))\n",
    "\n",
    "#potęga\n",
    "print(pow(3,4))\n",
    "\n",
    "#logarytmy\n",
    "print(math.log(3,2)) #liczba, baza\n",
    "print(math.log2(10))\n",
    "print(math.log10(10))\n",
    "\n",
    "#pierwiastek\n",
    "print(math.sqrt(3.7))"
   ]
  }
 ],
 "metadata": {
  "kernelspec": {
   "display_name": "Python 3 (ipykernel)",
   "language": "python",
   "name": "python3"
  },
  "language_info": {
   "codemirror_mode": {
    "name": "ipython",
    "version": 3
   },
   "file_extension": ".py",
   "mimetype": "text/x-python",
   "name": "python",
   "nbconvert_exporter": "python",
   "pygments_lexer": "ipython3",
   "version": "3.8.10"
  }
 },
 "nbformat": 4,
 "nbformat_minor": 5
}
