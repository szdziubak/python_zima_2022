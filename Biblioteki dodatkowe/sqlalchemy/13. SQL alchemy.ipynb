{
 "cells": [
  {
   "cell_type": "markdown",
   "id": "8c37b48b",
   "metadata": {},
   "source": [
    "# SQL Alchemy\n",
    "\n",
    "Szymon Dziubak"
   ]
  },
  {
   "cell_type": "code",
   "execution_count": 1,
   "id": "c28eb2f4",
   "metadata": {},
   "outputs": [],
   "source": [
    "#Tutaj pokazane jest budowanie kodu krok po kroku\n",
    "#w folderze utowrzone są pliki .py które pokazują działanie modułów"
   ]
  },
  {
   "cell_type": "code",
   "execution_count": 2,
   "id": "ccdc8a16",
   "metadata": {},
   "outputs": [],
   "source": [
    "from sqlalchemy.orm import declarative_base #klasa bazowa do tworzenia struktur bazy\n",
    "from sqlalchemy import Column, String, DateTime, Integer #pobieramy funkcje umożliwiające tworzenie kolumny i typów danych\n",
    "from datetime import datetime \n",
    "from sqlalchemy.orm import sessionmaker "
   ]
  },
  {
   "cell_type": "code",
   "execution_count": 3,
   "id": "11942dc5",
   "metadata": {},
   "outputs": [],
   "source": [
    "#tworzymy klasę bazową\n",
    "Base = declarative_base()"
   ]
  },
  {
   "cell_type": "code",
   "execution_count": 4,
   "id": "b28918c7",
   "metadata": {},
   "outputs": [],
   "source": [
    "\"\"\"\n",
    "W schemacie base tworzymy następujący obiekt:\n",
    "class User \n",
    "    id int\n",
    "    username str\n",
    "    email str\n",
    "    date_created datetime\n",
    "\"\"\"\n",
    "\n",
    "class User(Base): #dziedziczy z klasy Base do tworzenia obiektów\n",
    "    __tablename__='users' #nazwa tabeli\n",
    "    id = Column(Integer(), primary_key = True) #atrybut - klucz pierwotny\n",
    "    username = Column(String(25), nullable = False, unique = True) #kolumna string niepusta i unikalna\n",
    "    email = Column(String(80), unique = True, nullable = False) #kolumna string niepusta i unikalna\n",
    "    date_created = Column(DateTime(),default = datetime.utcnow) #data i czas, domyślnie utcnow()\n",
    "\n",
    "    def __repr__(self): #tekstowa reprezentacja klasy, dostaniemy dzięki temu wyświetlenie użytkownika\n",
    "        return f\"<User {self.username} email {self.email}>\""
   ]
  },
  {
   "cell_type": "code",
   "execution_count": 5,
   "id": "767e347a",
   "metadata": {},
   "outputs": [
    {
     "name": "stdout",
     "output_type": "stream",
     "text": [
      "<User Szymon email sd76805@student.sgh.waw.pl>\n"
     ]
    }
   ],
   "source": [
    "new_user = User(id = 1, username = \"Szymon\", email = \"sd76805@student.sgh.waw.pl\") #tworzymy nowego użytkownika jako egzemplarz klasy User\n",
    "print(new_user)"
   ]
  },
  {
   "cell_type": "code",
   "execution_count": 6,
   "id": "76931627",
   "metadata": {},
   "outputs": [],
   "source": [
    "from sqlalchemy import create_engine \n",
    "import os"
   ]
  },
  {
   "cell_type": "code",
   "execution_count": 7,
   "id": "3d25a269",
   "metadata": {},
   "outputs": [],
   "source": [
    "BASE_DIR = r\"C:\\Users\\BPOL_1637\\Documents\\sgh\\python\\sqlalchemy\"\n",
    "#BASE_DIR = os.path.dirname(os.path.realpath(__file__)) #ścieżka obecnej lokalizacji\n",
    "\n",
    "connection_string=\"sqlite:///\"+os.path.join(BASE_DIR, 'site.db') # dane do otworzenia naszej bazy danych\n",
    "\n",
    "#tworzy silnik bazy danych\n",
    "engine = create_engine(connection_string, echo = True) #echo pokazuje komendy sql\n"
   ]
  },
  {
   "cell_type": "code",
   "execution_count": 8,
   "id": "c28b726f",
   "metadata": {},
   "outputs": [],
   "source": [
    "#tworzenie silnika bazy danych"
   ]
  },
  {
   "cell_type": "code",
   "execution_count": 9,
   "id": "457e9e88",
   "metadata": {},
   "outputs": [
    {
     "name": "stdout",
     "output_type": "stream",
     "text": [
      "2022-10-24 18:05:27,034 INFO sqlalchemy.engine.Engine BEGIN (implicit)\n",
      "2022-10-24 18:05:27,034 INFO sqlalchemy.engine.Engine PRAGMA main.table_info(\"users\")\n",
      "2022-10-24 18:05:27,035 INFO sqlalchemy.engine.Engine [raw sql] ()\n",
      "2022-10-24 18:05:27,036 INFO sqlalchemy.engine.Engine PRAGMA temp.table_info(\"users\")\n",
      "2022-10-24 18:05:27,036 INFO sqlalchemy.engine.Engine [raw sql] ()\n",
      "2022-10-24 18:05:27,037 INFO sqlalchemy.engine.Engine \n",
      "CREATE TABLE users (\n",
      "\tid INTEGER NOT NULL, \n",
      "\tusername VARCHAR(25) NOT NULL, \n",
      "\temail VARCHAR(80) NOT NULL, \n",
      "\tdate_created DATETIME, \n",
      "\tPRIMARY KEY (id), \n",
      "\tUNIQUE (username), \n",
      "\tUNIQUE (email)\n",
      ")\n",
      "\n",
      "\n",
      "2022-10-24 18:05:27,038 INFO sqlalchemy.engine.Engine [no key 0.00054s] ()\n",
      "2022-10-24 18:05:27,045 INFO sqlalchemy.engine.Engine COMMIT\n"
     ]
    }
   ],
   "source": [
    "Base.metadata.create_all(engine) #tworzenie bazy danych\n",
    "#polecenie wywietli kod SQL"
   ]
  },
  {
   "cell_type": "code",
   "execution_count": 10,
   "id": "94125bac",
   "metadata": {},
   "outputs": [
    {
     "name": "stdout",
     "output_type": "stream",
     "text": [
      "2022-10-24 18:05:27,066 INFO sqlalchemy.engine.Engine BEGIN (implicit)\n",
      "2022-10-24 18:05:27,068 INFO sqlalchemy.engine.Engine INSERT INTO users (username, email, date_created) VALUES (?, ?, ?)\n",
      "2022-10-24 18:05:27,069 INFO sqlalchemy.engine.Engine [generated in 0.00106s] ('Jan', 'Jan@Kowalski.pl', '2022-10-24 16:05:27.068261')\n",
      "2022-10-24 18:05:27,072 INFO sqlalchemy.engine.Engine COMMIT\n",
      "<User Anna email anna@sgh.waw.pl>\n",
      "2022-10-24 18:05:27,079 INFO sqlalchemy.engine.Engine BEGIN (implicit)\n",
      "2022-10-24 18:05:27,080 INFO sqlalchemy.engine.Engine INSERT INTO users (username, email, date_created) VALUES (?, ?, ?)\n",
      "2022-10-24 18:05:27,081 INFO sqlalchemy.engine.Engine [cached since 0.01369s ago] ('Anna', 'anna@sgh.waw.pl', '2022-10-24 16:05:27.080779')\n",
      "2022-10-24 18:05:27,084 INFO sqlalchemy.engine.Engine COMMIT\n",
      "Added Anna\n",
      "<User Kasia email kasia@sgh.waw.pl>\n",
      "2022-10-24 18:05:27,089 INFO sqlalchemy.engine.Engine BEGIN (implicit)\n",
      "2022-10-24 18:05:27,091 INFO sqlalchemy.engine.Engine INSERT INTO users (username, email, date_created) VALUES (?, ?, ?)\n",
      "2022-10-24 18:05:27,091 INFO sqlalchemy.engine.Engine [cached since 0.02312s ago] ('Kasia', 'kasia@sgh.waw.pl', '2022-10-24 16:05:27.091107')\n",
      "2022-10-24 18:05:27,093 INFO sqlalchemy.engine.Engine COMMIT\n",
      "Added Kasia\n",
      "<User Asia email asia@sgh.waw.pl>\n",
      "2022-10-24 18:05:27,100 INFO sqlalchemy.engine.Engine BEGIN (implicit)\n",
      "2022-10-24 18:05:27,100 INFO sqlalchemy.engine.Engine INSERT INTO users (username, email, date_created) VALUES (?, ?, ?)\n",
      "2022-10-24 18:05:27,101 INFO sqlalchemy.engine.Engine [cached since 0.03312s ago] ('Asia', 'asia@sgh.waw.pl', '2022-10-24 16:05:27.100097')\n",
      "2022-10-24 18:05:27,103 INFO sqlalchemy.engine.Engine COMMIT\n",
      "Added Asia\n",
      "<User Adam email adam@sgh.waw.pl>\n",
      "2022-10-24 18:05:27,108 INFO sqlalchemy.engine.Engine BEGIN (implicit)\n",
      "2022-10-24 18:05:27,109 INFO sqlalchemy.engine.Engine INSERT INTO users (username, email, date_created) VALUES (?, ?, ?)\n",
      "2022-10-24 18:05:27,110 INFO sqlalchemy.engine.Engine [cached since 0.04176s ago] ('Adam', 'adam@sgh.waw.pl', '2022-10-24 16:05:27.109157')\n",
      "2022-10-24 18:05:27,113 INFO sqlalchemy.engine.Engine COMMIT\n",
      "Added Adam\n"
     ]
    }
   ],
   "source": [
    "#dodawanie danych\n",
    "\n",
    "Session = sessionmaker()\n",
    "\n",
    "local_session = Session(bind = engine) #tworzenie sesji użytkownika\n",
    "\n",
    "new_user = User(username = \"Jan\", email = \"Jan@Kowalski.pl\") #definicja rekordu do bazy danych\n",
    "\n",
    "local_session.add(new_user) #dodanie nowego rekordu do bazy danych\n",
    "local_session.commit() #potwierdzenie operacji\n",
    "\n",
    "\n",
    "#dodanie wielu użytkowników\n",
    "users = [{\n",
    "        \"username\":\"Anna\",\"email\" : \"anna@sgh.waw.pl\"\n",
    "    },{\n",
    "        \"username\":\"Kasia\",\"email\" : \"kasia@sgh.waw.pl\"\n",
    "    },{\n",
    "        \"username\":\"Asia\",\"email\" : \"asia@sgh.waw.pl\"\n",
    "    },{\n",
    "        \"username\":\"Adam\",\"email\" : \"adam@sgh.waw.pl\"\n",
    "\n",
    "}]\n",
    "\n",
    "for u in users:\n",
    "    new_user = User(username = u['username'], email = u['email'])\n",
    "    print(new_user)\n",
    "    local_session.add(new_user)\n",
    "    local_session.commit()\n",
    "    print(f\"Added {u['username']}\")"
   ]
  },
  {
   "cell_type": "code",
   "execution_count": 11,
   "id": "4898e070",
   "metadata": {},
   "outputs": [],
   "source": [
    "#czytanie danych"
   ]
  },
  {
   "cell_type": "code",
   "execution_count": 12,
   "id": "cfc037dc",
   "metadata": {},
   "outputs": [
    {
     "name": "stdout",
     "output_type": "stream",
     "text": [
      "2022-10-24 18:05:27,157 INFO sqlalchemy.engine.Engine BEGIN (implicit)\n",
      "2022-10-24 18:05:27,159 INFO sqlalchemy.engine.Engine SELECT users.id AS users_id, users.username AS users_username, users.email AS users_email, users.date_created AS users_date_created \n",
      "FROM users\n",
      "2022-10-24 18:05:27,159 INFO sqlalchemy.engine.Engine [generated in 0.00063s] ()\n",
      "Jan\n",
      "Anna\n",
      "Kasia\n",
      "2022-10-24 18:05:27,163 INFO sqlalchemy.engine.Engine SELECT users.id AS users_id, users.username AS users_username, users.email AS users_email, users.date_created AS users_date_created \n",
      "FROM users \n",
      "WHERE users.username = ?\n",
      " LIMIT ? OFFSET ?\n",
      "2022-10-24 18:05:27,163 INFO sqlalchemy.engine.Engine [generated in 0.00080s] ('Jan', 1, 0)\n",
      "<User Jan email Jan@Kowalski.pl>\n"
     ]
    }
   ],
   "source": [
    "local_session = Session(bind=engine)\n",
    "\n",
    "users = local_session.query(User).all()[:3]\n",
    "\n",
    "for user in users:\n",
    "    print(user.username)\n",
    "\n",
    "#query z filtrem\n",
    "jan = local_session.query(User).filter(User.username == 'Jan').first()\n",
    "print(jan)"
   ]
  },
  {
   "cell_type": "code",
   "execution_count": 13,
   "id": "1b9d5edf",
   "metadata": {},
   "outputs": [],
   "source": [
    "#zmienianie danych"
   ]
  },
  {
   "cell_type": "code",
   "execution_count": 14,
   "id": "95a51fd5",
   "metadata": {},
   "outputs": [
    {
     "name": "stdout",
     "output_type": "stream",
     "text": [
      "2022-10-24 18:05:27,189 INFO sqlalchemy.engine.Engine BEGIN (implicit)\n",
      "2022-10-24 18:05:27,190 INFO sqlalchemy.engine.Engine SELECT users.id AS users_id, users.username AS users_username, users.email AS users_email, users.date_created AS users_date_created \n",
      "FROM users \n",
      "WHERE users.username = ?\n",
      " LIMIT ? OFFSET ?\n",
      "2022-10-24 18:05:27,191 INFO sqlalchemy.engine.Engine [cached since 0.02786s ago] ('Jan', 1, 0)\n",
      "2022-10-24 18:05:27,193 INFO sqlalchemy.engine.Engine UPDATE users SET username=?, email=? WHERE users.id = ?\n",
      "2022-10-24 18:05:27,193 INFO sqlalchemy.engine.Engine [generated in 0.00048s] ('Andrzej', 'Andrzej@Kowalski.pl', 1)\n",
      "2022-10-24 18:05:27,195 INFO sqlalchemy.engine.Engine COMMIT\n"
     ]
    }
   ],
   "source": [
    "local_session=Session(bind=engine)\n",
    "\n",
    "user_to_update = local_session.query(User).filter(User.username==\"Jan\").first()\n",
    "\n",
    "user_to_update.username = \"Andrzej\"\n",
    "user_to_update.email = \"Andrzej@Kowalski.pl\"\n",
    "\n",
    "local_session.commit()"
   ]
  },
  {
   "cell_type": "code",
   "execution_count": 15,
   "id": "84f106c5",
   "metadata": {},
   "outputs": [],
   "source": [
    "#usuwanie danych"
   ]
  },
  {
   "cell_type": "code",
   "execution_count": 16,
   "id": "2893856c",
   "metadata": {},
   "outputs": [
    {
     "name": "stdout",
     "output_type": "stream",
     "text": [
      "2022-10-24 18:05:27,235 INFO sqlalchemy.engine.Engine BEGIN (implicit)\n",
      "2022-10-24 18:05:27,236 INFO sqlalchemy.engine.Engine SELECT users.id AS users_id, users.username AS users_username, users.email AS users_email, users.date_created AS users_date_created \n",
      "FROM users \n",
      "WHERE users.username = ?\n",
      " LIMIT ? OFFSET ?\n",
      "2022-10-24 18:05:27,236 INFO sqlalchemy.engine.Engine [cached since 0.07346s ago] ('Adam', 1, 0)\n",
      "2022-10-24 18:05:27,238 INFO sqlalchemy.engine.Engine DELETE FROM users WHERE users.id = ?\n",
      "2022-10-24 18:05:27,238 INFO sqlalchemy.engine.Engine [generated in 0.00047s] (5,)\n",
      "2022-10-24 18:05:27,240 INFO sqlalchemy.engine.Engine COMMIT\n"
     ]
    }
   ],
   "source": [
    "local_session = Session(bind=engine)\n",
    "\n",
    "user_to_delete = local_session.query(User).filter(User.username == \"Adam\").first()\n",
    "\n",
    "local_session.delete(user_to_delete)\n",
    "\n",
    "local_session.commit()"
   ]
  },
  {
   "cell_type": "code",
   "execution_count": 17,
   "id": "6ed2ef6a",
   "metadata": {},
   "outputs": [],
   "source": [
    "#sortowanie danych"
   ]
  },
  {
   "cell_type": "code",
   "execution_count": 18,
   "id": "cbf2037f",
   "metadata": {},
   "outputs": [
    {
     "name": "stdout",
     "output_type": "stream",
     "text": [
      "2022-10-24 18:05:27,267 INFO sqlalchemy.engine.Engine BEGIN (implicit)\n",
      "2022-10-24 18:05:27,268 INFO sqlalchemy.engine.Engine SELECT users.id AS users_id, users.username AS users_username, users.email AS users_email, users.date_created AS users_date_created \n",
      "FROM users ORDER BY users.username ASC\n",
      "2022-10-24 18:05:27,268 INFO sqlalchemy.engine.Engine [generated in 0.00051s] ()\n",
      "Ascending:\n",
      "Andrzej\n",
      "Anna\n",
      "Asia\n",
      "Kasia\n",
      "2022-10-24 18:05:27,270 INFO sqlalchemy.engine.Engine SELECT users.id AS users_id, users.username AS users_username, users.email AS users_email, users.date_created AS users_date_created \n",
      "FROM users ORDER BY users.username DESC\n",
      "2022-10-24 18:05:27,271 INFO sqlalchemy.engine.Engine [generated in 0.00065s] ()\n",
      "Descending:\n",
      "Kasia\n",
      "Asia\n",
      "Anna\n",
      "Andrzej\n"
     ]
    }
   ],
   "source": [
    "local_session = Session(bind=engine)\n",
    "\n",
    "users = local_session.query(User).order_by(User.username.asc()).all()\n",
    "print(\"Ascending:\")\n",
    "for user in users:\n",
    "    print(user.username)\n",
    "\n",
    "\n",
    "users_desc = local_session.query(User).order_by(User.username.desc()).all()\n",
    "print(\"Descending:\")\n",
    "for user in users_desc:\n",
    "    print(user.username)\n"
   ]
  }
 ],
 "metadata": {
  "kernelspec": {
   "display_name": "Python 3 (ipykernel)",
   "language": "python",
   "name": "python3"
  },
  "language_info": {
   "codemirror_mode": {
    "name": "ipython",
    "version": 3
   },
   "file_extension": ".py",
   "mimetype": "text/x-python",
   "name": "python",
   "nbconvert_exporter": "python",
   "pygments_lexer": "ipython3",
   "version": "3.8.10"
  }
 },
 "nbformat": 4,
 "nbformat_minor": 5
}
