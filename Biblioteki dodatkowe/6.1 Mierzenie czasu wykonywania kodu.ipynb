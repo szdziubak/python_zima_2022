{
 "cells": [
  {
   "cell_type": "markdown",
   "id": "c7a0104a",
   "metadata": {},
   "source": [
    "# 6. Mierzenie czasu wykonywania kodu\n",
    "\n",
    "Szymon Dziubak"
   ]
  },
  {
   "cell_type": "code",
   "execution_count": 4,
   "id": "281b85ab",
   "metadata": {},
   "outputs": [],
   "source": [
    "def silnia_petla(n):\n",
    "    wynik = 1\n",
    "    for i in range(1,n+1):\n",
    "        wynik *= i\n",
    "    return wynik\n",
    "\n",
    "def silnia_rekursja(n):\n",
    "    if n > 1:\n",
    "        return n * silnia_rekursja(n-1)\n",
    "    else:\n",
    "        return 1\n",
    "    \n",
    "def silnia_rekursja_ogonowa(n, a = 1):\n",
    "   \n",
    "    if (n == 0):\n",
    "        return a\n",
    "   \n",
    "    return silnia_rekursja_ogonowa(n - 1, n * a)"
   ]
  },
  {
   "cell_type": "code",
   "execution_count": 6,
   "id": "3650f482",
   "metadata": {},
   "outputs": [
    {
     "name": "stdout",
     "output_type": "stream",
     "text": [
      "Zwykła petla trwała 0.0002720355987548828\n",
      "Zwykła rekursja trwała 0.0011315345764160156\n",
      "Rekursja ogonowa trwała 0.0007214546203613281\n"
     ]
    }
   ],
   "source": [
    "#to już widzieliśmy\n",
    "import time\n",
    "n=500\n",
    "\n",
    "start_petla = time.time()\n",
    "silnia_petla(n)\n",
    "print(f\"Zwykła petla trwała {time.time() - start_petla}\")\n",
    "\n",
    "start_zwykla = time.time()\n",
    "silnia_rekursja(n)\n",
    "print(f\"Zwykła rekursja trwała {time.time() - start_zwykla}\")\n",
    "\n",
    "start_ogonowa = time.time()\n",
    "silnia_rekursja_ogonowa(n)\n",
    "print(f\"Rekursja ogonowa trwała {time.time() - start_ogonowa}\")"
   ]
  },
  {
   "cell_type": "markdown",
   "id": "eb2fcf3c",
   "metadata": {},
   "source": [
    "moduł timeit pozwala na precyzyjniejsze określenie, ile czasu wykonywany był kod wiele razy"
   ]
  },
  {
   "cell_type": "code",
   "execution_count": 9,
   "id": "5cd86608",
   "metadata": {},
   "outputs": [
    {
     "name": "stdout",
     "output_type": "stream",
     "text": [
      "Pętla:  0.01227389999985462\n",
      "Rekursja zwykla:  0.012217799999916679\n",
      "Ogonowa:  0.011277099999915663\n"
     ]
    }
   ],
   "source": [
    "import timeit\n",
    "#timeit.timeit(stmt, setup, number)\n",
    "#stmt - statement, kod który będziemy mierzyć\n",
    "#setup - niezbędne moduły\n",
    "#number - ile razy odpalony będzie stmt, domyslnie = 1000000\n",
    "\n",
    "stmt_petla = '''\n",
    "def silnia_petla(n):\n",
    "    wynik = 1\n",
    "    for i in range(1,n+1):\n",
    "        wynik *= i\n",
    "    return wynik\n",
    "'''\n",
    "\n",
    "stmt_rekursja = '''\n",
    "def silnia_rekursja(n):\n",
    "    if n > 1:\n",
    "        return n * silnia_rekursja(n-1)\n",
    "    else:\n",
    "        return 1\n",
    "'''\n",
    "\n",
    "stmt_ogonowa = '''\n",
    "def silnia_rekursja_ogonowa(n, a = 1):\n",
    "    if (n == 0):\n",
    "        return a\n",
    "    return silnia_rekursja_ogonowa(n - 1, n * a)\n",
    "'''\n",
    "\n",
    "n = 1000\n",
    "nb = 100000\n",
    "print(\"Pętla: \", timeit.timeit(stmt = stmt_petla,\n",
    "                               number = nb))\n",
    "\n",
    "print(\"Rekursja zwykla: \", timeit.timeit(stmt = stmt_rekursja,\n",
    "                               number = nb))\n",
    "\n",
    "print(\"Ogonowa: \", timeit.timeit(stmt = stmt_ogonowa,\n",
    "                               number = nb))\n"
   ]
  },
  {
   "cell_type": "code",
   "execution_count": 12,
   "id": "86c7648c",
   "metadata": {},
   "outputs": [
    {
     "name": "stdout",
     "output_type": "stream",
     "text": [
      "Pętla:  [0.05395130000010795, 0.05837389999987863, 0.05830189999983304, 0.0521648000001278, 0.05325229999994008, 0.05320879999999306, 0.053692199999886725, 0.05688929999996617, 0.05805680000003122, 0.056126599999970495]\n",
      "Rekursja zwykla:  [0.07837100000006103, 0.07466570000019601, 0.0810334000000239, 0.09038520000012795, 0.06846400000017638, 0.06583490000002712, 0.07106099999987237, 0.06792130000008001, 0.06644369999980881, 0.0703773000000183]\n",
      "Ogonowa:  [0.09366049999994175, 0.07748559999981808, 0.07868680000001405, 0.0858215000000655, 0.07756960000006075, 0.07739330000003974, 0.08593059999998331, 0.0757462999999916, 0.09002349999991566, 0.09881049999989955]\n"
     ]
    }
   ],
   "source": [
    "#timeit.repeat(..., repeat = n). Zwraca liste\n",
    "#repeat - ile razy całość zostanie wykonana (czyli repeat * number)\n",
    "n = 1000\n",
    "nb = 1000000\n",
    "rn = 10\n",
    "print(\"Pętla: \", timeit.repeat(stmt = stmt_petla,\n",
    "                               number = nb, repeat = rn))\n",
    "\n",
    "print(\"Rekursja zwykla: \", timeit.repeat(stmt = stmt_rekursja,\n",
    "                               number = nb, repeat = rn))\n",
    "\n",
    "print(\"Ogonowa: \", timeit.repeat(stmt = stmt_ogonowa,\n",
    "                               number = nb, repeat = rn))\n"
   ]
  },
  {
   "cell_type": "code",
   "execution_count": 18,
   "id": "4f28c846",
   "metadata": {},
   "outputs": [
    {
     "name": "stdout",
     "output_type": "stream",
     "text": [
      "Pętla:  0.007902229999990596\n",
      "Rekursja zwykla:  0.006682799999975941\n",
      "Ogonowa:  0.007797889999960716\n"
     ]
    }
   ],
   "source": [
    "import numpy as np\n",
    "n = 1500\n",
    "nb = 100000\n",
    "rn = 10\n",
    "print(\"Pętla: \", np.mean(timeit.repeat(stmt = stmt_petla,\n",
    "                               number = nb, repeat = rn)))\n",
    "\n",
    "print(\"Rekursja zwykla: \", np.mean(timeit.repeat(stmt = stmt_rekursja,\n",
    "                               number = nb, repeat = rn)))\n",
    "\n",
    "print(\"Ogonowa: \", np.mean(timeit.repeat(stmt = stmt_ogonowa,\n",
    "                               number = nb, repeat = rn)))\n"
   ]
  }
 ],
 "metadata": {
  "kernelspec": {
   "display_name": "Python 3 (ipykernel)",
   "language": "python",
   "name": "python3"
  },
  "language_info": {
   "codemirror_mode": {
    "name": "ipython",
    "version": 3
   },
   "file_extension": ".py",
   "mimetype": "text/x-python",
   "name": "python",
   "nbconvert_exporter": "python",
   "pygments_lexer": "ipython3",
   "version": "3.8.10"
  }
 },
 "nbformat": 4,
 "nbformat_minor": 5
}
