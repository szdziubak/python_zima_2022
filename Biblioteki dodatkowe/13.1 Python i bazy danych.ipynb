{
 "cells": [
  {
   "cell_type": "markdown",
   "id": "9f88f160",
   "metadata": {},
   "source": [
    "# Python i bazy danych. Standard ODBC.\n",
    "\n",
    "Szymon Dziubak"
   ]
  },
  {
   "cell_type": "markdown",
   "id": "8ca53c6b",
   "metadata": {},
   "source": [
    "ODBC (Open Database Connectivity) - API do uzyskania połączenia z bazą danych.<br>\n",
    "Więcej: https://www.geeksforgeeks.org/connectivity-of-odbc/"
   ]
  },
  {
   "cell_type": "markdown",
   "id": "99e4aba1",
   "metadata": {},
   "source": [
    "Jeżeli połączenie nie będzie działało to pobierz driver ze strony: http://www.ch-werner.de/sqliteodbc/ (sqlliteodbc.exe)"
   ]
  },
  {
   "cell_type": "code",
   "execution_count": 1,
   "id": "516f405f",
   "metadata": {},
   "outputs": [],
   "source": [
    "import sqlite3"
   ]
  },
  {
   "cell_type": "code",
   "execution_count": 9,
   "id": "43299073",
   "metadata": {},
   "outputs": [],
   "source": [
    "con = sqlite3.connect(r\"C:\\Users\\BPOL_1637\\Documents\\sgh\\python\\sqlalchemy\\site.db\")"
   ]
  },
  {
   "cell_type": "code",
   "execution_count": 13,
   "id": "63825946",
   "metadata": {},
   "outputs": [
    {
     "name": "stdout",
     "output_type": "stream",
     "text": [
      "('table', 'users', 'users', 2, 'CREATE TABLE users (\\n\\tid INTEGER NOT NULL, \\n\\tusername VARCHAR(25) NOT NULL, \\n\\temail VARCHAR(80) NOT NULL, \\n\\tdate_created DATETIME, \\n\\tPRIMARY KEY (id), \\n\\tUNIQUE (username), \\n\\tUNIQUE (email)\\n)')\n",
      "('index', 'sqlite_autoindex_users_1', 'users', 3, None)\n",
      "('index', 'sqlite_autoindex_users_2', 'users', 4, None)\n"
     ]
    }
   ],
   "source": [
    "cur = con.cursor()\n",
    "for row in con.execute(\"SELECT * FROM sqlite_schema\"):\n",
    "    print(row)"
   ]
  },
  {
   "cell_type": "code",
   "execution_count": 14,
   "id": "bf413900",
   "metadata": {},
   "outputs": [
    {
     "name": "stdout",
     "output_type": "stream",
     "text": [
      "(1, 'Andrzej', 'Andrzej@Kowalski.pl', '2022-10-24 16:05:27.068261')\n",
      "(2, 'Anna', 'anna@sgh.waw.pl', '2022-10-24 16:05:27.080779')\n",
      "(3, 'Kasia', 'kasia@sgh.waw.pl', '2022-10-24 16:05:27.091107')\n",
      "(4, 'Asia', 'asia@sgh.waw.pl', '2022-10-24 16:05:27.100097')\n"
     ]
    }
   ],
   "source": [
    "for row in con.execute(\"SELECT * FROM users\"):\n",
    "    print(row)"
   ]
  },
  {
   "cell_type": "code",
   "execution_count": 17,
   "id": "b9d0d512",
   "metadata": {
    "collapsed": true
   },
   "outputs": [
    {
     "ename": "OperationalError",
     "evalue": "near \"OR\": syntax error",
     "output_type": "error",
     "traceback": [
      "\u001b[1;31m---------------------------------------------------------------------------\u001b[0m",
      "\u001b[1;31mOperationalError\u001b[0m                          Traceback (most recent call last)",
      "\u001b[1;32mC:\\Users\\BPOL_1~1\\AppData\\Local\\Temp/ipykernel_16616/1297695155.py\u001b[0m in \u001b[0;36m<module>\u001b[1;34m\u001b[0m\n\u001b[1;32m----> 1\u001b[1;33m \u001b[0mcur\u001b[0m\u001b[1;33m.\u001b[0m\u001b[0mexecute\u001b[0m\u001b[1;33m(\u001b[0m\u001b[1;34m\"CREATE OR REPLACE TABLE filmy(tytuł, rok, wynik)\"\u001b[0m\u001b[1;33m)\u001b[0m\u001b[1;33m\u001b[0m\u001b[1;33m\u001b[0m\u001b[0m\n\u001b[0m\u001b[0;32m      2\u001b[0m cur.execute(\"\"\"\n\u001b[0;32m      3\u001b[0m     \u001b[0mINSERT\u001b[0m \u001b[0mINTO\u001b[0m \u001b[0mfilmy\u001b[0m \u001b[0mVALUES\u001b[0m\u001b[1;33m\u001b[0m\u001b[1;33m\u001b[0m\u001b[0m\n\u001b[0;32m      4\u001b[0m         \u001b[1;33m(\u001b[0m\u001b[1;34m'Monty Python and the Holy Grail'\u001b[0m\u001b[1;33m,\u001b[0m \u001b[1;36m1975\u001b[0m\u001b[1;33m,\u001b[0m \u001b[1;36m8.2\u001b[0m\u001b[1;33m)\u001b[0m\u001b[1;33m,\u001b[0m\u001b[1;33m\u001b[0m\u001b[1;33m\u001b[0m\u001b[0m\n\u001b[0;32m      5\u001b[0m         \u001b[1;33m(\u001b[0m\u001b[1;34m'And Now for Something Completely Different'\u001b[0m\u001b[1;33m,\u001b[0m \u001b[1;36m1971\u001b[0m\u001b[1;33m,\u001b[0m \u001b[1;36m7.5\u001b[0m\u001b[1;33m)\u001b[0m\u001b[1;33m\u001b[0m\u001b[1;33m\u001b[0m\u001b[0m\n",
      "\u001b[1;31mOperationalError\u001b[0m: near \"OR\": syntax error"
     ]
    }
   ],
   "source": [
    "cur.execute(\"CREATE TABLE filmy(tytuł, rok, wynik)\")\n",
    "cur.execute(\"\"\"\n",
    "    INSERT INTO filmy VALUES\n",
    "        ('Monty Python and the Holy Grail', 1975, 8.2),\n",
    "        ('And Now for Something Completely Different', 1971, 7.5)\n",
    "\"\"\")\n",
    "con.commit() #do zatwierdzenia operacji"
   ]
  },
  {
   "cell_type": "code",
   "execution_count": 18,
   "id": "4e5f0f97",
   "metadata": {},
   "outputs": [
    {
     "name": "stdout",
     "output_type": "stream",
     "text": [
      "('Monty Python and the Holy Grail', 1975, 8.2)\n",
      "('And Now for Something Completely Different', 1971, 7.5)\n"
     ]
    }
   ],
   "source": [
    "for row in con.execute(\"SELECT * FROM filmy\"):\n",
    "    print(row)"
   ]
  },
  {
   "cell_type": "code",
   "execution_count": 20,
   "id": "2c328951",
   "metadata": {},
   "outputs": [],
   "source": [
    "#insert wielu wierszy na raz\n",
    "dane = [\n",
    "    (\"Monty Python Live at the Hollywood Bowl\", 1982, 7.9),\n",
    "    (\"Monty Python's The Meaning of Life\", 1983, 7.5),\n",
    "    (\"Monty Python's Life of Brian\", 1979, 8.0),\n",
    "]\n",
    "cur.executemany(\"INSERT INTO filmy VALUES(?, ?, ?)\", dane)\n",
    "con.commit() "
   ]
  },
  {
   "cell_type": "code",
   "execution_count": 21,
   "id": "47846116",
   "metadata": {},
   "outputs": [
    {
     "name": "stdout",
     "output_type": "stream",
     "text": [
      "('Monty Python and the Holy Grail', 1975, 8.2)\n",
      "('And Now for Something Completely Different', 1971, 7.5)\n",
      "('Monty Python Live at the Hollywood Bowl', 1982, 7.9)\n",
      "(\"Monty Python's The Meaning of Life\", 1983, 7.5)\n",
      "(\"Monty Python's Life of Brian\", 1979, 8.0)\n"
     ]
    }
   ],
   "source": [
    "for row in con.execute(\"SELECT * FROM filmy\"):\n",
    "    print(row)"
   ]
  },
  {
   "cell_type": "code",
   "execution_count": 22,
   "id": "a2ac9f34",
   "metadata": {},
   "outputs": [],
   "source": [
    "#zamknięcie połączenia\n",
    "con.close()"
   ]
  }
 ],
 "metadata": {
  "kernelspec": {
   "display_name": "Python 3 (ipykernel)",
   "language": "python",
   "name": "python3"
  },
  "language_info": {
   "codemirror_mode": {
    "name": "ipython",
    "version": 3
   },
   "file_extension": ".py",
   "mimetype": "text/x-python",
   "name": "python",
   "nbconvert_exporter": "python",
   "pygments_lexer": "ipython3",
   "version": "3.8.10"
  }
 },
 "nbformat": 4,
 "nbformat_minor": 5
}
