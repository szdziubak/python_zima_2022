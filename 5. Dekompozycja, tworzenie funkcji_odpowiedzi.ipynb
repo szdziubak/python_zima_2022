{
 "cells": [
  {
   "cell_type": "markdown",
   "id": "0ac44721",
   "metadata": {},
   "source": [
    "# 5. Dekompozycja, tworzenie funkcji\n",
    "\n",
    "Szymon Dziubak"
   ]
  },
  {
   "cell_type": "markdown",
   "id": "d8f77e95",
   "metadata": {},
   "source": [
    "Gdzie jesteśmy?\n",
    "\n",
    "1. ~~Klasyfikacja języków programowania, podstawowe własności języka Python, cechy odróżniające język Python od innych popularnych języków programowania.~~\n",
    "2. ~~Omówienie podstawowych typów występujących w języku Python. Operatory. Instrukcja przypisania, praca z interpreterem języka Python.~~\n",
    "3. ~~Instrukcje sterujące: warunkowa, instrukcja wyboru, pętle. Przykłady i ćwiczenia budowane w oparciu o podstawowe algorytmy \n",
    "matematyczne.~~\n",
    "4. Dekompozycja, tworzenie funkcji.\n",
    "5. ~~Tablice, krotki, listy.~~\n",
    "6. Rekursja~~, typy słownikowe.~~\n",
    "7. Obsługa plików.\n",
    "8. Operacje datowe i czasowe.\n",
    "9. Omówienie paradygmatu programowania obiektowego. Definicja klasy.\n",
    "10. Tworzenie klas i wykorzystywanie obiektów.\n",
    "11. Dziedziczenie i polimorfizm.\n",
    "12. Obsługa wyjątków. Tworzenie własnych klas wyjątków. Wymuszanie obsługi wyjątków.\n",
    "13. Moduły, biblioteki, pakiety.\n",
    "14. Programy w języku Python jako moduły lub skrypty systemowe.\n",
    "15. Analiza danych za pomocą języka Python - omówienie bibliotek NumPy i Pandas.\n"
   ]
  },
  {
   "cell_type": "markdown",
   "id": "08592db3",
   "metadata": {},
   "source": [
    "### Funkcje"
   ]
  },
  {
   "cell_type": "markdown",
   "id": "4bf09c74",
   "metadata": {},
   "source": [
    "Konstrukcja<br>\n",
    "`\n",
    "def nazwa_funkcji(argumenty):\n",
    "    akcja\n",
    "    return coś_co_zwracamy\n",
    "`"
   ]
  },
  {
   "cell_type": "markdown",
   "id": "bde54be0",
   "metadata": {},
   "source": [
    "Zmienne funkcji <br>\n",
    "`x = 11 <- zmienna globalna, można się odwołać do nie później\n",
    "def funkcja(x):\n",
    "    y = 11 <- zmienna lokalna, nie można się do niej później odwołać\n",
    "    return x*y`\n",
    " &emsp;"
   ]
  },
  {
   "cell_type": "code",
   "execution_count": 2,
   "id": "f49510af",
   "metadata": {},
   "outputs": [],
   "source": [
    "x = 11 \n",
    "def funkcja(x):\n",
    "    y = 11 \n",
    "    return x*y "
   ]
  },
  {
   "cell_type": "code",
   "execution_count": 10,
   "id": "73150d4c",
   "metadata": {},
   "outputs": [
    {
     "data": {
      "text/plain": [
       "121"
      ]
     },
     "execution_count": 10,
     "metadata": {},
     "output_type": "execute_result"
    }
   ],
   "source": [
    "funkcja(11)"
   ]
  },
  {
   "cell_type": "code",
   "execution_count": 7,
   "id": "84870a3b",
   "metadata": {},
   "outputs": [
    {
     "data": {
      "text/plain": [
       "11"
      ]
     },
     "execution_count": 7,
     "metadata": {},
     "output_type": "execute_result"
    }
   ],
   "source": [
    "x"
   ]
  },
  {
   "cell_type": "code",
   "execution_count": 8,
   "id": "addd1f1a",
   "metadata": {},
   "outputs": [
    {
     "ename": "NameError",
     "evalue": "name 'y' is not defined",
     "output_type": "error",
     "traceback": [
      "\u001b[1;31m---------------------------------------------------------------------------\u001b[0m",
      "\u001b[1;31mNameError\u001b[0m                                 Traceback (most recent call last)",
      "Input \u001b[1;32mIn [8]\u001b[0m, in \u001b[0;36m<cell line: 1>\u001b[1;34m()\u001b[0m\n\u001b[1;32m----> 1\u001b[0m \u001b[43my\u001b[49m\n",
      "\u001b[1;31mNameError\u001b[0m: name 'y' is not defined"
     ]
    }
   ],
   "source": [
    "y"
   ]
  },
  {
   "cell_type": "markdown",
   "id": "25687e1a",
   "metadata": {},
   "source": [
    "Tworzymy zmienną globalną <br>\n",
    "`x = 11 \n",
    "def funkcja(x):\n",
    "    global y <- definiujemy y jako zmienną globalną\n",
    "    y = 11 \n",
    "    return x*y`\n",
    " &emsp;"
   ]
  },
  {
   "cell_type": "code",
   "execution_count": 16,
   "id": "924f6810",
   "metadata": {},
   "outputs": [],
   "source": [
    "x = 11 \n",
    "def funkcja(x):\n",
    "    global y \n",
    "    y = 11 \n",
    "    return x*y"
   ]
  },
  {
   "cell_type": "code",
   "execution_count": 17,
   "id": "4781be00",
   "metadata": {},
   "outputs": [
    {
     "data": {
      "text/plain": [
       "11"
      ]
     },
     "execution_count": 17,
     "metadata": {},
     "output_type": "execute_result"
    }
   ],
   "source": [
    "funkcja(1)"
   ]
  },
  {
   "cell_type": "code",
   "execution_count": 18,
   "id": "dc6c1fc9",
   "metadata": {},
   "outputs": [
    {
     "data": {
      "text/plain": [
       "11"
      ]
     },
     "execution_count": 18,
     "metadata": {},
     "output_type": "execute_result"
    }
   ],
   "source": [
    "x"
   ]
  },
  {
   "cell_type": "code",
   "execution_count": 19,
   "id": "3149ce9c",
   "metadata": {},
   "outputs": [
    {
     "data": {
      "text/plain": [
       "11"
      ]
     },
     "execution_count": 19,
     "metadata": {},
     "output_type": "execute_result"
    }
   ],
   "source": [
    "y"
   ]
  },
  {
   "cell_type": "markdown",
   "id": "f54ef944",
   "metadata": {},
   "source": [
    "argumenty pozycyjne"
   ]
  },
  {
   "cell_type": "code",
   "execution_count": 22,
   "id": "3e30b76a",
   "metadata": {},
   "outputs": [],
   "source": [
    "def potega(podstawa,wykladnik):\n",
    "    print(podstawa**wykladnik)"
   ]
  },
  {
   "cell_type": "code",
   "execution_count": 27,
   "id": "e9f13d96",
   "metadata": {},
   "outputs": [
    {
     "name": "stdout",
     "output_type": "stream",
     "text": [
      "8\n"
     ]
    }
   ],
   "source": [
    "a = 2\n",
    "b = 3\n",
    "#3 wywolania funkcji dadzą ten sam wynik\n",
    "#potega(a, b)\n",
    "#potega(podstawa = a, wykladnik = b)\n",
    "#potega(wykladnik = b, podstawa = a) #zamieniona kolejność\n",
    "potega(2,3)"
   ]
  },
  {
   "cell_type": "code",
   "execution_count": 29,
   "id": "2ce7178d",
   "metadata": {},
   "outputs": [
    {
     "name": "stdout",
     "output_type": "stream",
     "text": [
      "4\n"
     ]
    }
   ],
   "source": [
    "#domyslna wartosc argumentu\n",
    "def potega(podstawa,wykladnik = 2):\n",
    "    print(podstawa**wykladnik)\n",
    "\n",
    "potega(2) #podajemy tylko jeden argument"
   ]
  },
  {
   "cell_type": "code",
   "execution_count": 31,
   "id": "8a2f1fee",
   "metadata": {},
   "outputs": [],
   "source": [
    "# przypadku domyślnych wartości kolejność ma znaczenie - najpierw definiowalne potem domyślne\n",
    "def potega(podstawa, wykladnik = 2):\n",
    "    print(podstawa**wykladnik)"
   ]
  },
  {
   "cell_type": "code",
   "execution_count": 32,
   "id": "c70be7c3",
   "metadata": {},
   "outputs": [
    {
     "name": "stdout",
     "output_type": "stream",
     "text": [
      "Witaj Szymon!\n"
     ]
    }
   ],
   "source": [
    "#przykład funkcji z komentarzami\n",
    "def powitaj_uzytkownika(imie):\n",
    "    \"\"\"Funkcja wyświetla powitanie użytkownika\"\"\" #opis funkcji. Powinniśmy je umieszczać\n",
    "    print(f\"Witaj {imie}!\")\n",
    "powitaj_uzytkownika(\"Szymon\")    "
   ]
  },
  {
   "cell_type": "code",
   "execution_count": 33,
   "id": "ecc5c78d",
   "metadata": {},
   "outputs": [
    {
     "name": "stdout",
     "output_type": "stream",
     "text": [
      "\n",
      "Moje zwierze to kot.\n",
      "Wabi sie Wuko i jest rasy syberyjski neva masquerade.\n",
      "\n",
      "Moje zwierze to pies.\n",
      "Wabi sie Candy i jest rasy corgi.\n"
     ]
    }
   ],
   "source": [
    "def opisz_zwierze(imie, gatunek, rasa):\n",
    "    \"\"\"Wyświetla informacje o zwierzęciu\"\"\"\n",
    "    print(f\"\\nMoje zwierze to {gatunek}.\")\n",
    "    print(f\"Wabi sie {imie} i jest rasy {rasa}.\")\n",
    "\n",
    "opisz_zwierze(\"Wuko\", \"kot\", \"syberyjski neva masquerade\")\n",
    "opisz_zwierze(\"Candy\", \"pies\", \"corgi\") #funkcje wywołujemy kolejny raz"
   ]
  },
  {
   "cell_type": "markdown",
   "id": "35f873c7",
   "metadata": {},
   "source": [
    "wartość zwrotna"
   ]
  },
  {
   "cell_type": "code",
   "execution_count": 35,
   "id": "c00da915",
   "metadata": {},
   "outputs": [
    {
     "name": "stdout",
     "output_type": "stream",
     "text": [
      "8\n",
      "None\n"
     ]
    }
   ],
   "source": [
    "def potega(podstawa,wykladnik):\n",
    "    print(podstawa**wykladnik)\n",
    "wynik = potega(2,3)\n",
    "print(wynik)"
   ]
  },
  {
   "cell_type": "code",
   "execution_count": 36,
   "id": "8d21e7db",
   "metadata": {},
   "outputs": [
    {
     "name": "stdout",
     "output_type": "stream",
     "text": [
      "Jan Kowalski\n"
     ]
    }
   ],
   "source": [
    "def sformatowane_imie_nazwisko(imie, nazwisko):\n",
    "    \"\"\"Funkcja zwraca sformatowane imie i nazwisko\"\"\"\n",
    "    imie_nazwisko = f\"{imie} {nazwisko}\"\n",
    "    return imie_nazwisko.title()\n",
    "print(sformatowane_imie_nazwisko(\"jAN\", \"kowalski\"))"
   ]
  },
  {
   "cell_type": "code",
   "execution_count": 38,
   "id": "8420374e",
   "metadata": {},
   "outputs": [
    {
     "data": {
      "text/plain": [
       "{'imie': 'Jan', 'nazwisko': 'Nowak'}"
      ]
     },
     "execution_count": 38,
     "metadata": {},
     "output_type": "execute_result"
    }
   ],
   "source": [
    "#zwrot słownika \n",
    "#wartość domyślna None - pusta\n",
    "def utworz_profil(imie, nazwisko, wiek = None): #domyślnie wiek jest None\n",
    "    \"\"\"Zwraca słownik z danymi użytkownika\"\"\"\n",
    "    uzytkownik = {'imie':imie, 'nazwisko':nazwisko}\n",
    "    if wiek: #jeżeli wiek nie jest pusty, nie jest None\n",
    "        uzytkownik['wiek'] = wiek\n",
    "    return uzytkownik\n",
    "\n",
    "#utworz_profil('Anna', 'Kowalska', 35)\n",
    "utworz_profil('Jan', 'Nowak')"
   ]
  },
  {
   "cell_type": "markdown",
   "id": "4fd954e9",
   "metadata": {},
   "source": [
    "lista jako argument"
   ]
  },
  {
   "cell_type": "code",
   "execution_count": 41,
   "id": "d84f85ac",
   "metadata": {},
   "outputs": [],
   "source": [
    "def suma_elementow(lista):\n",
    "    return sum(lista)"
   ]
  },
  {
   "cell_type": "code",
   "execution_count": 42,
   "id": "243c62f3",
   "metadata": {},
   "outputs": [
    {
     "data": {
      "text/plain": [
       "45"
      ]
     },
     "execution_count": 42,
     "metadata": {},
     "output_type": "execute_result"
    }
   ],
   "source": [
    "suma_elementow([1,2,3,4,5,6,7,8,9])"
   ]
  },
  {
   "cell_type": "markdown",
   "id": "d89a0e9a",
   "metadata": {},
   "source": [
    "przekazywanie dowolnej liczby argumentów"
   ]
  },
  {
   "cell_type": "code",
   "execution_count": 46,
   "id": "0e0a3b0b",
   "metadata": {},
   "outputs": [
    {
     "name": "stdout",
     "output_type": "stream",
     "text": [
      "('ser mozzarella', 'pieczarki', 'karczochy', 'pomidory', 'szynka parmeńska')\n",
      "Zamówiono pizzę o rozmiarze duża ze składnikami:\n",
      "\t-ser mozzarella\n",
      "\t-pieczarki\n",
      "\t-karczochy\n",
      "\t-pomidory\n",
      "\t-szynka parmeńska\n"
     ]
    }
   ],
   "source": [
    "#jako argumenty pozycyjne\n",
    "def utworz_pizze(rozmiar, *skladniki): #w literaturze *args\n",
    "    print(skladniki)\n",
    "    print(f\"Zamówiono pizzę o rozmiarze {rozmiar} ze składnikami:\")\n",
    "    for skladnik in skladniki:\n",
    "        print(f\"\\t-{skladnik}\")\n",
    "utworz_pizze(\"duża\", \"ser mozzarella\", \"pieczarki\", \"karczochy\", \"pomidory\", \"szynka parmeńska\")"
   ]
  },
  {
   "cell_type": "code",
   "execution_count": 49,
   "id": "fb8030ae",
   "metadata": {},
   "outputs": [
    {
     "data": {
      "text/plain": [
       "{'szynka': 'parmeńska',\n",
       " 'warzywa': ['karczochy', 'pomidory'],\n",
       " 'rozmiar': 'duża',\n",
       " 'typ_ciasta': 'grube'}"
      ]
     },
     "execution_count": 49,
     "metadata": {},
     "output_type": "execute_result"
    }
   ],
   "source": [
    "#jako słowa kluczowe\n",
    "def utworz_pizze(rozmiar, typ_ciasta, **dane_pizzy): #w literaturze **kwargs, działa jak słownik\n",
    "    dane_pizzy['rozmiar'] = rozmiar\n",
    "    dane_pizzy['typ_ciasta'] = typ_ciasta\n",
    "    return dane_pizzy\n",
    "\n",
    "utworz_pizze(\"duża\", \"grube\", szynka = 'parmeńska', warzywa = ['karczochy', 'pomidory'])"
   ]
  },
  {
   "cell_type": "markdown",
   "id": "1cdab4eb",
   "metadata": {},
   "source": [
    "### Dekompozycja funkcji"
   ]
  },
  {
   "cell_type": "markdown",
   "id": "849a5dbb",
   "metadata": {},
   "source": [
    "Dekompozycja funkcji to proces wywoływania funkcji z innej funkcji. Dzielimy w ten sposób duży problem na podproblemy"
   ]
  },
  {
   "cell_type": "code",
   "execution_count": 53,
   "id": "708b9c07",
   "metadata": {},
   "outputs": [],
   "source": [
    "#rozpatrzmy wyniki modelu estymacji jakiejś zmiennej. Chcemy obliczyć średni błąd bezwzględny estymacji (ME)\n",
    "#dla tych, którzy nie wiedzą jak się go liczy: https://www.naukowiec.org/wzory/statystyka/sredni-blad-bezwzgledny-estymacji-w-modelu-regresji_101.html\n",
    "wartosci_rzeczywiste = [-5, -4, -3, -1, -3, 1, 4, 5] \n",
    "wartosci_estymowane =  [-6, -4, -2, 0, 3, -1, 3, 7]"
   ]
  },
  {
   "cell_type": "code",
   "execution_count": 51,
   "id": "873ffc7b",
   "metadata": {},
   "outputs": [],
   "source": [
    "def lista_bledow(rzeczywiste, estymowane):\n",
    "    lista_bledow = []\n",
    "    for r, e in zip(rzeczywiste, estymowane):\n",
    "        blad = abs(r-e)\n",
    "        lista_bledow.append(blad)\n",
    "    return lista_bledow\n",
    "\n",
    "def sredni_blad_bezwzgledny(wart_rzeczywiste, wart_estymowane):\n",
    "    bledy = lista_bledow(rzeczywiste = wart_rzeczywiste, estymowane = wart_estymowane) #funkcja jest wywoływana wewnątrz innej\n",
    "    #print(bledy)\n",
    "    suma_bledow = sum(bledy)\n",
    "    n = len(wart_rzeczywiste)\n",
    "    wynik = (1/n)*suma_bledow\n",
    "    return wynik"
   ]
  },
  {
   "cell_type": "code",
   "execution_count": 54,
   "id": "edb66c8e",
   "metadata": {},
   "outputs": [
    {
     "data": {
      "text/plain": [
       "[1, 0, 1, 1, 6, 2, 1, 2]"
      ]
     },
     "execution_count": 54,
     "metadata": {},
     "output_type": "execute_result"
    }
   ],
   "source": [
    "lista_bledow(wartosci_rzeczywiste, wartosci_estymowane)"
   ]
  },
  {
   "cell_type": "code",
   "execution_count": 55,
   "id": "d455bf21",
   "metadata": {},
   "outputs": [
    {
     "data": {
      "text/plain": [
       "1.75"
      ]
     },
     "execution_count": 55,
     "metadata": {},
     "output_type": "execute_result"
    }
   ],
   "source": [
    "sredni_blad_bezwzgledny(wart_rzeczywiste = wartosci_rzeczywiste, wart_estymowane = wartosci_estymowane)"
   ]
  },
  {
   "cell_type": "code",
   "execution_count": 56,
   "id": "42b9fa2c",
   "metadata": {},
   "outputs": [
    {
     "data": {
      "text/plain": [
       "1.75"
      ]
     },
     "execution_count": 56,
     "metadata": {},
     "output_type": "execute_result"
    }
   ],
   "source": [
    "#liczymy recznie\n",
    "sum([1, 0, 1, 1, 6, 2, 1, 2])/len([1, 0, 1, 1, 6, 2, 1, 2]) #działa ok"
   ]
  },
  {
   "cell_type": "markdown",
   "id": "0384abd5",
   "metadata": {},
   "source": [
    "### Przechowywanie funkcji w modułach"
   ]
  },
  {
   "cell_type": "code",
   "execution_count": 1,
   "id": "34407290",
   "metadata": {},
   "outputs": [],
   "source": [
    "#tworzymy plik nazwa_modułu.py z funkcjami w folderze, w którym znajdują się wszystkie pliki ipynb."
   ]
  },
  {
   "cell_type": "code",
   "execution_count": 64,
   "id": "3a28fbe8",
   "metadata": {},
   "outputs": [],
   "source": [
    "import auto #import nazwa_modułu - plik, który przed chwilą tworzyliśmy"
   ]
  },
  {
   "cell_type": "code",
   "execution_count": 65,
   "id": "7cd81e46",
   "metadata": {},
   "outputs": [
    {
     "name": "stdout",
     "output_type": "stream",
     "text": [
      "Utworzono auto Toyota Corolla wyprodukowane w 2019 roku\n",
      "Inne informacje znajdują się w słowniku info_auto:\n",
      "{'klimatyzacja': 'Tak', 'marka': 'Toyota', 'model': 'Corolla', 'rok_produkcji': 2019}\n"
     ]
    }
   ],
   "source": [
    "auto.utworz_auto_kwargs(\"Toyota\", \"Corolla\", 2019, klimatyzacja = \"Tak\") #przy wywołaniu funkcji podajemy nazwę modułu, z którego go wywołujemy"
   ]
  },
  {
   "cell_type": "code",
   "execution_count": 66,
   "id": "259d5d56",
   "metadata": {},
   "outputs": [
    {
     "name": "stdout",
     "output_type": "stream",
     "text": [
      "Utworzono auto Toyota Corolla wyprodukowane w 2019 roku\n",
      "Wyposażenie auta:\n",
      "\t-klimatyzacja\n",
      "\t-system hac\n",
      "\t-tempomat\n"
     ]
    }
   ],
   "source": [
    "auto.utworz_auto_args(\"Toyota\", \"Corolla\", 2019, \"klimatyzacja\", \"system hac\", \"tempomat\")"
   ]
  },
  {
   "cell_type": "code",
   "execution_count": 67,
   "id": "18043b25",
   "metadata": {},
   "outputs": [
    {
     "name": "stdout",
     "output_type": "stream",
     "text": [
      "Utworzono auto Toyota Corolla wyprodukowane w 2019 roku\n",
      "Wyposażenie auta:\n",
      "\t-klimatyzacja\n",
      "\t-system hac\n",
      "\t-tempomat\n"
     ]
    }
   ],
   "source": [
    "#importowanie konkretnej funkcji / konkretnych funkcji\n",
    "from auto import utworz_auto_kwargs, utworz_auto_args\n",
    "utworz_auto_args(\"Toyota\", \"Corolla\", 2019, \"klimatyzacja\", \"system hac\", \"tempomat\") #teraz możemy używać funkcji bez wskazania modułu"
   ]
  },
  {
   "cell_type": "code",
   "execution_count": 69,
   "id": "61ad54fc",
   "metadata": {},
   "outputs": [
    {
     "name": "stdout",
     "output_type": "stream",
     "text": [
      "Utworzono auto Toyota Corolla wyprodukowane w 2019 roku\n",
      "Wyposażenie auta:\n",
      "\t-klimatyzacja\n",
      "\t-system hac\n",
      "\t-tempomat\n"
     ]
    }
   ],
   "source": [
    "#importowanie konkretnej funkcji jako aliasu\n",
    "from auto import utworz_auto_args as uaargs\n",
    "uaargs(\"Toyota\", \"Corolla\", 2019, \"klimatyzacja\", \"system hac\", \"tempomat\") #nazwa funkcji jako alias"
   ]
  },
  {
   "cell_type": "code",
   "execution_count": 71,
   "id": "6cf60af2",
   "metadata": {},
   "outputs": [
    {
     "name": "stdout",
     "output_type": "stream",
     "text": [
      "Utworzono auto Toyota Corolla wyprodukowane w 2019 roku\n",
      "Wyposażenie auta:\n",
      "\t-klimatyzacja\n",
      "\t-system hac\n",
      "\t-tempomat\n"
     ]
    }
   ],
   "source": [
    "#import modułu jako aliasu\n",
    "import auto as a\n",
    "a.utworz_auto_args(\"Toyota\", \"Corolla\", 2019, \"klimatyzacja\", \"system hac\", \"tempomat\")"
   ]
  },
  {
   "cell_type": "code",
   "execution_count": 10,
   "id": "6b05c20c",
   "metadata": {},
   "outputs": [
    {
     "name": "stdout",
     "output_type": "stream",
     "text": [
      "Utworzono auto Toyota Corolla wyprodukowane w 2019 roku\n",
      "Wyposażenie auta:\n",
      "\t-klimatyzacja\n",
      "\t-system hac\n",
      "\t-tempomat\n"
     ]
    }
   ],
   "source": [
    "#import wszystkich funkcji modułu\n",
    "from auto import *\n",
    "utworz_auto_args(\"Toyota\", \"Corolla\", 2019, \"klimatyzacja\", \"system hac\", \"tempomat\") #wywołanie bez nazwy modułu"
   ]
  },
  {
   "cell_type": "markdown",
   "id": "22fbcb15",
   "metadata": {},
   "source": [
    "Najlepsze podejście polega na zaimportowaniu funkcji, których chcemy użyć, lub całego modułu i stosowanie notacji z kropką (nazwą modułu).<br>\n",
    "Duże moduły mają wiele funkcji więc, jezeli nie będziemy z nich intensywnie korzystać, lepiej zaimportować wybrane funkcje.<br>\n",
    "Dodanie nazwy modułu przed nazwą funkcji zwiększa czytelność i pozwala uniknąć błędów, gdy mamy wiele takich samych nazw funkcji z różnych modułów.\n",
    "\n"
   ]
  },
  {
   "cell_type": "markdown",
   "id": "9c3b1613",
   "metadata": {},
   "source": [
    "### Funkcje anonimowe lambda"
   ]
  },
  {
   "cell_type": "markdown",
   "id": "a5de5236",
   "metadata": {},
   "source": [
    "Funkcja wyższego rzędu jest to zwykła funkcja, z tą różnicą, że przyjmuje jako parametr inną funkcję, lub zwraca funkcję."
   ]
  },
  {
   "cell_type": "code",
   "execution_count": 73,
   "id": "5863580d",
   "metadata": {},
   "outputs": [],
   "source": [
    "# funkcja wyższego rzędu\n",
    "def funkcja(f,liczba):\n",
    "    return f(liczba)\n",
    "\n",
    "# Dwie zwykłe funkcje zdefiniowane na potrzebę wywołania funkcji wyższego rzędu\n",
    "def dodaj_jeden(x):\n",
    "    return x + 1\n",
    "def kwadrat(parametr):\n",
    "    return parametr*parametr"
   ]
  },
  {
   "cell_type": "code",
   "execution_count": 74,
   "id": "7dbbd77f",
   "metadata": {},
   "outputs": [
    {
     "data": {
      "text/plain": [
       "49"
      ]
     },
     "execution_count": 74,
     "metadata": {},
     "output_type": "execute_result"
    }
   ],
   "source": [
    "# Wywołanie funkcji wyższego rzędu   \n",
    "#funkcja(dodaj_jeden,7) # dodaj 1\n",
    "funkcja(kwadrat,7) # podniesiemy ją do kwadratu"
   ]
  },
  {
   "cell_type": "markdown",
   "id": "5a85705d",
   "metadata": {},
   "source": [
    "Zapis funkcji lambda:<br>\n",
    "`\n",
    "lambda <parametry> : <wyrażenie>\n",
    "`"
   ]
  },
  {
   "cell_type": "markdown",
   "id": "7bb412d3",
   "metadata": {},
   "source": [
    "Zapis funkcji map<br>\n",
    "`\n",
    "map(funkcja, objekt)\n",
    "`"
   ]
  },
  {
   "cell_type": "code",
   "execution_count": 76,
   "id": "5ce6d586",
   "metadata": {},
   "outputs": [
    {
     "data": {
      "text/plain": [
       "49"
      ]
     },
     "execution_count": 76,
     "metadata": {},
     "output_type": "execute_result"
    }
   ],
   "source": [
    "#funkcja lambda skraca zapis (tworzenie wielu funkcji zwykłych)\n",
    "def funkcja(f,liczba):\n",
    "    return f(liczba)\n",
    "\n",
    "#funkcja(lambda x: x+1, 7) #odpowiednik funkcja(dodaj_jeden, 7)\n",
    "funkcja(lambda x: x*x, 7)"
   ]
  },
  {
   "cell_type": "code",
   "execution_count": 33,
   "id": "66315d66",
   "metadata": {},
   "outputs": [
    {
     "data": {
      "text/plain": [
       "[2, 3, 4, 5, 6]"
      ]
     },
     "execution_count": 33,
     "metadata": {},
     "output_type": "execute_result"
    }
   ],
   "source": [
    "list(map(dodaj_jeden, (1,2,3,4,5)))"
   ]
  },
  {
   "cell_type": "code",
   "execution_count": 77,
   "id": "aa9540b2",
   "metadata": {},
   "outputs": [
    {
     "data": {
      "text/plain": [
       "[2, 3, 4]"
      ]
     },
     "execution_count": 77,
     "metadata": {},
     "output_type": "execute_result"
    }
   ],
   "source": [
    "list(map(lambda _: _+1,[1,2,3])) #map() aplikuje funkcje do każdego elementu obiektu, tutaj listy"
   ]
  },
  {
   "cell_type": "markdown",
   "id": "42f17e9e",
   "metadata": {},
   "source": [
    "### Zadania"
   ]
  },
  {
   "cell_type": "markdown",
   "id": "26ce4207",
   "metadata": {},
   "source": [
    "__Zadanie 1__ <br>\n",
    "Napisz funkcję, która, przyjmie jako parametr listę liczb, a zwróci listę z usuniętymi liczbami parzystymi."
   ]
  },
  {
   "cell_type": "code",
   "execution_count": 16,
   "id": "4dd50488",
   "metadata": {},
   "outputs": [],
   "source": [
    "lista_liczb = [1,2,3,4,5,6,7,8,9,10,11,12,13,14]\n",
    "lista_na_wyjsciu = []\n",
    "def funkcja_zad1(lista):\n",
    "    for i in lista_liczb:\n",
    "        if i%2!=0:\n",
    "            lista_na_wyjsciu.append(i)\n",
    "    return lista_na_wyjsciu\n",
    "\n",
    "def funkcja_zad1_inna_wersja(lista):\n",
    "    for i in lista_liczb:\n",
    "        if i%2==0:\n",
    "            lista_liczb.remove(i)\n",
    "    return lista_liczb"
   ]
  },
  {
   "cell_type": "code",
   "execution_count": 17,
   "id": "f9850c5b",
   "metadata": {},
   "outputs": [
    {
     "data": {
      "text/plain": [
       "[1, 3, 5, 7, 9, 11, 13]"
      ]
     },
     "execution_count": 17,
     "metadata": {},
     "output_type": "execute_result"
    }
   ],
   "source": [
    "funkcja_zad1(lista_liczb)"
   ]
  },
  {
   "cell_type": "code",
   "execution_count": 18,
   "id": "5282879d",
   "metadata": {},
   "outputs": [
    {
     "data": {
      "text/plain": [
       "[1, 3, 5, 7, 9, 11, 13]"
      ]
     },
     "execution_count": 18,
     "metadata": {},
     "output_type": "execute_result"
    }
   ],
   "source": [
    "funkcja_zad1_inna_wersja(lista_liczb)"
   ]
  },
  {
   "cell_type": "markdown",
   "id": "8085038b",
   "metadata": {},
   "source": [
    "__Zadanie 2__ <br>\n",
    "Napisz funkcję, która zamieni tekst na wielkie litery. Jako argument powinna przyjąć ciąg tekstowy. (2 linijki kodu)"
   ]
  },
  {
   "cell_type": "code",
   "execution_count": 20,
   "id": "f52bb084",
   "metadata": {},
   "outputs": [],
   "source": [
    "def duze_litery(tekst):\n",
    "    return tekst.upper()"
   ]
  },
  {
   "cell_type": "code",
   "execution_count": 21,
   "id": "ef25c292",
   "metadata": {},
   "outputs": [
    {
     "data": {
      "text/plain": [
       "'ALA MA KOTA'"
      ]
     },
     "execution_count": 21,
     "metadata": {},
     "output_type": "execute_result"
    }
   ],
   "source": [
    "duze_litery(\"Ala ma kota\")"
   ]
  },
  {
   "cell_type": "markdown",
   "id": "e64c8097",
   "metadata": {},
   "source": [
    "__Zadanie 3__ <br>\n",
    "Napisz funkcję sprawdzającą ile masz dni. Można przyjąć, że rok ma 360 dni (miesiąc:30 dni)"
   ]
  },
  {
   "cell_type": "code",
   "execution_count": 40,
   "id": "69a6ffa8",
   "metadata": {},
   "outputs": [],
   "source": [
    "dzien_urodzin = 20\n",
    "miesiac_urodzin = 6\n",
    "rok_urodzin = 1998\n",
    "\n",
    "dzien_dzisiaj = 26\n",
    "miesiac_dzisiaj = 9\n",
    "rok_dzisiaj = 2022\n",
    "#miesiace_dni = {1:31, 2:28, 3:31, 4:30, 5:31, 6:30, 7:31, 8:31, 9:30, 10:31, 11:30, 12:31}\n",
    "\n",
    "def ile_dni(dzien_urodzin, miesiac_urodzin, rok_urodzin, dzien_dzisiaj, miesiac_dzisiaj, rok_dzisiaj):\n",
    "    wynik = 30-dzien_urodzin + (12-miesiac_urodzin)*30 + (rok_dzisiaj - rok_urodzin-1)*360 + (miesiac_dzisiaj-1)*30 + dzien_dzisiaj\n",
    "    return wynik\n",
    "\n",
    "def sprawdzenie(dzien_urodzin, miesiac_urodzin, rok_urodzin, dzien_dzisiaj, miesiac_dzisiaj, rok_dzisiaj):\n",
    "    return ile_dni(dzien_urodzin, miesiac_urodzin, rok_urodzin, dzien_dzisiaj, miesiac_dzisiaj, rok_dzisiaj)/360"
   ]
  },
  {
   "cell_type": "code",
   "execution_count": 42,
   "id": "57a1fa56",
   "metadata": {},
   "outputs": [
    {
     "name": "stdout",
     "output_type": "stream",
     "text": [
      "Masz około 8736 dni\n",
      "Według obliczeń masz około 24.27 lat. Czy sie zgadza?\n"
     ]
    }
   ],
   "source": [
    "print(f\"Masz około {ile_dni(20,6,1998, 26, 9, 2022)} dni\")\n",
    "print(f\"Według obliczeń masz około {round(sprawdzenie(20,6,1998, 26, 9, 2022),2)} lat. Czy sie zgadza?\")"
   ]
  },
  {
   "cell_type": "markdown",
   "id": "c9867a6f",
   "metadata": {},
   "source": [
    "__Zadanie 4__ <br>\n",
    "Czy poniższe funkcje/kody są poprawne? Dlaczego?"
   ]
  },
  {
   "cell_type": "markdown",
   "id": "2cadfd5e",
   "metadata": {},
   "source": [
    "`\n",
    "def f ():\n",
    "    global a\n",
    "    a = 15\n",
    "a = 8\n",
    "print ( a )\n",
    "`"
   ]
  },
  {
   "cell_type": "markdown",
   "id": "c42a07e9",
   "metadata": {},
   "source": [
    "Odpowiedź: Kod jest poprawny/niepoprawny ponieważ..."
   ]
  },
  {
   "cell_type": "code",
   "execution_count": 47,
   "id": "5be839ba",
   "metadata": {},
   "outputs": [
    {
     "name": "stdout",
     "output_type": "stream",
     "text": [
      "8\n"
     ]
    }
   ],
   "source": [
    "def f ():\n",
    "    global a\n",
    "    a = 15\n",
    "a = 8\n",
    "print ( a )"
   ]
  },
  {
   "cell_type": "markdown",
   "id": "85e64d41",
   "metadata": {},
   "source": [
    "Kod jest poprawny ponieważ nie wywołujemy funkcji a jedynie do a przyporządkujemy wartość 8."
   ]
  },
  {
   "cell_type": "markdown",
   "id": "fcfe75b9",
   "metadata": {},
   "source": [
    "___"
   ]
  },
  {
   "cell_type": "markdown",
   "id": "f2482417",
   "metadata": {},
   "source": [
    "`\n",
    "def f ( L1 ):\n",
    "    L1 [0] = 15\n",
    "    L = [1 ,2 ,3]\n",
    "f ( L )\n",
    "print (L , L1 )\n",
    "`"
   ]
  },
  {
   "cell_type": "markdown",
   "id": "55f86815",
   "metadata": {},
   "source": [
    "Odpowiedź: Kod jest poprawny/niepoprawny ponieważ..."
   ]
  },
  {
   "cell_type": "code",
   "execution_count": 49,
   "id": "dc331d10",
   "metadata": {},
   "outputs": [
    {
     "ename": "NameError",
     "evalue": "name 'L' is not defined",
     "output_type": "error",
     "traceback": [
      "\u001b[1;31m---------------------------------------------------------------------------\u001b[0m",
      "\u001b[1;31mNameError\u001b[0m                                 Traceback (most recent call last)",
      "\u001b[1;32mC:\\Users\\BPOL_1~1\\AppData\\Local\\Temp/ipykernel_17392/479136455.py\u001b[0m in \u001b[0;36m<module>\u001b[1;34m\u001b[0m\n\u001b[0;32m      2\u001b[0m     \u001b[0mL1\u001b[0m \u001b[1;33m[\u001b[0m\u001b[1;36m0\u001b[0m\u001b[1;33m]\u001b[0m \u001b[1;33m=\u001b[0m \u001b[1;36m15\u001b[0m\u001b[1;33m\u001b[0m\u001b[1;33m\u001b[0m\u001b[0m\n\u001b[0;32m      3\u001b[0m     \u001b[0mL\u001b[0m \u001b[1;33m=\u001b[0m \u001b[1;33m[\u001b[0m\u001b[1;36m1\u001b[0m \u001b[1;33m,\u001b[0m\u001b[1;36m2\u001b[0m \u001b[1;33m,\u001b[0m\u001b[1;36m3\u001b[0m\u001b[1;33m]\u001b[0m\u001b[1;33m\u001b[0m\u001b[1;33m\u001b[0m\u001b[0m\n\u001b[1;32m----> 4\u001b[1;33m \u001b[0mf\u001b[0m \u001b[1;33m(\u001b[0m \u001b[0mL\u001b[0m \u001b[1;33m)\u001b[0m\u001b[1;33m\u001b[0m\u001b[1;33m\u001b[0m\u001b[0m\n\u001b[0m\u001b[0;32m      5\u001b[0m \u001b[0mprint\u001b[0m \u001b[1;33m(\u001b[0m\u001b[0mL\u001b[0m \u001b[1;33m,\u001b[0m \u001b[0mL1\u001b[0m \u001b[1;33m)\u001b[0m\u001b[1;33m\u001b[0m\u001b[1;33m\u001b[0m\u001b[0m\n",
      "\u001b[1;31mNameError\u001b[0m: name 'L' is not defined"
     ]
    }
   ],
   "source": [
    "def f ( L1 ):\n",
    "    L1 [0] = 15\n",
    "    L = [1 ,2 ,3]\n",
    "f ( L )\n",
    "print (L , L1 )"
   ]
  },
  {
   "cell_type": "markdown",
   "id": "06125ca2",
   "metadata": {},
   "source": [
    "Kod jest niepoprawny ponieważ L1 jest zmienną lokalną pod funkcją i jest zmienną. L1 powinno być skopiowane do zmiennej"
   ]
  },
  {
   "cell_type": "code",
   "execution_count": 65,
   "id": "25139d4b",
   "metadata": {},
   "outputs": [
    {
     "name": "stdout",
     "output_type": "stream",
     "text": [
      "[1, 2, 3] [15, 2, 3]\n"
     ]
    }
   ],
   "source": [
    "#poprawny kod\n",
    "def f ( L1 ):\n",
    "    L1 = L[:]\n",
    "    L1 [0] = 15\n",
    "    return L1\n",
    "\n",
    "\n",
    "L = [1 ,2 ,3]\n",
    "L1 = f(L)\n",
    "print (L , L1 )"
   ]
  },
  {
   "cell_type": "markdown",
   "id": "fb4bb2da",
   "metadata": {},
   "source": [
    "___"
   ]
  },
  {
   "cell_type": "markdown",
   "id": "bdab83a1",
   "metadata": {},
   "source": [
    "`\n",
    "def f ( L1 ):\n",
    "    L = L1 [:]\n",
    "    L [0] = 15\n",
    "L = (1 ,2 ,3)\n",
    "f ((4 ,5 ,6))\n",
    "print ( L )\n",
    "`"
   ]
  },
  {
   "cell_type": "markdown",
   "id": "e63a6b58",
   "metadata": {},
   "source": [
    "Odpowiedź: Kod jest poprawny/niepoprawny ponieważ..."
   ]
  },
  {
   "cell_type": "code",
   "execution_count": 67,
   "id": "fd715d75",
   "metadata": {},
   "outputs": [
    {
     "ename": "TypeError",
     "evalue": "'tuple' object does not support item assignment",
     "output_type": "error",
     "traceback": [
      "\u001b[1;31m---------------------------------------------------------------------------\u001b[0m",
      "\u001b[1;31mTypeError\u001b[0m                                 Traceback (most recent call last)",
      "\u001b[1;32mC:\\Users\\BPOL_1~1\\AppData\\Local\\Temp/ipykernel_17392/3297171473.py\u001b[0m in \u001b[0;36m<module>\u001b[1;34m\u001b[0m\n\u001b[0;32m      3\u001b[0m     \u001b[0mL\u001b[0m \u001b[1;33m[\u001b[0m\u001b[1;36m0\u001b[0m\u001b[1;33m]\u001b[0m \u001b[1;33m=\u001b[0m \u001b[1;36m15\u001b[0m\u001b[1;33m\u001b[0m\u001b[1;33m\u001b[0m\u001b[0m\n\u001b[0;32m      4\u001b[0m \u001b[0mL\u001b[0m \u001b[1;33m=\u001b[0m \u001b[1;33m(\u001b[0m\u001b[1;36m1\u001b[0m \u001b[1;33m,\u001b[0m\u001b[1;36m2\u001b[0m \u001b[1;33m,\u001b[0m\u001b[1;36m3\u001b[0m\u001b[1;33m)\u001b[0m\u001b[1;33m\u001b[0m\u001b[1;33m\u001b[0m\u001b[0m\n\u001b[1;32m----> 5\u001b[1;33m \u001b[0mf\u001b[0m \u001b[1;33m(\u001b[0m\u001b[1;33m(\u001b[0m\u001b[1;36m4\u001b[0m \u001b[1;33m,\u001b[0m\u001b[1;36m5\u001b[0m \u001b[1;33m,\u001b[0m\u001b[1;36m6\u001b[0m\u001b[1;33m)\u001b[0m\u001b[1;33m)\u001b[0m\u001b[1;33m\u001b[0m\u001b[1;33m\u001b[0m\u001b[0m\n\u001b[0m\u001b[0;32m      6\u001b[0m \u001b[0mprint\u001b[0m \u001b[1;33m(\u001b[0m \u001b[0mL\u001b[0m \u001b[1;33m)\u001b[0m\u001b[1;33m\u001b[0m\u001b[1;33m\u001b[0m\u001b[0m\n",
      "\u001b[1;32mC:\\Users\\BPOL_1~1\\AppData\\Local\\Temp/ipykernel_17392/3297171473.py\u001b[0m in \u001b[0;36mf\u001b[1;34m(L1)\u001b[0m\n\u001b[0;32m      1\u001b[0m \u001b[1;32mdef\u001b[0m \u001b[0mf\u001b[0m \u001b[1;33m(\u001b[0m \u001b[0mL1\u001b[0m \u001b[1;33m)\u001b[0m\u001b[1;33m:\u001b[0m\u001b[1;33m\u001b[0m\u001b[1;33m\u001b[0m\u001b[0m\n\u001b[0;32m      2\u001b[0m     \u001b[0mL\u001b[0m \u001b[1;33m=\u001b[0m \u001b[0mL1\u001b[0m \u001b[1;33m[\u001b[0m\u001b[1;33m:\u001b[0m\u001b[1;33m]\u001b[0m\u001b[1;33m\u001b[0m\u001b[1;33m\u001b[0m\u001b[0m\n\u001b[1;32m----> 3\u001b[1;33m     \u001b[0mL\u001b[0m \u001b[1;33m[\u001b[0m\u001b[1;36m0\u001b[0m\u001b[1;33m]\u001b[0m \u001b[1;33m=\u001b[0m \u001b[1;36m15\u001b[0m\u001b[1;33m\u001b[0m\u001b[1;33m\u001b[0m\u001b[0m\n\u001b[0m\u001b[0;32m      4\u001b[0m \u001b[0mL\u001b[0m \u001b[1;33m=\u001b[0m \u001b[1;33m(\u001b[0m\u001b[1;36m1\u001b[0m \u001b[1;33m,\u001b[0m\u001b[1;36m2\u001b[0m \u001b[1;33m,\u001b[0m\u001b[1;36m3\u001b[0m\u001b[1;33m)\u001b[0m\u001b[1;33m\u001b[0m\u001b[1;33m\u001b[0m\u001b[0m\n\u001b[0;32m      5\u001b[0m \u001b[0mf\u001b[0m \u001b[1;33m(\u001b[0m\u001b[1;33m(\u001b[0m\u001b[1;36m4\u001b[0m \u001b[1;33m,\u001b[0m\u001b[1;36m5\u001b[0m \u001b[1;33m,\u001b[0m\u001b[1;36m6\u001b[0m\u001b[1;33m)\u001b[0m\u001b[1;33m)\u001b[0m\u001b[1;33m\u001b[0m\u001b[1;33m\u001b[0m\u001b[0m\n",
      "\u001b[1;31mTypeError\u001b[0m: 'tuple' object does not support item assignment"
     ]
    }
   ],
   "source": [
    "def f ( L1 ):\n",
    "    L = L1 [:]\n",
    "    L [0] = 15\n",
    "L = (1 ,2 ,3)\n",
    "f ((4 ,5 ,6))\n",
    "print ( L )"
   ]
  },
  {
   "cell_type": "markdown",
   "id": "4b862ec8",
   "metadata": {},
   "source": [
    "Kod jest niepoprawny ponieważ to tupli (krotek) nie mozna dodawać nowych elementów (są immutable)"
   ]
  },
  {
   "cell_type": "code",
   "execution_count": 68,
   "id": "f57f9ef6",
   "metadata": {},
   "outputs": [
    {
     "name": "stdout",
     "output_type": "stream",
     "text": [
      "(1, 2, 3)\n"
     ]
    }
   ],
   "source": [
    "#poprawny kod - zamieńmy krotke na listę\n",
    "def f ( L1 ):\n",
    "    L = L1 [:]\n",
    "    L [0] = 15\n",
    "L = (1 ,2 ,3)\n",
    "f ([4 ,5 ,6])\n",
    "print ( L )"
   ]
  },
  {
   "cell_type": "markdown",
   "id": "2ed8c047",
   "metadata": {},
   "source": [
    "__Zadanie 5__ <br>\n",
    "Liczenie maksimum jakiego robić się nie powinno.<br>\n",
    "Napiszmy jakąś funkcję liczbową i sprawdźmy gdzie przyjmuje maksimum dla predefiniowanej listy wartości"
   ]
  },
  {
   "cell_type": "code",
   "execution_count": 84,
   "id": "92e69631",
   "metadata": {},
   "outputs": [
    {
     "data": {
      "image/png": "[encoded data removed]",
      "text/plain": [
       "<Figure size 432x288 with 1 Axes>"
      ]
     },
     "metadata": {
      "needs_background": "light"
     },
     "output_type": "display_data"
    },
    {
     "name": "stdout",
     "output_type": "stream",
     "text": [
      "Maksymalna wartosc z listy to 13097 otrzymana w 0 elemencie listy\n"
     ]
    }
   ],
   "source": [
    "#tworzymy jakąś funkcję\n",
    "def funkcja(x):\n",
    "    wynik = x**4 - 3*x**3+x**2-3\n",
    "    return wynik\n",
    "\n",
    "#sprawdzamy jej wyniki dla zakresu -10;10 co 1\n",
    "lista_wyników = [funkcja(i) for i in range(-10, 10, 1)]\n",
    "\n",
    "#rysujemy wykres - później będziemy to omawiać\n",
    "import matplotlib.pyplot as plt\n",
    "plt.plot(lista_wyników)\n",
    "plt.show()\n",
    "\n",
    "#nieskończoność w pythonie:\n",
    "import math\n",
    "math.inf\n",
    "\n",
    "#zaimplementuj funkcję do szukania wartości maksymalnej pośród listy wyników bez użycia funkcji max\n",
    "def maksimum(lista_wynikow):\n",
    "    max_wartosc = -math.inf\n",
    "    max_i = 0\n",
    "    for i, wartosc in enumerate(lista_wynikow):\n",
    "        if wartosc > max_wartosc:\n",
    "            max_i = i\n",
    "            max_wartosc = wartosc\n",
    "    return (max_i, max_wartosc)\n",
    "\n",
    "wyniki = maksimum(lista_wyników)\n",
    "print(f\"Maksymalna wartosc z listy to {wyniki[1]} otrzymana w {wyniki[0]} elemencie listy\")"
   ]
  },
  {
   "cell_type": "markdown",
   "id": "fd463000",
   "metadata": {},
   "source": [
    "__Zadanie 6__ <br>\n",
    "Napisz funkcję liczącą średnią z wielu list"
   ]
  },
  {
   "cell_type": "code",
   "execution_count": 86,
   "id": "b0c7bcd2",
   "metadata": {},
   "outputs": [],
   "source": [
    "lista1 = [1,2,3,4,5]\n",
    "lista2 = [4,6,7,9,0]\n",
    "lista3 = [5,2,8,4,4]\n",
    "\n",
    "def srednie_z_list(*args):\n",
    "    for lista in args:\n",
    "        print(sum(lista)/len(lista))\n",
    "        \n",
    "srednie_z_list(lista1, lista2, lista3)"
   ]
  },
  {
   "cell_type": "markdown",
   "id": "104498ae",
   "metadata": {},
   "source": [
    "__Zadanie 7__ <br>\n",
    "Napisz funkcję silnia(n), która oblicza i zwraca wartość silni: n! := 1 * 2 * 3 * ... (n - 1) * n. <br>\n",
    "Jeżeli na wejściu zdefiniowane zostanę wartości < 1 zakończ działanie i wyświetl komunikat błędu."
   ]
  },
  {
   "cell_type": "code",
   "execution_count": 9,
   "id": "2818603e",
   "metadata": {},
   "outputs": [
    {
     "data": {
      "text/plain": [
       "24"
      ]
     },
     "execution_count": 9,
     "metadata": {},
     "output_type": "execute_result"
    }
   ],
   "source": [
    "def silnia(n):\n",
    "    if n < 1:\n",
    "        return \"Źle zdefiniowane wartości\" #koniec funkcji\n",
    "    wynik = 1\n",
    "    for i in range(1, n+1):\n",
    "        wynik *= i\n",
    "    return wynik\n",
    "\n",
    "silnia(4)"
   ]
  },
  {
   "cell_type": "markdown",
   "id": "c9ff8272",
   "metadata": {},
   "source": [
    "__Zadanie 8__ <br>\n",
    "Napisz funkcję tworzącą elementy Ciągu Fibonacciego. Na wejściu funkcja powinna przyjmować ilość wyrazów a powinna zwracać listę z n-wyrazami<br>\n",
    "\n",
    "Dla tych którzy nie wiedzą jak ciąg fibonacciego wygląda:\n",
    "https://pl.wikipedia.org/wiki/Ci%C4%85g_Fibonacciego\n"
   ]
  },
  {
   "cell_type": "code",
   "execution_count": 29,
   "id": "12076075",
   "metadata": {},
   "outputs": [
    {
     "data": {
      "image/png": "[encoded data removed]",
      "text/plain": [
       "<Figure size 432x288 with 1 Axes>"
      ]
     },
     "metadata": {
      "needs_background": "light"
     },
     "output_type": "display_data"
    }
   ],
   "source": [
    "import matplotlib.pyplot as plt\n",
    "\n",
    "def ciag_fibonacciego(ilosc_elementow):\n",
    "    lista = [0,1]\n",
    "    for i in range(3, ilosc_elementow+1):\n",
    "        lista.append(sum(lista[-2:]))\n",
    "    return lista\n",
    "\n",
    "ciag = ciag_fibonacciego(30)\n",
    "plt.plot(ciag)\n",
    "plt.show()"
   ]
  },
  {
   "cell_type": "code",
   "execution_count": 23,
   "id": "4108b6ee",
   "metadata": {},
   "outputs": [
    {
     "data": {
      "text/plain": [
       "{1: 0, 2: 1, 3: 1, 4: 2, 5: 3, 6: 5, 7: 8, 8: 13, 9: 21, 10: 34}"
      ]
     },
     "execution_count": 23,
     "metadata": {},
     "output_type": "execute_result"
    }
   ],
   "source": [
    "def ciag_fibonacciego_slownik(ilosc_elementow):\n",
    "    slownik = {1:0, 2:1}\n",
    "    for i in range(3, ilosc_elementow+1):\n",
    "        slownik[i] = slownik[i-1] + slownik[i-2]\n",
    "    return slownik\n",
    "\n",
    "ciag_fibonacciego_slownik(10)"
   ]
  },
  {
   "cell_type": "markdown",
   "id": "41f01b65",
   "metadata": {},
   "source": [
    "__Zadanie 9__ <br>\n",
    "Napisz funkcję tworzącą elementy Ciągu Fibonacciego. Na wejściu funkcja powinna przyjmować ilość wyrazów i powinna wypisywać kolejne elementy<br>\n"
   ]
  },
  {
   "cell_type": "code",
   "execution_count": 36,
   "id": "69a25f9b",
   "metadata": {},
   "outputs": [
    {
     "name": "stdout",
     "output_type": "stream",
     "text": [
      "0\n",
      "1\n",
      "1\n",
      "2\n",
      "3\n",
      "5\n",
      "8\n",
      "13\n",
      "21\n",
      "34\n"
     ]
    }
   ],
   "source": [
    "def ciag_fibonacciego(ilosc_elementow):\n",
    "    x_0 = ''\n",
    "    x_1 = 0\n",
    "    x_2 = 1\n",
    "    print(f\"{x_1}\\n{x_2}\")\n",
    "    for i in range(3, ilosc_elementow+1):\n",
    "        x_0 = x_1\n",
    "        x_1 = x_2\n",
    "        x_2 = x_0 + x_1\n",
    "        print(x_2)\n",
    "\n",
    "ciag_fibonacciego(10)"
   ]
  },
  {
   "cell_type": "markdown",
   "id": "97bca5e8",
   "metadata": {},
   "source": [
    "__Zadanie 10__ <br>\n",
    "Napisz funkcję tworzącą elementy Ciągu Fibonacciego. Na wejściu funkcja powinna przyjmować ilość wyrazów i powinna wypisywać kolejne elementy<br>\n",
    "Elementy powinny być ponumerowane np:<br>\n",
    "1: 0<br>\n",
    "2: 1<br>\n",
    "3: 1<br>\n",
    "4: 2<br>\n",
    "5: 3 ... <br>\n",
    "(Mała zmiana w stosunku do zadania 9)"
   ]
  },
  {
   "cell_type": "code",
   "execution_count": 38,
   "id": "470b128a",
   "metadata": {},
   "outputs": [
    {
     "name": "stdout",
     "output_type": "stream",
     "text": [
      "1: 0\n",
      "2: 1\n",
      "3: 1\n",
      "4: 2\n",
      "5: 3\n",
      "6: 5\n",
      "7: 8\n",
      "8: 13\n",
      "9: 21\n",
      "10: 34\n"
     ]
    }
   ],
   "source": [
    "def ciag_fibonacciego(ilosc_elementow):\n",
    "    x_0 = ''\n",
    "    x_1 = 0\n",
    "    x_2 = 1\n",
    "    print(f\"1: {x_1}\\n2: {x_2}\")\n",
    "    for n, i in enumerate(range(3, ilosc_elementow+1)):\n",
    "        x_0 = x_1\n",
    "        x_1 = x_2\n",
    "        x_2 = x_0 + x_1\n",
    "        print(f\"{n+3}: {x_2}\")\n",
    "\n",
    "ciag_fibonacciego(10)"
   ]
  }
 ],
 "metadata": {
  "kernelspec": {
   "display_name": "Python 3 (ipykernel)",
   "language": "python",
   "name": "python3"
  },
  "language_info": {
   "codemirror_mode": {
    "name": "ipython",
    "version": 3
   },
   "file_extension": ".py",
   "mimetype": "text/x-python",
   "name": "python",
   "nbconvert_exporter": "python",
   "pygments_lexer": "ipython3",
   "version": "3.9.12"
  }
 },
 "nbformat": 4,
 "nbformat_minor": 5
}
