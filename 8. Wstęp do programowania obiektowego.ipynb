{
 "cells": [
  {
   "cell_type": "markdown",
   "id": "9bd81450",
   "metadata": {},
   "source": [
    "# Wstęp do programowania obiektowego\n",
    "\n",
    "Szymon Dziubak"
   ]
  },
  {
   "cell_type": "markdown",
   "id": "1631e48a",
   "metadata": {},
   "source": [
    "Programowanie obiektowe zyskało na popularności od języka C++. Jest to klasyczny przykład programowania opartego na obiektach, tuż obok języka Java."
   ]
  },
  {
   "cell_type": "markdown",
   "id": "46e9bf43",
   "metadata": {},
   "source": [
    "Ważne: programowanie obiektowe nie jest niezbędne żeby napisany kod zrealizował jakąś funkcjonalność."
   ]
  },
  {
   "cell_type": "markdown",
   "id": "7973a187",
   "metadata": {},
   "source": [
    "Warto jednak go używać, aby kod był bardziej zrozumiały i uniwersalny."
   ]
  },
  {
   "cell_type": "markdown",
   "id": "75e2f5f2",
   "metadata": {},
   "source": [
    "Przyjrzyjmy się obiektowi człowiek. Każdy ma takie cechy: <br>\n",
    "* imię\n",
    "* płeć\n",
    "* wiek<br>\n",
    "\n",
    "Każdy człowiek ma również jakieś funkcje, które może wykonać: <br>\n",
    "* może myśleć\n",
    "* może spać\n",
    "* może jeść itd.\n",
    "\n"
   ]
  },
  {
   "cell_type": "markdown",
   "id": "ebc2f8fa",
   "metadata": {},
   "source": [
    "Wiedząc czym jest obiekt przejdźmy do zdefiniowania programowania obiektowego.<br>\n",
    "Programowanie obiektowe to takie programowanie, które stawia na tworzenie obiektów świata rzeczywistego, które mają jakiś stan (imię, wiek, płeć) i któe mogą wykonywać operacje (myśleć, spać czy jeść).<br>\n",
    "Możemy stworzyć więc nowy typ danych - człowieka, który przechowuje te informacje, których potrzebujemy"
   ]
  },
  {
   "cell_type": "markdown",
   "id": "bf04a669",
   "metadata": {},
   "source": [
    "Definiowanie takiego typu danych, nazywa się tworzeniem klasy. Natomiast w momencie, w którym na podstawie naszego nowego typu danych, czyli naszej klasy, utworzymy już konkretne zmienne, odpowiadające, naszym konkretnym osobom, to będzie mieć do czynienia z obiektami."
   ]
  },
  {
   "cell_type": "markdown",
   "id": "721b9ebf",
   "metadata": {},
   "source": [
    "### Użycie i tworzenie klasy"
   ]
  },
  {
   "cell_type": "code",
   "execution_count": 13,
   "id": "e9dd7874",
   "metadata": {},
   "outputs": [],
   "source": [
    "class Dog():\n",
    "    \"\"\"Prosta próba modelowania psa\"\"\"\n",
    "    def __init__(self, name, age):\n",
    "        \"\"\"Inicjalizacja atrybutów name i age\"\"\"\n",
    "        self.name = name\n",
    "        self.age = age\n",
    "        \n",
    "    def sit(self):\n",
    "        \"\"\"Symulacja, że pies siada po otrzymaniu polecenia\"\"\"\n",
    "        print(f\"{self.name} teraz siedzi.\")\n",
    "              \n",
    "    def roll_over(self):\n",
    "        \"\"\"Symulacja, że pies kładzie się na plecy po otrzymaniu polecenia\"\"\"\n",
    "        print(f\"{self.name} położył się na plecy!\")"
   ]
  },
  {
   "cell_type": "markdown",
   "id": "682cf77f",
   "metadata": {},
   "source": [
    "Rozbijamy na części: <br>\n",
    "`class Dog():` <- definicja klasy, z wielkiej litery<br>\n",
    "'\"\"\"Prosta próba modelowania psa\"\"\"' <- komentarz opisujący przeznaczenie klasy"
   ]
  },
  {
   "cell_type": "markdown",
   "id": "c38a1de5",
   "metadata": {},
   "source": [
    "Metoda __init__()<br><br>\n",
    "Funkcja będąca częścią klasy nosi nazwę metody.<br>\n",
    "Metoda __init__() jest zaliczana do metod specjalnych i jest wywoływana automatycznie, gdy wywoływana jest klasa.<br>\n",
    "Parametr self jest pierwszym parametrem metody init. Dzieki atrybutowi self pozostałe metody otrzymują dostęp do parametrów zdefiniowanych w metodzie init. Czyli metoda sit będzie miała dostęp do parametrów name i age dzięki temu, że w metodzie init zostały one przypisane do atrybutu self."
   ]
  },
  {
   "cell_type": "markdown",
   "id": "0491ff9c",
   "metadata": {},
   "source": [
    "Metody sit i roll_over robią zdefiniowane operacje (w tym przypadku wyświetlają tylko tekst."
   ]
  },
  {
   "cell_type": "code",
   "execution_count": 14,
   "id": "3bd2a757",
   "metadata": {},
   "outputs": [],
   "source": [
    "#Zdefiniujmy sobie egzemplarze - wystąpienia klasy Dog\n",
    "mój_pierwszy_pies = Dog('Scooby-Doo', 8)\n",
    "mój_drugi_pies = Dog('Scrappy-Doo', 4)"
   ]
  },
  {
   "cell_type": "code",
   "execution_count": 15,
   "id": "166bf771",
   "metadata": {},
   "outputs": [
    {
     "name": "stdout",
     "output_type": "stream",
     "text": [
      "Mój pierwszy pies ma na imię Scooby-Doo i ma 8 lat\n"
     ]
    }
   ],
   "source": [
    "print(f\"Mój pierwszy pies ma na imię {mój_pierwszy_pies.name.title()} i ma {mój_pierwszy_pies.age} lat\")"
   ]
  },
  {
   "cell_type": "code",
   "execution_count": 16,
   "id": "88690a3b",
   "metadata": {},
   "outputs": [
    {
     "name": "stdout",
     "output_type": "stream",
     "text": [
      "Mój drugi pies ma na imię Scrappy-Doo i ma 4 lat\n"
     ]
    }
   ],
   "source": [
    "print(f\"Mój drugi pies ma na imię {mój_drugi_pies.name.title()} i ma {mój_drugi_pies.age} lat\")"
   ]
  },
  {
   "cell_type": "code",
   "execution_count": 20,
   "id": "5ce72441",
   "metadata": {},
   "outputs": [
    {
     "name": "stdout",
     "output_type": "stream",
     "text": [
      "Scooby-Doo teraz siedzi.\n",
      "Scrappy-Doo położył się na plecy!\n"
     ]
    }
   ],
   "source": [
    "#Teraz niech mój pierwszy pies siądzie a drugi niech się obróci\n",
    "mój_pierwszy_pies.sit()\n",
    "mój_drugi_pies.roll_over()"
   ]
  },
  {
   "cell_type": "markdown",
   "id": "fd0f8bbc",
   "metadata": {},
   "source": [
    "### Praca z klasami i egzemplarzami"
   ]
  },
  {
   "cell_type": "code",
   "execution_count": 3,
   "id": "085db7c8",
   "metadata": {},
   "outputs": [],
   "source": [
    "class Car:\n",
    "    \"\"\"Próba reprezentacji auta\"\"\"\n",
    "    def __init__(self, make, model, year):\n",
    "        \"\"\"Inicjalizacja atrybutów auta\"\"\"\n",
    "        self.make = make\n",
    "        self.model = model\n",
    "        self.year = year\n",
    "\n",
    "    def get_descriptive_name(self):\n",
    "        \"\"\"Zwróć sformatowaną nazwę auta\"\"\"\n",
    "        long_name = f\"{self.year} {self.make} {self.model}\"\n",
    "        return long_name.title()"
   ]
  },
  {
   "cell_type": "code",
   "execution_count": 4,
   "id": "bb51f88c",
   "metadata": {},
   "outputs": [
    {
     "name": "stdout",
     "output_type": "stream",
     "text": [
      "2022 Audi A5\n"
     ]
    }
   ],
   "source": [
    "nowe_auto = Car('audi', 'a5', 2022) #tworzymy egzemplarz\n",
    "print(nowe_auto.get_descriptive_name())"
   ]
  },
  {
   "cell_type": "code",
   "execution_count": 5,
   "id": "ea2cc1b6",
   "metadata": {},
   "outputs": [],
   "source": [
    "#nowa metoda - read_odometer()\n",
    "class Car:\n",
    "    \"\"\"Próba reprezentacji auta\"\"\"\n",
    "    def __init__(self, make, model, year):\n",
    "        \"\"\"Inicjalizacja atrybutów auta\"\"\"\n",
    "        self.make = make\n",
    "        self.model = model\n",
    "        self.year = year\n",
    "        self.odometer_reading = 0\n",
    "\n",
    "    def get_descriptive_name(self):\n",
    "        \"\"\"Zwróć sformatowaną nazwę auta\"\"\"\n",
    "        long_name = f\"{self.year} {self.make} {self.model}\"\n",
    "        return long_name.title()\n",
    "    \n",
    "    def read_odometer(self):\n",
    "        \"\"\"Wyświetla informację o przebiegu samochodu\"\"\"\n",
    "        print(f\"Ten samochód ma przejechane {self.odometer_reading} km\")"
   ]
  },
  {
   "cell_type": "code",
   "execution_count": 6,
   "id": "d6e4dd9d",
   "metadata": {},
   "outputs": [
    {
     "name": "stdout",
     "output_type": "stream",
     "text": [
      "2019 Audi A4\n",
      "Ten samochód ma przejechane 0 km\n"
     ]
    }
   ],
   "source": [
    "my_new_car = Car('audi', 'a4', 2019) #egzemplarz\n",
    "print(my_new_car.get_descriptive_name())\n",
    "my_new_car.read_odometer() #wywołanie metody"
   ]
  },
  {
   "cell_type": "code",
   "execution_count": 7,
   "id": "fd400604",
   "metadata": {},
   "outputs": [
    {
     "name": "stdout",
     "output_type": "stream",
     "text": [
      "Ten samochód ma przejechane 23 km\n"
     ]
    }
   ],
   "source": [
    "#nadpisanie parametru\n",
    "my_new_car.odometer_reading = 23\n",
    "my_new_car.read_odometer()"
   ]
  },
  {
   "cell_type": "code",
   "execution_count": 9,
   "id": "dbbd91d2",
   "metadata": {},
   "outputs": [],
   "source": [
    "#nowa metoda - update_odometer()\n",
    "class Car:\n",
    "    \"\"\"Próba reprezentacji auta\"\"\"\n",
    "    def __init__(self, make, model, year):\n",
    "        \"\"\"Inicjalizacja atrybutów auta\"\"\"\n",
    "        self.make = make\n",
    "        self.model = model\n",
    "        self.year = year\n",
    "        self.odometer_reading = 0\n",
    "\n",
    "    def get_descriptive_name(self):\n",
    "        \"\"\"Zwróć sformatowaną nazwę auta\"\"\"\n",
    "        long_name = f\"{self.year} {self.make} {self.model}\"\n",
    "        return long_name.title()\n",
    "    \n",
    "    def read_odometer(self):\n",
    "        \"\"\"Wyświetla informację o przebiegu samochodu\"\"\"\n",
    "        print(f\"Ten samochód ma przejechane {self.odometer_reading} km\")\n",
    "        \n",
    "    def update_odometer(self, mileage):\n",
    "        \"\"\"Przypisanie podanej wartości licznikowi przebiegu samochodu\"\"\"\n",
    "        self.odometer_reading = mileage   "
   ]
  },
  {
   "cell_type": "code",
   "execution_count": 14,
   "id": "859f80ff",
   "metadata": {},
   "outputs": [
    {
     "name": "stdout",
     "output_type": "stream",
     "text": [
      "Ten samochód ma przejechane 25 km\n"
     ]
    }
   ],
   "source": [
    "my_new_car = Car('audi', 'a4', 2019) \n",
    "my_new_car.update_odometer(25) #dodajemy ilość przejechanych kilomentów\n",
    "my_new_car.read_odometer()"
   ]
  },
  {
   "cell_type": "code",
   "execution_count": 16,
   "id": "b5a82923",
   "metadata": {},
   "outputs": [],
   "source": [
    "#nowa metoda - increment_odometer\n",
    "class Car:\n",
    "    \"\"\"Próba reprezentacji auta\"\"\"\n",
    "    def __init__(self, make, model, year):\n",
    "        \"\"\"Inicjalizacja atrybutów auta\"\"\"\n",
    "        self.make = make\n",
    "        self.model = model\n",
    "        self.year = year\n",
    "        self.odometer_reading = 0\n",
    "\n",
    "    def get_descriptive_name(self):\n",
    "        \"\"\"Zwróć sformatowaną nazwę auta\"\"\"\n",
    "        long_name = f\"{self.year} {self.make} {self.model}\"\n",
    "        return long_name.title()\n",
    "    \n",
    "    def read_odometer(self):\n",
    "        \"\"\"Wyświetla informację o przebiegu samochodu\"\"\"\n",
    "        print(f\"Ten samochód ma przejechane {self.odometer_reading} km\")\n",
    "        \n",
    "    def update_odometer(self, mileage):\n",
    "        \"\"\"Przypisanie podanej wartości licznikowi przebiegu samochodu\"\"\"\n",
    "        self.odometer_reading = mileage\n",
    "\n",
    "    def increment_odometer(self, miles):\n",
    "        \"\"\"Inkrementacja wartości licznika o podaną wartość\"\"\"\n",
    "        self.odometer_reading += miles"
   ]
  },
  {
   "cell_type": "code",
   "execution_count": 17,
   "id": "d0e89929",
   "metadata": {},
   "outputs": [
    {
     "name": "stdout",
     "output_type": "stream",
     "text": [
      "Ten samochód ma przejechane 23500 km\n",
      "Ten samochód ma przejechane 23600 km\n"
     ]
    }
   ],
   "source": [
    "#aktualizacja parametru\n",
    "my_used_car = Car('subaru', 'outback', 2015)\n",
    "\n",
    "my_used_car.update_odometer(23_500)\n",
    "my_used_car.read_odometer()\n",
    "\n",
    "my_used_car.increment_odometer(100)\n",
    "my_used_car.read_odometer()"
   ]
  },
  {
   "cell_type": "code",
   "execution_count": 2,
   "id": "32b7525a",
   "metadata": {},
   "outputs": [
    {
     "name": "stdout",
     "output_type": "stream",
     "text": [
      "21\n"
     ]
    }
   ],
   "source": [
    "class Prostokąt:\n",
    "    def __init__(self, wym_1, wym_2):\n",
    "         self.parametry(wym_1, wym_2)\n",
    "\n",
    "    def parametry(self, wym_1, wym_2):\n",
    "        self.wym_1 = wym_1\n",
    "        self.wym_2 = wym_2\n",
    "\n",
    "    def powierzchnia(self):\n",
    "        return self.wym_1*self.wym_2\n",
    "\n",
    "r = Prostokąt(2, 8)\n",
    "r2 = r #powiązujemy ze sobą 2 wystąpienia klasy jak w listach\n",
    "r2.parametry(3, 7)\n",
    "print(r.powierzchnia())\n"
   ]
  },
  {
   "cell_type": "markdown",
   "id": "6f317947",
   "metadata": {},
   "source": [
    "### Zadania"
   ]
  },
  {
   "cell_type": "markdown",
   "id": "170f7665",
   "metadata": {},
   "source": [
    "__Zadanie 1__<br>\n",
    "Przygotuj klasę o nazwie Restaurant. Metoda init() w klasie Restaurant powinna przechowywać dwa atrybuty: restaurant_name i cuisine_type. Utwórz metodę o nazwie describe_restaurant() wyświetlającą te dwa fragmenty informacji oraz metodę o nazwie open_restaurant wyświetlającą informację o godzinach pracy restauracji."
   ]
  },
  {
   "cell_type": "markdown",
   "id": "69ba2871",
   "metadata": {},
   "source": [
    "__Zadanie 2__<br>\n",
    "Bazując na klasie z zadania 1 utwórz trzy różne egzemplarze a następnie wywołaj metodę describe_restaurant() dla każdego egzemplarza."
   ]
  },
  {
   "cell_type": "markdown",
   "id": "20f1888f",
   "metadata": {},
   "source": [
    "__Zadanie 3__<br>\n",
    "Do stworzonej klasy dodaj atrybut number_served o wartości domyślnej 0. Następnie na podstawie klasy utwórz egzemplarz o nazwie restaurant. Wyświetl liczbę klientów obsłużonych przez tę restaurację, zmień jej wartość i wyświetl nową.\n"
   ]
  },
  {
   "cell_type": "markdown",
   "id": "89d473ae",
   "metadata": {},
   "source": [
    "__Zadanie 4__<br>\n",
    "Dodaj metodę set_number_served() pozwalającą na zdefiniowanie liczby obsłużonych klientów.\n",
    "Wywołaj ją."
   ]
  },
  {
   "cell_type": "markdown",
   "id": "caf26f69",
   "metadata": {},
   "source": [
    "__Zadanie 5__<br>\n",
    "Dodaj metodę increment_number_served() pozwalającą na inkrementację liczby obsłużonych klientów. Wywołaj ją kilka razy."
   ]
  }
 ],
 "metadata": {
  "kernelspec": {
   "display_name": "Python 3 (ipykernel)",
   "language": "python",
   "name": "python3"
  },
  "language_info": {
   "codemirror_mode": {
    "name": "ipython",
    "version": 3
   },
   "file_extension": ".py",
   "mimetype": "text/x-python",
   "name": "python",
   "nbconvert_exporter": "python",
   "pygments_lexer": "ipython3",
   "version": "3.9.12"
  }
 },
 "nbformat": 4,
 "nbformat_minor": 5
}
