{
 "cells": [
  {
   "cell_type": "markdown",
   "id": "2b2b201c",
   "metadata": {},
   "source": [
    "# listy cd., krotki, słowniki, zbiory\n",
    "\n",
    "Szymon Dziubak"
   ]
  },
  {
   "cell_type": "markdown",
   "id": "5b4059d6",
   "metadata": {},
   "source": [
    "### Listy - wprowadzenie"
   ]
  },
  {
   "cell_type": "code",
   "execution_count": 2,
   "id": "96f2637d",
   "metadata": {},
   "outputs": [],
   "source": [
    "pizze = ['margherita', 'pepperoni', 'hawajska', 'capricciosa', 'diavola'] #definicja listy\n",
    "zbior_obiektow = ['obiekt1', 1, 1.0, True, 'obiekt5'] #różne typy danych"
   ]
  },
  {
   "cell_type": "code",
   "execution_count": 3,
   "id": "4e8a51cc",
   "metadata": {},
   "outputs": [
    {
     "data": {
      "text/plain": [
       "'margherita'"
      ]
     },
     "execution_count": 3,
     "metadata": {},
     "output_type": "execute_result"
    }
   ],
   "source": [
    "pizze[0] #numeracja listy zaczyna się od 0"
   ]
  },
  {
   "cell_type": "code",
   "execution_count": 5,
   "id": "6586ba82",
   "metadata": {},
   "outputs": [
    {
     "data": {
      "text/plain": [
       "['hawajska', 'capricciosa', 'diavola']"
      ]
     },
     "execution_count": 5,
     "metadata": {},
     "output_type": "execute_result"
    }
   ],
   "source": [
    "pizze[0:1] #pierwszy obiekt\n",
    "pizze[1:3] #drugi i trzeci obiekt\n",
    "pizze[-3:] #ostatnie 3 obiekty"
   ]
  },
  {
   "cell_type": "code",
   "execution_count": 7,
   "id": "5e676749",
   "metadata": {},
   "outputs": [
    {
     "name": "stdout",
     "output_type": "stream",
     "text": [
      "Najostrzejsza pizza to diavola\n"
     ]
    }
   ],
   "source": [
    "komunikat = f\"Najostrzejsza pizza to {pizze[-1]}\"\n",
    "print(komunikat)"
   ]
  },
  {
   "cell_type": "markdown",
   "id": "7347a596",
   "metadata": {},
   "source": [
    "modyfikowanie, dodawanie i usuwanie elementów"
   ]
  },
  {
   "cell_type": "code",
   "execution_count": 11,
   "id": "66749d02",
   "metadata": {},
   "outputs": [],
   "source": [
    "niemieckie_auta = ['bmw', 'audi', 'mercedes', 'porshe']"
   ]
  },
  {
   "cell_type": "code",
   "execution_count": 12,
   "id": "8b4b6bd7",
   "metadata": {},
   "outputs": [
    {
     "name": "stdout",
     "output_type": "stream",
     "text": [
      "['bmw', 'audi', 'mercedes', 'volkswagen']\n"
     ]
    }
   ],
   "source": [
    "niemieckie_auta[3] = 'volkswagen' # nadpisywanie elementu\n",
    "print(niemieckie_auta)"
   ]
  },
  {
   "cell_type": "code",
   "execution_count": 13,
   "id": "f8ef8631",
   "metadata": {},
   "outputs": [
    {
     "name": "stdout",
     "output_type": "stream",
     "text": [
      "['bmw', 'audi', 'mercedes', 'volkswagen', 'opel']\n"
     ]
    }
   ],
   "source": [
    "niemieckie_auta.append('opel')# dodawanie elementu na koniec listy\n",
    "print(niemieckie_auta)"
   ]
  },
  {
   "cell_type": "code",
   "execution_count": 15,
   "id": "76cbb962",
   "metadata": {},
   "outputs": [
    {
     "name": "stdout",
     "output_type": "stream",
     "text": [
      "['opel', 'mercedes', 'bmw', 'audi']\n"
     ]
    }
   ],
   "source": [
    "niemieckie_auta = []\n",
    "niemieckie_auta.append('opel')\n",
    "niemieckie_auta.append('bmw')\n",
    "niemieckie_auta.append('audi')\n",
    "niemieckie_auta.insert(1, 'mercedes')# wstawianie na określoną pozycję\n",
    "print(niemieckie_auta)"
   ]
  },
  {
   "cell_type": "code",
   "execution_count": 2,
   "id": "17678a64",
   "metadata": {},
   "outputs": [
    {
     "name": "stdout",
     "output_type": "stream",
     "text": [
      "['opel', 'bmw', 'audi']\n"
     ]
    }
   ],
   "source": [
    "#dodajmy wiele elementów na raz - listy można dodawać\n",
    "niemieckie_auta = []\n",
    "niemieckie_auta = niemieckie_auta + ['opel', 'bmw', 'audi']\n",
    "print(niemieckie_auta)"
   ]
  },
  {
   "cell_type": "code",
   "execution_count": 16,
   "id": "e7d67609",
   "metadata": {},
   "outputs": [
    {
     "name": "stdout",
     "output_type": "stream",
     "text": [
      "['bmw', 'audi', 'mercedes', 'porshe']\n",
      "['bmw', 'mercedes', 'porshe']\n"
     ]
    }
   ],
   "source": [
    "niemieckie_auta = ['bmw', 'audi', 'mercedes', 'porshe']\n",
    "print(niemieckie_auta)\n",
    "del niemieckie_auta[1] #trwale usuwamy audi czyli drugi element listy\n",
    "print(niemieckie_auta)"
   ]
  },
  {
   "cell_type": "code",
   "execution_count": 22,
   "id": "c4c97a01",
   "metadata": {},
   "outputs": [
    {
     "name": "stdout",
     "output_type": "stream",
     "text": [
      "Usuneliśmy porshe\n"
     ]
    }
   ],
   "source": [
    "niemieckie_auta = ['bmw', 'audi', 'mercedes', 'porshe']\n",
    "usuniety_element = niemieckie_auta.pop() #trwale usuwamy ostatni element listy i przechowujemy go w zmiennej\n",
    "print(\"Usuneliśmy \"+usuniety_element)"
   ]
  },
  {
   "cell_type": "code",
   "execution_count": 23,
   "id": "7c11ecb5",
   "metadata": {},
   "outputs": [
    {
     "name": "stdout",
     "output_type": "stream",
     "text": [
      "['bmw', 'audi', 'mercedes', 'porshe']\n",
      "['bmw', 'audi', 'mercedes']\n"
     ]
    }
   ],
   "source": [
    "niemieckie_auta = ['bmw', 'audi', 'mercedes', 'porshe']\n",
    "print(niemieckie_auta)\n",
    "za_drogie = 'porshe'\n",
    "niemieckie_auta.remove(za_drogie)\n",
    "print(niemieckie_auta)"
   ]
  },
  {
   "cell_type": "code",
   "execution_count": 24,
   "id": "88de8faf",
   "metadata": {},
   "outputs": [
    {
     "name": "stdout",
     "output_type": "stream",
     "text": [
      "['audi', 'bmw', 'mercedes', 'opel', 'porshe']\n"
     ]
    }
   ],
   "source": [
    "niemieckie_auta = ['bmw', 'audi', 'mercedes', 'porshe', 'opel']\n",
    "niemieckie_auta.sort() #sortuje alfabetycznie\n",
    "print(niemieckie_auta) "
   ]
  },
  {
   "cell_type": "code",
   "execution_count": 26,
   "id": "63056651",
   "metadata": {},
   "outputs": [
    {
     "name": "stdout",
     "output_type": "stream",
     "text": [
      "['porshe', 'opel', 'mercedes', 'bmw', 'audi']\n"
     ]
    }
   ],
   "source": [
    "niemieckie_auta = ['bmw', 'audi', 'mercedes', 'porshe', 'opel']\n",
    "niemieckie_auta.sort(reverse = True) #sortuje odwrotnie alfabetycznie\n",
    "print(niemieckie_auta) "
   ]
  },
  {
   "cell_type": "code",
   "execution_count": 27,
   "id": "10b7a3fd",
   "metadata": {},
   "outputs": [
    {
     "name": "stdout",
     "output_type": "stream",
     "text": [
      "['audi', 'bmw', 'mercedes', 'opel', 'porshe']\n"
     ]
    }
   ],
   "source": [
    "niemieckie_auta = ['bmw', 'audi', 'mercedes', 'porshe', 'opel']\n",
    "print(sorted(niemieckie_auta)) #tymczasowe sortowanie"
   ]
  },
  {
   "cell_type": "code",
   "execution_count": 29,
   "id": "a0806d8c",
   "metadata": {},
   "outputs": [
    {
     "name": "stdout",
     "output_type": "stream",
     "text": [
      "['opel', 'porshe', 'mercedes', 'audi', 'bmw']\n"
     ]
    }
   ],
   "source": [
    "niemieckie_auta = ['bmw', 'audi', 'mercedes', 'porshe', 'opel']\n",
    "niemieckie_auta.reverse() #odwracamy piertwoną listę\n",
    "print(niemieckie_auta)"
   ]
  },
  {
   "cell_type": "code",
   "execution_count": 31,
   "id": "b333009f",
   "metadata": {},
   "outputs": [
    {
     "name": "stdout",
     "output_type": "stream",
     "text": [
      "Na liście mamy 5 marek niemieckich aut\n"
     ]
    }
   ],
   "source": [
    "print(f\"Na liście mamy {len(niemieckie_auta)} marek niemieckich aut\")"
   ]
  },
  {
   "cell_type": "markdown",
   "id": "be9edcb7",
   "metadata": {},
   "source": [
    "### Praca z listą"
   ]
  },
  {
   "cell_type": "markdown",
   "id": "f02a7a65",
   "metadata": {},
   "source": [
    "pętla for z listą"
   ]
  },
  {
   "cell_type": "code",
   "execution_count": 32,
   "id": "68db9b3e",
   "metadata": {},
   "outputs": [],
   "source": [
    "japonskie_auta = ['mazda', 'lexus', 'toyota', 'nissan', 'honda']"
   ]
  },
  {
   "cell_type": "code",
   "execution_count": 38,
   "id": "4bb1a7aa",
   "metadata": {},
   "outputs": [
    {
     "name": "stdout",
     "output_type": "stream",
     "text": [
      "Mamy następujące najpopularniejsze japońskie auta:\n",
      "\t- Mazda\n",
      "\t- Lexus\n",
      "\t- Toyota\n",
      "\t- Nissan\n",
      "\t- Honda\n"
     ]
    }
   ],
   "source": [
    "#iterujemy po każdym elemencie listy\n",
    "print(\"Mamy następujące najpopularniejsze japońskie auta:\")\n",
    "for marka in japonskie_auta:\n",
    "    print(f\"\\t- {marka.title()}\")"
   ]
  },
  {
   "cell_type": "code",
   "execution_count": 40,
   "id": "c815a969",
   "metadata": {},
   "outputs": [
    {
     "name": "stdout",
     "output_type": "stream",
     "text": [
      "Mamy następujące najpopularniejsze japońskie auta:\n",
      "\t1. Mazda\n",
      "\t2. Lexus\n",
      "\t3. Toyota\n",
      "\t4. Nissan\n",
      "\t5. Honda\n",
      "Znaleziono 5 marek\n"
     ]
    }
   ],
   "source": [
    "print(\"Mamy następujące najpopularniejsze japońskie auta:\")\n",
    "i = 0 #numer iteracji\n",
    "for marka in japonskie_auta:\n",
    "    i += 1\n",
    "    print(f\"\\t{i}. {marka.title()}\")\n",
    "print(f\"Znaleziono {i} marek\")"
   ]
  },
  {
   "cell_type": "markdown",
   "id": "0a36abe5",
   "metadata": {},
   "source": [
    "Należy zwracać uwagę na wcięcia. <br>Wszystkie elementy \"pod pętlą\" powinny mieć jedno wcięcie (1 tab).<br>\n",
    "To co chcemy mieć poza pętlą nie może mieć wcięcia."
   ]
  },
  {
   "cell_type": "markdown",
   "id": "2a960ed8",
   "metadata": {},
   "source": [
    "listy liczbowe"
   ]
  },
  {
   "cell_type": "code",
   "execution_count": 43,
   "id": "d382beff",
   "metadata": {},
   "outputs": [
    {
     "data": {
      "text/plain": [
       "range(1, 6)"
      ]
     },
     "execution_count": 43,
     "metadata": {},
     "output_type": "execute_result"
    }
   ],
   "source": [
    "range(1,6) #zakres liczb całkowitych od 1 do 5"
   ]
  },
  {
   "cell_type": "code",
   "execution_count": 44,
   "id": "c366d227",
   "metadata": {},
   "outputs": [
    {
     "data": {
      "text/plain": [
       "[1, 2, 3, 4, 5]"
      ]
     },
     "execution_count": 44,
     "metadata": {},
     "output_type": "execute_result"
    }
   ],
   "source": [
    "list(range(1,6)) #lista z zakresu, 6 nie znajduje sie wśród elementów"
   ]
  },
  {
   "cell_type": "code",
   "execution_count": 45,
   "id": "d4b66c95",
   "metadata": {},
   "outputs": [
    {
     "name": "stdout",
     "output_type": "stream",
     "text": [
      "1\n",
      "2\n",
      "3\n",
      "4\n",
      "5\n",
      "6\n",
      "7\n",
      "8\n",
      "9\n"
     ]
    }
   ],
   "source": [
    "for i in range(1,10):\n",
    "    print(i)"
   ]
  },
  {
   "cell_type": "code",
   "execution_count": 46,
   "id": "6b848bb1",
   "metadata": {},
   "outputs": [
    {
     "name": "stdout",
     "output_type": "stream",
     "text": [
      "1\n",
      "3\n",
      "5\n",
      "7\n",
      "9\n"
     ]
    }
   ],
   "source": [
    "for i in range(1,10,2): #range(od, do, co jaki krok) \n",
    "    print(i)"
   ]
  },
  {
   "cell_type": "code",
   "execution_count": 8,
   "id": "38e9e0be",
   "metadata": {},
   "outputs": [
    {
     "name": "stdout",
     "output_type": "stream",
     "text": [
      "100 90 80 70 60 50 40 30 20 10 \n",
      "-----------\n",
      "100908070605040302010\n",
      "-----------\n",
      "100\n",
      "90\n",
      "80\n",
      "70\n",
      "60\n",
      "50\n",
      "40\n",
      "30\n",
      "20\n",
      "10\n"
     ]
    }
   ],
   "source": [
    "for i in range(100, 0, -10): \n",
    "     print(i, end=' ')\n",
    "        \n",
    "print('\\n-----------')\n",
    "\n",
    "for i in range(100, 0, -10): \n",
    "     print(i, end='')\n",
    "        \n",
    "print('\\n-----------')\n",
    "\n",
    "for i in range(100, 0, -10): \n",
    "     print(i, end='\\n')"
   ]
  },
  {
   "cell_type": "code",
   "execution_count": 49,
   "id": "73377907",
   "metadata": {},
   "outputs": [
    {
     "name": "stdout",
     "output_type": "stream",
     "text": [
      "1\n",
      "4\n",
      "9\n",
      "16\n",
      "25\n",
      "36\n",
      "49\n",
      "64\n",
      "81\n",
      "100\n",
      "[1, 4, 9, 16, 25, 36, 49, 64, 81, 100]\n"
     ]
    }
   ],
   "source": [
    "#lista kwadratów\n",
    "kwadraty = []\n",
    "for wartosc in range(1,11):\n",
    "    kwadrat = wartosc ** 2\n",
    "    kwadraty.append(kwadrat)\n",
    "    #kwadraty.append(wartosc ** 2)\n",
    "    print(kwadrat)\n",
    "print(kwadraty)"
   ]
  },
  {
   "cell_type": "code",
   "execution_count": 50,
   "id": "023eb6c1",
   "metadata": {},
   "outputs": [
    {
     "name": "stdout",
     "output_type": "stream",
     "text": [
      "Maksimum z elementów listy: 100\n",
      "Minimum z elementów listy: 1\n",
      "Suma z elementów listy: 385\n"
     ]
    }
   ],
   "source": [
    "print(f\"Maksimum z elementów listy: {max(kwadraty)}\") #maksimum elementów listy\n",
    "print(f\"Minimum z elementów listy: {min(kwadraty)}\") #minimum elementów listy\n",
    "print(f\"Suma z elementów listy: {sum(kwadraty)}\") #suma elementów listy"
   ]
  },
  {
   "cell_type": "code",
   "execution_count": 2,
   "id": "03be936b",
   "metadata": {},
   "outputs": [
    {
     "name": "stdout",
     "output_type": "stream",
     "text": [
      "[1, 4, 9, 16, 25, 36, 49, 64, 81, 100]\n"
     ]
    }
   ],
   "source": [
    "#Listy skadane - jedna linia\n",
    "kwadraty = [i**2 for i in range(1,11)]\n",
    "print(kwadraty)"
   ]
  },
  {
   "cell_type": "code",
   "execution_count": 5,
   "id": "40da09cf",
   "metadata": {},
   "outputs": [
    {
     "name": "stdout",
     "output_type": "stream",
     "text": [
      "[4, 16, 36, 64, 100]\n"
     ]
    }
   ],
   "source": [
    "#kwadraty dla liczb parzystych\n",
    "kwadraty = []\n",
    "for liczba in range(1,11):\n",
    "    if liczba % 2 == 0:\n",
    "        kwadraty.append(liczba**2)\n",
    "print(kwadraty) \n",
    "\n",
    "#to samo za pomocą listy składanej\n",
    "kwadraty = [i**2 for i in range(1,11) if i%2==0]\n",
    "print(kwadraty)    "
   ]
  },
  {
   "cell_type": "code",
   "execution_count": 11,
   "id": "48c2bd9c",
   "metadata": {},
   "outputs": [
    {
     "name": "stdout",
     "output_type": "stream",
     "text": [
      "[1, 4, 27, 16, 3125, 36, 823543, 64, 729, 100, 11, 144, 13, 196, 3375, 256, 17, 324, 19, 400, 9261, 484, 23, 576, 9765625, 676, 19683, 784, 29, 900]\n"
     ]
    }
   ],
   "source": [
    "# i <- liczba całkowita\n",
    "#jeżeli i % 2 = 0 -> i^2\n",
    "#jeżeli i % 3 = 0 -> i^3\n",
    "#jeżeli i % 5 = 0 -> i^5\n",
    "#jeżeli i % 7 = 0 -> i^7\n",
    "#w pozostałych przypadkach i^1\n",
    "kwadraty = []\n",
    "for i in range(1,31):\n",
    "    if i%2==0:\n",
    "        kwadraty.append(i**2)\n",
    "    elif i%3==0:\n",
    "        kwadraty.append(i**3)\n",
    "    elif i%5==0:\n",
    "        kwadraty.append(i**5)\n",
    "    elif i%7==0:\n",
    "        kwadraty.append(i**7)\n",
    "    else:\n",
    "        kwadraty.append(i)\n",
    "print(kwadraty)\n",
    "\n",
    "#a teraz to samo za pomocą listy składanej\n",
    "kwadraty_lista_skladana = [i**2 if i%2==0 \n",
    "                           else i**3 if i%3==0 \n",
    "                           else i**5 if i%5==0 \n",
    "                           else i**7 if i%7==0 \n",
    "                           else i \n",
    "                           for i in range(1,31)]"
   ]
  },
  {
   "cell_type": "code",
   "execution_count": 12,
   "id": "c8844f68",
   "metadata": {},
   "outputs": [
    {
     "data": {
      "text/plain": [
       "True"
      ]
     },
     "execution_count": 12,
     "metadata": {},
     "output_type": "execute_result"
    }
   ],
   "source": [
    "# czy listy dały te same wyniki\n",
    "kwadraty == kwadraty_lista_skladana"
   ]
  },
  {
   "cell_type": "code",
   "execution_count": 4,
   "id": "93fe9f60",
   "metadata": {},
   "outputs": [
    {
     "name": "stdout",
     "output_type": "stream",
     "text": [
      "['apple', 'dell', 'lenovo', 'hp']\n",
      "['apple', 'dell', 'lenovo', 'hp', 'asus']\n"
     ]
    }
   ],
   "source": [
    "#kopiowanie listy - jest konieczne aby nie nadpisywać pierwotnej listy\n",
    "#uwaga - kopiowanie dotyczy tylko listy, nie zmiennych przechowujcych jedynie jedną wartość\n",
    "\n",
    "#rozpatrzmy kopiowanie listy z pominięciem indeksu\n",
    "producenci_najpopularniejszych_laptopow = ['apple', 'dell', 'lenovo', 'hp']\n",
    "producenci_laptopow = producenci_najpopularniejszych_laptopow\n",
    "print(producenci_laptopow)\n",
    "producenci_laptopow.append('asus')\n",
    "print(producenci_najpopularniejszych_laptopow) #dodanie elementu do listy pierwotnej spowodowało dodanie tego samego elementu do kopii"
   ]
  },
  {
   "cell_type": "code",
   "execution_count": 1,
   "id": "c54b4341",
   "metadata": {},
   "outputs": [
    {
     "name": "stdout",
     "output_type": "stream",
     "text": [
      "1\n"
     ]
    }
   ],
   "source": [
    "a = 1\n",
    "b = a\n",
    "a = 2\n",
    "print(b) #b nadal pozostaje 1"
   ]
  },
  {
   "cell_type": "code",
   "execution_count": 2,
   "id": "ca6ec2e9",
   "metadata": {},
   "outputs": [
    {
     "name": "stdout",
     "output_type": "stream",
     "text": [
      "['apple', 'dell', 'lenovo', 'hp']\n",
      "['apple', 'dell', 'lenovo', 'hp']\n"
     ]
    }
   ],
   "source": [
    "#teraz skopiujmy listy ze wzkazaniem indeksów\n",
    "producenci_najpopularniejszych_laptopow = ['apple', 'dell', 'lenovo', 'hp']\n",
    "producenci_laptopow = producenci_najpopularniejszych_laptopow[:]\n",
    "print(producenci_laptopow)\n",
    "producenci_najpopularniejszych_laptopow.append('asus')\n",
    "print(producenci_laptopow) #dodanie elementu do listy pierwotnej nie spowodowało dodani tego samego elementu do kopii\n"
   ]
  },
  {
   "cell_type": "markdown",
   "id": "b7472180",
   "metadata": {},
   "source": [
    "### Krotki (tuple)"
   ]
  },
  {
   "cell_type": "code",
   "execution_count": 24,
   "id": "6ea47341",
   "metadata": {},
   "outputs": [
    {
     "name": "stdout",
     "output_type": "stream",
     "text": [
      "3\n"
     ]
    },
    {
     "ename": "TypeError",
     "evalue": "'tuple' object does not support item assignment",
     "output_type": "error",
     "traceback": [
      "\u001b[1;31m---------------------------------------------------------------------------\u001b[0m",
      "\u001b[1;31mTypeError\u001b[0m                                 Traceback (most recent call last)",
      "\u001b[1;32mC:\\Users\\BPOL_1~1\\AppData\\Local\\Temp/ipykernel_16708/1518552810.py\u001b[0m in \u001b[0;36m<module>\u001b[1;34m\u001b[0m\n\u001b[0;32m      2\u001b[0m \u001b[0mwymiary\u001b[0m \u001b[1;33m=\u001b[0m \u001b[1;33m(\u001b[0m\u001b[1;36m2\u001b[0m\u001b[1;33m,\u001b[0m\u001b[1;36m3\u001b[0m\u001b[1;33m)\u001b[0m\u001b[1;33m\u001b[0m\u001b[1;33m\u001b[0m\u001b[0m\n\u001b[0;32m      3\u001b[0m \u001b[0mprint\u001b[0m\u001b[1;33m(\u001b[0m\u001b[0mwymiary\u001b[0m\u001b[1;33m[\u001b[0m\u001b[1;36m1\u001b[0m\u001b[1;33m]\u001b[0m\u001b[1;33m)\u001b[0m\u001b[1;33m\u001b[0m\u001b[1;33m\u001b[0m\u001b[0m\n\u001b[1;32m----> 4\u001b[1;33m \u001b[0mwymiary\u001b[0m\u001b[1;33m[\u001b[0m\u001b[1;36m0\u001b[0m\u001b[1;33m]\u001b[0m \u001b[1;33m=\u001b[0m \u001b[1;36m1\u001b[0m\u001b[1;33m\u001b[0m\u001b[1;33m\u001b[0m\u001b[0m\n\u001b[0m",
      "\u001b[1;31mTypeError\u001b[0m: 'tuple' object does not support item assignment"
     ]
    }
   ],
   "source": [
    "#jest to niemodyfikowalna lista\n",
    "wymiary = (2,3)\n",
    "print(wymiary[1])\n",
    "wymiary[0] = 1"
   ]
  },
  {
   "cell_type": "code",
   "execution_count": 26,
   "id": "f9013fdb",
   "metadata": {},
   "outputs": [
    {
     "name": "stdout",
     "output_type": "stream",
     "text": [
      "******************************\n",
      "******************************\n",
      "******************************\n",
      "******************************\n",
      "******************************\n"
     ]
    }
   ],
   "source": [
    "wymiary = (5,30) #(wiersze, kolumny)\n",
    "type(wymiary)\n",
    "for i in range(1,wymiary[0]+1):\n",
    "    print('*'*wymiary[1])"
   ]
  },
  {
   "cell_type": "code",
   "execution_count": 30,
   "id": "f512b072",
   "metadata": {},
   "outputs": [
    {
     "name": "stdout",
     "output_type": "stream",
     "text": [
      "(30,)\n",
      "30\n"
     ]
    }
   ],
   "source": [
    "wysokosc = (30,) #krotka z jednym elementem\n",
    "print(wysokosc)\n",
    "print(wysokosc[0])"
   ]
  },
  {
   "cell_type": "code",
   "execution_count": 33,
   "id": "3a72a483",
   "metadata": {},
   "outputs": [
    {
     "name": "stdout",
     "output_type": "stream",
     "text": [
      "(11, 22, 33)\n"
     ]
    }
   ],
   "source": [
    "#całe krotki można nadpisać\n",
    "krotka = (1,2,3)\n",
    "#krotka[1] = 4 #błąd\n",
    "krotka = (11, 22, 33)\n",
    "print(krotka)"
   ]
  },
  {
   "cell_type": "markdown",
   "id": "faef0c21",
   "metadata": {},
   "source": [
    "### Słowniki"
   ]
  },
  {
   "cell_type": "code",
   "execution_count": 36,
   "id": "cefd246c",
   "metadata": {},
   "outputs": [],
   "source": [
    "#Słowniki to pary klucz:wartość\n",
    "student_0 = {'imię':'Anna', 'nazwisko':'Nowak', 'numer indeksu':76543}"
   ]
  },
  {
   "cell_type": "code",
   "execution_count": 37,
   "id": "1336f972",
   "metadata": {},
   "outputs": [
    {
     "data": {
      "text/plain": [
       "76543"
      ]
     },
     "execution_count": 37,
     "metadata": {},
     "output_type": "execute_result"
    }
   ],
   "source": [
    "student_0['numer indeksu'] #wybieramy wartość słownika o kluczu 'numer indeksu'"
   ]
  },
  {
   "cell_type": "code",
   "execution_count": 38,
   "id": "31f06b27",
   "metadata": {},
   "outputs": [
    {
     "name": "stdout",
     "output_type": "stream",
     "text": [
      "Student Anna Nowak ma numer indeksu 76543\n"
     ]
    }
   ],
   "source": [
    "print(f\"Student {student_0['imię']} {student_0['nazwisko']} ma numer indeksu {student_0['numer indeksu']}\")"
   ]
  },
  {
   "cell_type": "code",
   "execution_count": 40,
   "id": "d0d41296",
   "metadata": {},
   "outputs": [
    {
     "name": "stdout",
     "output_type": "stream",
     "text": [
      "{'imię': 'Anna', 'nazwisko': 'Nowak', 'numer indeksu': 76543, 'rodzaj studiów': 'stacjonarne'}\n"
     ]
    }
   ],
   "source": [
    "#dodajemy nową parę klucz-wartość\n",
    "student_0['rodzaj studiów'] = 'stacjonarne'\n",
    "print(student_0)"
   ]
  },
  {
   "cell_type": "code",
   "execution_count": 41,
   "id": "f240fc0f",
   "metadata": {},
   "outputs": [],
   "source": [
    "#przenosimy studenta na studia niestacjonarne jeżeli nich nie jest\n",
    "if student_0['rodzaj studiów'] != 'niestacjonarne' and student_0['numer indeksu'] == '76543':\n",
    "    student_0['rodzaj studiów'] = 'niestacjonarne'"
   ]
  },
  {
   "cell_type": "code",
   "execution_count": 42,
   "id": "c92e9b3c",
   "metadata": {},
   "outputs": [
    {
     "name": "stdout",
     "output_type": "stream",
     "text": [
      "{'imię': 'Anna', 'nazwisko': 'Nowak', 'numer indeksu': 76543}\n"
     ]
    }
   ],
   "source": [
    "#usuwamy parę klucz-wartość\n",
    "del student_0['rodzaj studiów']\n",
    "print(student_0)"
   ]
  },
  {
   "cell_type": "code",
   "execution_count": 44,
   "id": "af88795e",
   "metadata": {},
   "outputs": [],
   "source": [
    "#słownik podobych obiektów\n",
    "auta_marki = {\n",
    "    'Audi':'Niemcy',\n",
    "    'Citroen':'Francja',\n",
    "    'Fiat':'Włochy',\n",
    "    'Seat':'Hiszpania',\n",
    "    'Ford':'USA'}"
   ]
  },
  {
   "cell_type": "code",
   "execution_count": 45,
   "id": "67695279",
   "metadata": {},
   "outputs": [
    {
     "data": {
      "text/plain": [
       "'Niemcy'"
      ]
     },
     "execution_count": 45,
     "metadata": {},
     "output_type": "execute_result"
    }
   ],
   "source": [
    "#teraz aby sprawdzić, z jakiego kraju pochodzi marka auta wystarczy sprawdzić wartość w słowniku\n",
    "auta_marki['Audi']"
   ]
  },
  {
   "cell_type": "code",
   "execution_count": 52,
   "id": "aa167107",
   "metadata": {},
   "outputs": [
    {
     "data": {
      "text/plain": [
       "'Hiszpania'"
      ]
     },
     "execution_count": 52,
     "metadata": {},
     "output_type": "execute_result"
    }
   ],
   "source": [
    "#metoda get(przeszukiwany klucz, wartość jeżeli klucz nie istnieje)\n",
    "auta_marki.get('Seat')"
   ]
  },
  {
   "cell_type": "code",
   "execution_count": 51,
   "id": "d1e03ac6",
   "metadata": {},
   "outputs": [],
   "source": [
    "auta_marki.get('Volvo')#nic nie zwraca - nie ma takiej wartości"
   ]
  },
  {
   "cell_type": "code",
   "execution_count": 53,
   "id": "bc3104da",
   "metadata": {},
   "outputs": [
    {
     "data": {
      "text/plain": [
       "'inny kraj'"
      ]
     },
     "execution_count": 53,
     "metadata": {},
     "output_type": "execute_result"
    }
   ],
   "source": [
    "auta_marki.get('Volvo', 'inny kraj')"
   ]
  },
  {
   "cell_type": "code",
   "execution_count": 56,
   "id": "7b298ab1",
   "metadata": {},
   "outputs": [
    {
     "name": "stdout",
     "output_type": "stream",
     "text": [
      "Audi pochodzi z kraju Niemcy\n",
      "Citroen pochodzi z kraju Francja\n",
      "Fiat pochodzi z kraju Włochy\n",
      "Seat pochodzi z kraju Hiszpania\n",
      "Ford pochodzi z kraju USA\n"
     ]
    }
   ],
   "source": [
    "#iteracja przez pary klucz-wartość\n",
    "for klucz, wartość in auta_marki.items():\n",
    "    print(f\"{klucz} pochodzi z kraju {wartość}\")"
   ]
  },
  {
   "cell_type": "code",
   "execution_count": 61,
   "id": "d833a61c",
   "metadata": {},
   "outputs": [
    {
     "name": "stdout",
     "output_type": "stream",
     "text": [
      "Marki aut\n",
      "\t-Audi\n",
      "\t-Citroen\n",
      "\t-Fiat\n",
      "\t-Seat\n",
      "\t-Ford\n"
     ]
    }
   ],
   "source": [
    "#iteracja przez klucze\n",
    "print(\"Marki aut\")\n",
    "for marka in auta_marki.keys():\n",
    "    print(f\"\\t-{marka}\")"
   ]
  },
  {
   "cell_type": "code",
   "execution_count": 62,
   "id": "075f6fa1",
   "metadata": {},
   "outputs": [
    {
     "name": "stdout",
     "output_type": "stream",
     "text": [
      "Marki aut\n",
      "\t-Audi\n",
      "\t-Citroen\n",
      "\t-Fiat\n",
      "\t-Ford\n",
      "\t-Seat\n"
     ]
    }
   ],
   "source": [
    "#iteracja przez posortowane klucze\n",
    "print(\"Marki aut\")\n",
    "for marka in sorted(auta_marki.keys()):\n",
    "    print(f\"\\t-{marka}\")"
   ]
  },
  {
   "cell_type": "code",
   "execution_count": 64,
   "id": "9b5bb98b",
   "metadata": {},
   "outputs": [
    {
     "name": "stdout",
     "output_type": "stream",
     "text": [
      "Kraje:\n",
      "\t-Niemcy\n",
      "\t-Francja\n",
      "\t-Włochy\n",
      "\t-Hiszpania\n",
      "\t-USA\n"
     ]
    }
   ],
   "source": [
    "#iteracja przez wartości\n",
    "print(\"Kraje:\")\n",
    "for kraj in auta_marki.values():\n",
    "    print(f\"\\t-{kraj}\")"
   ]
  },
  {
   "cell_type": "code",
   "execution_count": 66,
   "id": "27aa1e60",
   "metadata": {},
   "outputs": [
    {
     "name": "stdout",
     "output_type": "stream",
     "text": [
      "Kraje:\n",
      "\t-Francja\n",
      "\t-Hiszpania\n",
      "\t-Niemcy\n",
      "\t-USA\n",
      "\t-Włochy\n"
     ]
    }
   ],
   "source": [
    "#iteracja przez posortowane wartości\n",
    "print(\"Kraje:\")\n",
    "for kraj in sorted(auta_marki.values()):\n",
    "    print(f\"\\t-{kraj}\")"
   ]
  },
  {
   "cell_type": "code",
   "execution_count": 2,
   "id": "30a1c5ad",
   "metadata": {},
   "outputs": [],
   "source": [
    "#słowniki zagniedzone\n",
    "#lista w słowniku\n",
    "ulubione_przedmioty = {\n",
    "    \"Jan\":['Makroekonomia', 'Mikroekonomia', 'Ekonometria panelowa'],\n",
    "    \"Agnieszka\":[\"Bazy danych\", \"Podstawy aproksymacji\"],\n",
    "    \"Franciszek\":[\"Analiza matematyczna\", \"Algebra\"]\n",
    "}"
   ]
  },
  {
   "cell_type": "code",
   "execution_count": 6,
   "id": "60c50340",
   "metadata": {},
   "outputs": [
    {
     "name": "stdout",
     "output_type": "stream",
     "text": [
      "\n",
      "Jan lubi następujące przedmioty:\n",
      "\t-Makroekonomia\n",
      "\t-Mikroekonomia\n",
      "\t-Ekonometria panelowa\n",
      "\n",
      "Agnieszka lubi następujące przedmioty:\n",
      "\t-Bazy danych\n",
      "\t-Podstawy aproksymacji\n",
      "\n",
      "Franciszek lubi następujące przedmioty:\n",
      "\t-Analiza matematyczna\n",
      "\t-Algebra\n"
     ]
    }
   ],
   "source": [
    "for imie, lista_przedmiotów in ulubione_przedmioty.items():\n",
    "    print(f\"\\n{imie} lubi następujące przedmioty:\")\n",
    "    for przedmiot in lista_przedmiotów:\n",
    "        print(f\"\\t-{przedmiot}\")"
   ]
  },
  {
   "cell_type": "code",
   "execution_count": 7,
   "id": "f5ca7c9c",
   "metadata": {},
   "outputs": [],
   "source": [
    "#słownik w słowniku\n",
    "studenci = {\n",
    "    76543:{'imię':'Szymon', 'nazwisko': 'Dziubak', 'kierunek':'Analiza Danych - Big Data', 'tryb studiów':'stacjonarne'},\n",
    "    76542:{'imię':'Zofia', 'nazwisko': 'Nowak', 'kierunek':'Finanse i Rachunkowość', 'tryb studiów':'niestacjonarne'},\n",
    "    76541:{'imię':'Zbigniew', 'nazwisko': 'Kowalski', 'kierunek':'Zarządzanie', 'tryb studiów':'stacjonarne'}    \n",
    "}"
   ]
  },
  {
   "cell_type": "code",
   "execution_count": 12,
   "id": "b1fbe811",
   "metadata": {},
   "outputs": [
    {
     "name": "stdout",
     "output_type": "stream",
     "text": [
      "Student o numerze indeksu 76543 to Szymon Dziubak na kierunku Analiza Danych - Big Data o trybie studiów stacjonarne\n",
      "Student o numerze indeksu 76542 to Zofia Nowak na kierunku Finanse i Rachunkowość o trybie studiów niestacjonarne\n",
      "Student o numerze indeksu 76541 to Zbigniew Kowalski na kierunku Zarządzanie o trybie studiów stacjonarne\n"
     ]
    }
   ],
   "source": [
    "for numer_indeksu, dane_studenta in studenci.items():\n",
    "    imie = dane_studenta['imię']\n",
    "    nazwisko = dane_studenta['nazwisko']\n",
    "    kierunek = dane_studenta['kierunek']\n",
    "    tryb_studiow = dane_studenta['tryb studiów']\n",
    "    tekst = f\"Student o numerze indeksu {numer_indeksu} to {imie} {nazwisko} na kierunku {kierunek} o trybie studiów {tryb_studiow}\"\n",
    "    print(tekst)\n"
   ]
  },
  {
   "cell_type": "code",
   "execution_count": 5,
   "id": "7221093b",
   "metadata": {},
   "outputs": [
    {
     "name": "stdout",
     "output_type": "stream",
     "text": [
      "{'Szymon': 'stacjonarne', 'Zbigniew': 'niestacjonarne', 'Zofia': 'niestacjonarne'}\n"
     ]
    },
    {
     "data": {
      "text/plain": [
       "'niestacjonarne'"
      ]
     },
     "execution_count": 5,
     "metadata": {},
     "output_type": "execute_result"
    }
   ],
   "source": [
    "#Rozpatrzmy listę krotek i konwertujmy ją na słownik\n",
    "lista = [('Szymon', 'stacjonarne'),('Zbigniew', 'stacjonarne'), ('Zofia', 'niestacjonarne'),('Zbigniew', 'niestacjonarne') ]\n",
    "słownik = dict(lista)\n",
    "print(słownik)\n",
    "słownik['Zbigniew'] #wiele elementów z kluczem 'Zbigniew' przyjęło wartość ostatniej krotki\n"
   ]
  },
  {
   "cell_type": "markdown",
   "id": "fe48c39c",
   "metadata": {},
   "source": [
    "### Zbiory"
   ]
  },
  {
   "cell_type": "markdown",
   "id": "c19b54fe",
   "metadata": {},
   "source": [
    "Zbiór ma dwie ważne cechy: obiekty w zbiorze nie mogą się powtarzać oraz dostęp do konkretnych elementów zbioru (znalezienie elementu w zbiorze lub stwierdzenie, że takowego nie ma) jest bardzo szybki."
   ]
  },
  {
   "cell_type": "code",
   "execution_count": 1,
   "id": "6dee4c74",
   "metadata": {},
   "outputs": [
    {
     "name": "stdout",
     "output_type": "stream",
     "text": [
      "set()\n",
      "{1, 3, 5}\n"
     ]
    }
   ],
   "source": [
    "zbiorPusty = set()\n",
    "print(zbiorPusty)\n",
    "\n",
    "zbior = {1, 3, 5}\n",
    "print(zbior)"
   ]
  },
  {
   "cell_type": "code",
   "execution_count": 6,
   "id": "c8a8cf15",
   "metadata": {},
   "outputs": [
    {
     "name": "stdout",
     "output_type": "stream",
     "text": [
      "{1, 2, 3, 5, 7, 8}\n"
     ]
    }
   ],
   "source": [
    "zbior_set = set([7, 8, 1,2,3, 1, 3,5])\n",
    "print(zbior_set) #unikalne i uporządkowane rekordy"
   ]
  },
  {
   "cell_type": "code",
   "execution_count": 9,
   "id": "1a63db98",
   "metadata": {},
   "outputs": [
    {
     "data": {
      "text/plain": [
       "False"
      ]
     },
     "execution_count": 9,
     "metadata": {},
     "output_type": "execute_result"
    }
   ],
   "source": [
    "4 in zbior_set #sprawdzamy czy 4 jest w zbiorze\n",
    "'1' in zbior_set #sprawdzamy czy 1 jako string jest w zbiorze"
   ]
  },
  {
   "cell_type": "code",
   "execution_count": null,
   "id": "7e8d59c7",
   "metadata": {},
   "outputs": [],
   "source": [
    "zbiorPusty.add(2) #dodajemy element do zbioru\n",
    "print(zbiorPusty)"
   ]
  },
  {
   "cell_type": "code",
   "execution_count": 10,
   "id": "2b00de6d",
   "metadata": {},
   "outputs": [
    {
     "name": "stdout",
     "output_type": "stream",
     "text": [
      "set()\n"
     ]
    }
   ],
   "source": [
    "zbiorPusty.discard(2) #usuwamy element ze zbioru\n",
    "print(zbiorPusty)"
   ]
  },
  {
   "cell_type": "code",
   "execution_count": 11,
   "id": "ced7c824",
   "metadata": {},
   "outputs": [
    {
     "name": "stdout",
     "output_type": "stream",
     "text": [
      "{1, 5, 8, 9}\n",
      "{8}\n",
      "{1, 5}\n"
     ]
    }
   ],
   "source": [
    "#Operacje na zbiorach\n",
    "print({1,5,8} | {1,5,9}) # suma\n",
    "## {1, 5, 8, 9}\n",
    "print({1, 5, 8} - {1, 5, 9}) # różnica\n",
    "## {8}\n",
    "print({1, 5, 8} & {1, 5, 9}) # przecięcie\n",
    "## {1, 5}"
   ]
  },
  {
   "cell_type": "markdown",
   "id": "32bcb9cb",
   "metadata": {},
   "source": [
    "### zip i map"
   ]
  },
  {
   "cell_type": "code",
   "execution_count": 3,
   "id": "890881d9",
   "metadata": {},
   "outputs": [
    {
     "name": "stdout",
     "output_type": "stream",
     "text": [
      "1/4\n",
      "0.25\n",
      "2/5\n",
      "0.4\n",
      "3/6\n",
      "0.5\n"
     ]
    }
   ],
   "source": [
    "#polecenie zip łączy 2 listy\n",
    "zipped = zip([1,2,3], [4,5,6])\n",
    "for i, j in zipped:\n",
    "    print(f\"{i}/{j}\")\n",
    "    wynik = i/j\n",
    "    print(wynik)"
   ]
  },
  {
   "cell_type": "code",
   "execution_count": 4,
   "id": "0a48614c",
   "metadata": {},
   "outputs": [
    {
     "name": "stdout",
     "output_type": "stream",
     "text": [
      "(1, 4)\n",
      "(2, 5)\n",
      "(3, 6)\n"
     ]
    }
   ],
   "source": [
    "for i in zip([1,2,3], [4,5,6]): #przy iterazji zip zwraca krotki z odpowiednimi elementami\n",
    "    print(i)"
   ]
  },
  {
   "cell_type": "code",
   "execution_count": 5,
   "id": "329b8135",
   "metadata": {},
   "outputs": [
    {
     "data": {
      "text/plain": [
       "[0.25, 0.4, 0.5]"
      ]
     },
     "execution_count": 5,
     "metadata": {},
     "output_type": "execute_result"
    }
   ],
   "source": [
    "#drugi sposób z poleceniem map\n",
    "#map(funkcja, wartości1, wartości2,...) wykonuje dane operacje na wartościach\n",
    "\n",
    "from operator import truediv #import funkcji dzielącej\n",
    "list(map(truediv, [1,2,3], [4,5,6]))"
   ]
  },
  {
   "cell_type": "code",
   "execution_count": 6,
   "id": "39d4b6aa",
   "metadata": {},
   "outputs": [
    {
     "data": {
      "text/plain": [
       "[1, 4, 9]"
      ]
     },
     "execution_count": 6,
     "metadata": {},
     "output_type": "execute_result"
    }
   ],
   "source": [
    "#funkcje możemy również zaimplementować sobie sami\n",
    "def square(numer):\n",
    "    return numer * numer\n",
    "\n",
    "list(map(square, [1,2,3]))"
   ]
  },
  {
   "cell_type": "code",
   "execution_count": 7,
   "id": "01decd72",
   "metadata": {},
   "outputs": [
    {
     "data": {
      "text/plain": [
       "[0.25, 0.4, 0.5]"
      ]
     },
     "execution_count": 7,
     "metadata": {},
     "output_type": "execute_result"
    }
   ],
   "source": [
    "#teraz sami zaimplementujmy dzielenie dla funkcji map\n",
    "def dzielenie(numer1, numer2):\n",
    "    return numer1/numer2\n",
    "    \n",
    "list(map(dzielenie, [1,2,3], [4,5,6]))"
   ]
  },
  {
   "cell_type": "markdown",
   "id": "57a7d2fd",
   "metadata": {},
   "source": [
    "### Tablice"
   ]
  },
  {
   "cell_type": "markdown",
   "id": "887ea706",
   "metadata": {},
   "source": [
    "Tablice w Pythonie nie są zbyt często używane. Ich istnienie nawiązuje do tablic z jęcyka C.<br>\n",
    "Wymagają deklaracji typu danych, które będą przechowywać.<br>\n",
    "Możemy ich użyć zamiast list jeżeli dbamy o mniejsze zużycie pamięci.<br>\n",
    "Listy w Pythonie mają pewne cechy (np. możliwość przechowywania wielu typów danych) które zwiększają zużycie pamięci."
   ]
  },
  {
   "cell_type": "code",
   "execution_count": 9,
   "id": "eb61e847",
   "metadata": {},
   "outputs": [],
   "source": [
    "from array import array"
   ]
  },
  {
   "cell_type": "code",
   "execution_count": 10,
   "id": "becfde77",
   "metadata": {},
   "outputs": [],
   "source": [
    "arr = array('i', [2356, 1243, 88]) #i to definicja typu danych. Może być jeszcze f jako float lub u jako unicode(string)"
   ]
  },
  {
   "cell_type": "code",
   "execution_count": 11,
   "id": "bce61359",
   "metadata": {},
   "outputs": [
    {
     "data": {
      "text/plain": [
       "array('i', [2356, 1243, 88])"
      ]
     },
     "execution_count": 11,
     "metadata": {},
     "output_type": "execute_result"
    }
   ],
   "source": [
    "arr"
   ]
  },
  {
   "cell_type": "code",
   "execution_count": 12,
   "id": "e0e216c1",
   "metadata": {},
   "outputs": [
    {
     "name": "stdout",
     "output_type": "stream",
     "text": [
      "2356\n",
      "1243\n",
      "88\n"
     ]
    }
   ],
   "source": [
    "for x in arr:\n",
    "    print(x)"
   ]
  },
  {
   "cell_type": "code",
   "execution_count": 13,
   "id": "648dbd31",
   "metadata": {},
   "outputs": [
    {
     "name": "stdout",
     "output_type": "stream",
     "text": [
      "array('i', [2356, 1243, 88, 48])\n"
     ]
    }
   ],
   "source": [
    "arr.append(48) #dołączamy jeden rekord\n",
    "print(arr)"
   ]
  },
  {
   "cell_type": "code",
   "execution_count": 14,
   "id": "f00256e1",
   "metadata": {},
   "outputs": [
    {
     "name": "stdout",
     "output_type": "stream",
     "text": [
      "array('i', [2356, 1243, 88, 48, 112, 332, 277])\n"
     ]
    }
   ],
   "source": [
    "arr.extend([112, 332, 277]) #rozszerzamy tablice o liste\n",
    "print(arr)"
   ]
  },
  {
   "cell_type": "code",
   "execution_count": 15,
   "id": "0c247681",
   "metadata": {},
   "outputs": [
    {
     "name": "stdout",
     "output_type": "stream",
     "text": [
      "array('i', [2356, 88, 48, 112, 332, 277])\n"
     ]
    }
   ],
   "source": [
    "arr.remove(1243)#usuwamy rekord z tablicy\n",
    "print(arr)"
   ]
  },
  {
   "cell_type": "code",
   "execution_count": 16,
   "id": "c6a0ccb5",
   "metadata": {},
   "outputs": [
    {
     "data": {
      "text/plain": [
       "0"
      ]
     },
     "execution_count": 16,
     "metadata": {},
     "output_type": "execute_result"
    }
   ],
   "source": [
    "arr.index(2356) #wyświetlamy indeks wartości"
   ]
  }
 ],
 "metadata": {
  "kernelspec": {
   "display_name": "Python 3 (ipykernel)",
   "language": "python",
   "name": "python3"
  },
  "language_info": {
   "codemirror_mode": {
    "name": "ipython",
    "version": 3
   },
   "file_extension": ".py",
   "mimetype": "text/x-python",
   "name": "python",
   "nbconvert_exporter": "python",
   "pygments_lexer": "ipython3",
   "version": "3.8.10"
  }
 },
 "nbformat": 4,
 "nbformat_minor": 5
}
