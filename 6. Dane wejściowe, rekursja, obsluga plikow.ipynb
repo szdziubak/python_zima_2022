{
 "cells": [
  {
   "cell_type": "markdown",
   "id": "c7a0104a",
   "metadata": {},
   "source": [
    "# 6. Dane wejściowe, rekursja, obsługa plików\n",
    "\n",
    "Szymon Dziubak"
   ]
  },
  {
   "cell_type": "markdown",
   "id": "9bb7e09b",
   "metadata": {},
   "source": [
    "### Dane wejściowe"
   ]
  },
  {
   "cell_type": "markdown",
   "id": "eb91caae",
   "metadata": {},
   "source": [
    "Konstrukcja<br>\n",
    "`\n",
    "wiadomosc = input(\"czego dotyczy input\")`"
   ]
  },
  {
   "cell_type": "code",
   "execution_count": 2,
   "id": "a39ac87c",
   "metadata": {},
   "outputs": [
    {
     "name": "stdout",
     "output_type": "stream",
     "text": [
      "Wpisz nazwe użytkownika szymon.dziubak\n",
      "Witaj szymon.dziubak\n"
     ]
    }
   ],
   "source": [
    "nazwa_uzytkownika = input(\"Wpisz nazwe użytkownika \")\n",
    "print(f\"Witaj {nazwa_uzytkownika}\")"
   ]
  },
  {
   "cell_type": "code",
   "execution_count": 9,
   "id": "6ce27652",
   "metadata": {},
   "outputs": [
    {
     "name": "stdout",
     "output_type": "stream",
     "text": [
      "Wpisz ile masz lat: 17\n",
      "Do 18-tki brakuje Ci 1 lat\n"
     ]
    }
   ],
   "source": [
    "lata = input(\"Wpisz ile masz lat: \")\n",
    "if int(lata) - 18>=0:\n",
    "    print(\"Od Twojej 18-tki minęło \"+ str(int(lata)-18))\n",
    "else:\n",
    "    print(\"Do 18-tki brakuje Ci \"+ str(18-int(lata))+\" lat\")\n",
    "    "
   ]
  },
  {
   "cell_type": "markdown",
   "id": "4602b744",
   "metadata": {},
   "source": [
    "### Rekursja"
   ]
  },
  {
   "cell_type": "markdown",
   "id": "47f1d600",
   "metadata": {},
   "source": [
    "Rekursja to sytuacja kiedy funkcja wywołuje samą siebie.<br>\n",
    "Rekursje można zastąpić pętlami ale pętle można zastąpić rekursją.<br>"
   ]
  },
  {
   "cell_type": "code",
   "execution_count": 10,
   "id": "d5b58d7a",
   "metadata": {},
   "outputs": [],
   "source": [
    "#suma liczb od n do 1: n + (n-1) + (n-2) + ... + 1\n",
    "def suma(n):\n",
    "    wynik = 0\n",
    "    for i in range(n + 1):\n",
    "        wynik += i\n",
    "    return wynik"
   ]
  },
  {
   "cell_type": "code",
   "execution_count": 11,
   "id": "a2eb072d",
   "metadata": {},
   "outputs": [
    {
     "data": {
      "text/plain": [
       "15"
      ]
     },
     "execution_count": 11,
     "metadata": {},
     "output_type": "execute_result"
    }
   ],
   "source": [
    "suma(5) # 5+4+3+2+1 = 15"
   ]
  },
  {
   "cell_type": "code",
   "execution_count": 16,
   "id": "0086684d",
   "metadata": {},
   "outputs": [],
   "source": [
    "#suma za pomocą rekursji\n",
    "def suma_rekurencja(n):\n",
    "    if n == 0: return 0\n",
    "    return n + suma_rekurencja(n - 1)"
   ]
  },
  {
   "cell_type": "code",
   "execution_count": 17,
   "id": "c74da31a",
   "metadata": {},
   "outputs": [
    {
     "data": {
      "text/plain": [
       "15"
      ]
     },
     "execution_count": 17,
     "metadata": {},
     "output_type": "execute_result"
    }
   ],
   "source": [
    "suma_rekurencja(5)"
   ]
  },
  {
   "cell_type": "code",
   "execution_count": null,
   "id": "9e409062",
   "metadata": {},
   "outputs": [],
   "source": [
    "##spróbujmy zaimplementować silnie poprzez pętle"
   ]
  },
  {
   "cell_type": "code",
   "execution_count": 2,
   "id": "281b85ab",
   "metadata": {},
   "outputs": [],
   "source": [
    "def silnia(n):\n",
    "    wynik = 1\n",
    "    for i in range(1,n+1):\n",
    "        wynik *= i\n",
    "    return wynik"
   ]
  },
  {
   "cell_type": "code",
   "execution_count": 25,
   "id": "cfa48a50",
   "metadata": {},
   "outputs": [
    {
     "data": {
      "text/plain": [
       "120"
      ]
     },
     "execution_count": 25,
     "metadata": {},
     "output_type": "execute_result"
    }
   ],
   "source": [
    "silnia(5)"
   ]
  },
  {
   "cell_type": "code",
   "execution_count": null,
   "id": "3ff70ba7",
   "metadata": {},
   "outputs": [],
   "source": [
    "#spróbujmy zaimplementować teraz silnie poprzez rekursje"
   ]
  },
  {
   "cell_type": "code",
   "execution_count": 3,
   "id": "85a54960",
   "metadata": {},
   "outputs": [],
   "source": [
    "def silnia_rekursja(n):\n",
    "    if n > 1:\n",
    "        return n * silnia_rekursja(n-1)\n",
    "    else:\n",
    "        return 1"
   ]
  },
  {
   "cell_type": "code",
   "execution_count": 36,
   "id": "218026f3",
   "metadata": {},
   "outputs": [
    {
     "data": {
      "text/plain": [
       "120"
      ]
     },
     "execution_count": 36,
     "metadata": {},
     "output_type": "execute_result"
    }
   ],
   "source": [
    "silnia_rekursja(5)"
   ]
  },
  {
   "cell_type": "code",
   "execution_count": null,
   "id": "f3f30d9c",
   "metadata": {},
   "outputs": [],
   "source": [
    "#rekursja ogonowa"
   ]
  },
  {
   "cell_type": "code",
   "execution_count": 4,
   "id": "c5336c0a",
   "metadata": {},
   "outputs": [],
   "source": [
    "def silnia_rekursja_ogonowa(n, a = 1):\n",
    "   \n",
    "    if (n == 0):\n",
    "        return a\n",
    "   \n",
    "    return silnia_rekursja_ogonowa(n - 1, n * a) #silnia_rekursja_ogonowa(nowe n, nowe a), zwróci a jeżeli n == 0"
   ]
  },
  {
   "cell_type": "code",
   "execution_count": 41,
   "id": "15eb4ce7",
   "metadata": {},
   "outputs": [
    {
     "data": {
      "text/plain": [
       "120"
      ]
     },
     "execution_count": 41,
     "metadata": {},
     "output_type": "execute_result"
    }
   ],
   "source": [
    "silnia_rekursja_ogonowa(5)"
   ]
  },
  {
   "cell_type": "code",
   "execution_count": 5,
   "id": "3650f482",
   "metadata": {},
   "outputs": [
    {
     "name": "stdout",
     "output_type": "stream",
     "text": [
      "Zwykła petla trwała 0.0060617923736572266\n",
      "Zwykła rekursja trwała 0.004935264587402344\n",
      "Rekursja ogonowa trwała 0.011032819747924805\n"
     ]
    }
   ],
   "source": [
    "# porównajmy czas wykonania pętli, rekursji zwykłej i ogonowej\n",
    "import time\n",
    "n=2000\n",
    "\n",
    "start_petla = time.time()\n",
    "silnia(n)\n",
    "print(f\"Zwykła petla trwała {time.time() - start_petla}\")\n",
    "\n",
    "start_zwykla = time.time()\n",
    "silnia_rekursja(n)\n",
    "print(f\"Zwykła rekursja trwała {time.time() - start_zwykla}\")\n",
    "\n",
    "start_ogonowa = time.time()\n",
    "silnia_rekursja_ogonowa(n)\n",
    "print(f\"Rekursja ogonowa trwała {time.time() - start_ogonowa}\")"
   ]
  },
  {
   "cell_type": "markdown",
   "id": "2356fcb1",
   "metadata": {},
   "source": [
    "### Obsługa plików"
   ]
  },
  {
   "cell_type": "code",
   "execution_count": 4,
   "id": "f9ccd982",
   "metadata": {},
   "outputs": [],
   "source": [
    "#definiujemy ścieżke\n",
    "sciezka = r\"C:\\Users\\BPOL_1637\\Documents\\sgh\\python\"#na windowsie\n",
    "#r\"/Users/szymondziubak/Documents/python\" #na macu / linuxie\n",
    "\n",
    "\n",
    "# tab bedzie wygladala cala sciezka do pliku\n",
    "#sciezka+r\"/pliki/tekst.txt\"\n"
   ]
  },
  {
   "cell_type": "code",
   "execution_count": 2,
   "id": "533847fa",
   "metadata": {},
   "outputs": [
    {
     "name": "stdout",
     "output_type": "stream",
     "text": [
      "3.1415926535 \n",
      "  8979323846 \n",
      "  2643383279\n"
     ]
    }
   ],
   "source": [
    "#odczytujemy plik i wyswietlamy zawartosc\n",
    "with open(sciezka+r\"/6. Pliki/liczba_pi.txt\") as plik:\n",
    "    zawartosc = plik.read()\n",
    "print(zawartosc.strip()) #wyswietlamy zawartosc i usuwamy ostatni pusty wiersz"
   ]
  },
  {
   "cell_type": "code",
   "execution_count": 3,
   "id": "f6bf8ce8",
   "metadata": {},
   "outputs": [
    {
     "name": "stdout",
     "output_type": "stream",
     "text": [
      "3.1415926535\n",
      "8979323846\n",
      "2643383279\n"
     ]
    }
   ],
   "source": [
    "#wyswietlamy plik wiersz po wierszu\n",
    "with open(sciezka+r\"/6. Pliki/liczba_pi.txt\") as plik:\n",
    "    for wiersz in plik:\n",
    "        print(wiersz.strip())"
   ]
  },
  {
   "cell_type": "code",
   "execution_count": 4,
   "id": "cf3886d8",
   "metadata": {},
   "outputs": [
    {
     "name": "stdout",
     "output_type": "stream",
     "text": [
      "['3.1415926535 \\n', '  8979323846 \\n', '  2643383279\\n']\n",
      "3.1415926535 \n",
      "\n",
      "  8979323846 \n",
      "\n",
      "  2643383279\n",
      "\n"
     ]
    }
   ],
   "source": [
    "#na podstawie pliku tworzymy liste (1 element listy = 1 wiersz)\n",
    "#wyswietlamy plik wiersz po wierszu\n",
    "with open(sciezka+r\"/6. Pliki/liczba_pi.txt\") as plik:\n",
    "    linie = plik.readlines()\n",
    "print(linie)\n",
    "\n",
    "for l in linie:\n",
    "    print(l)"
   ]
  },
  {
   "cell_type": "code",
   "execution_count": 5,
   "id": "b39224cc",
   "metadata": {},
   "outputs": [
    {
     "name": "stdout",
     "output_type": "stream",
     "text": [
      "3.141592653589793238462643383279\n"
     ]
    }
   ],
   "source": [
    "#praca z tak utowrzonymi obiektami\n",
    "pusty_ciag = ''\n",
    "for l in linie:\n",
    "    pusty_ciag += l.strip()\n",
    "print(pusty_ciag)"
   ]
  },
  {
   "cell_type": "code",
   "execution_count": 6,
   "id": "f8293211",
   "metadata": {},
   "outputs": [
    {
     "data": {
      "text/plain": [
       "True"
      ]
     },
     "execution_count": 6,
     "metadata": {},
     "output_type": "execute_result"
    }
   ],
   "source": [
    "#sprawdzmy czy nasza data urodzin znajduje sie w liczbie pi\n",
    "#uzyjmy do tego pliku full_pi.txt\n",
    "\n",
    "with open(sciezka+r\"/6. Pliki/full_pi.txt\") as full_pi:\n",
    "    zawartosc_full_pi = full_pi.readlines()\n",
    "#print(zawartosc_full_pi)\n",
    "format_full_pi = ''\n",
    "for l in zawartosc_full_pi:\n",
    "    format_full_pi += l.strip()\n",
    "#print(format_full_pi)\n",
    "\n",
    "'1998' in format_full_pi\n",
    "#'061998' in format_full_pi\n",
    "#'20061998' in format_full_pi"
   ]
  },
  {
   "cell_type": "markdown",
   "id": "5cc81474",
   "metadata": {},
   "source": [
    "Zapisywanie danych w pliku"
   ]
  },
  {
   "cell_type": "code",
   "execution_count": 7,
   "id": "56681274",
   "metadata": {},
   "outputs": [],
   "source": [
    "nazwa_pliku = 'pierwszy_plik_z_programu.txt'\n",
    "\n",
    "with open(sciezka+r\"/6. Pliki/\"+nazwa_pliku, 'w') as plik: #tryb = 'w' oznacza pisanie pliku od nowa\n",
    "    plik.write(\"Oto mój pierwszy plik stworzony z pythona.\\nCzas na kolejny\")"
   ]
  },
  {
   "cell_type": "code",
   "execution_count": 8,
   "id": "63e28bea",
   "metadata": {},
   "outputs": [
    {
     "name": "stdout",
     "output_type": "stream",
     "text": [
      "Oto mój pierwszy plik stworzony z pythona.\n",
      "Czas na kolejny\n"
     ]
    }
   ],
   "source": [
    "#otworzmy plik\n",
    "with open(sciezka+r\"/6. Pliki/\"+nazwa_pliku, 'r') as plik:\n",
    "    zawartosc = plik.read()\n",
    "print(zawartosc)"
   ]
  },
  {
   "cell_type": "markdown",
   "id": "8403d7e6",
   "metadata": {},
   "source": [
    "Dołączanie tekstu do pliku"
   ]
  },
  {
   "cell_type": "code",
   "execution_count": 9,
   "id": "b46cbf39",
   "metadata": {},
   "outputs": [],
   "source": [
    "with open(sciezka+r\"/6. Pliki/\"+nazwa_pliku, 'a') as plik: #tryb = 'a', append, dołączanie do pliku\n",
    "    plik.write(\"\\nTeraz dołączam nową linię\\nI kolejną\\nI kolejną\\n1234556789\")    "
   ]
  },
  {
   "cell_type": "code",
   "execution_count": 10,
   "id": "a40a3ba3",
   "metadata": {},
   "outputs": [
    {
     "name": "stdout",
     "output_type": "stream",
     "text": [
      "Oto mój pierwszy plik stworzony z pythona.\n",
      "Czas na kolejny\n",
      "Teraz dołączam nową linię\n",
      "I kolejną\n",
      "I kolejną\n",
      "1234556789\n"
     ]
    }
   ],
   "source": [
    "#otworzmy plik\n",
    "with open(sciezka+r\"/6. Pliki/\"+nazwa_pliku, 'r') as plik:\n",
    "    zawartosc = plik.read()\n",
    "print(zawartosc)"
   ]
  },
  {
   "cell_type": "code",
   "execution_count": 11,
   "id": "e65cc5cb",
   "metadata": {},
   "outputs": [],
   "source": [
    "plik.close() #po tym jak skończymy pracować z plikiem należy go zamknąć aby zwolnić pamięć"
   ]
  },
  {
   "cell_type": "markdown",
   "id": "4c131650",
   "metadata": {},
   "source": [
    "Tryby otwarcia plików:\n",
    "* “r” – plik otwarty do odczytu (read)\n",
    "* “w” – plik otwarty do zapisu (write), przed zapisem zawartość pliku jest usuwana\n",
    "* “a” – plik otwarty do zapisu, dodaje nową treść na końcu pliku, nie usuwa starej (append)\n",
    "\n",
    "Dodanie \"b\" oznacza tryb binarny np. \"rb\" otworzy pliki do odczytu binarnie."
   ]
  },
  {
   "cell_type": "code",
   "execution_count": 12,
   "id": "79bbb162",
   "metadata": {},
   "outputs": [
    {
     "name": "stdout",
     "output_type": "stream",
     "text": [
      "Oto mój pierwszy plik stworzony z pythona.\n",
      "\n",
      "Czas na kolejny\n",
      "\n",
      "Teraz dołączam nową linię\n",
      "\n",
      "I kolejną\n",
      "\n",
      "I kolejną\n",
      "\n",
      "1234556789\n",
      "----------\n"
     ]
    },
    {
     "data": {
      "text/plain": [
       "[]"
      ]
     },
     "execution_count": 12,
     "metadata": {},
     "output_type": "execute_result"
    }
   ],
   "source": [
    "#czytanie plików \n",
    "plik = open(sciezka+r\"/6. Pliki/\"+nazwa_pliku, 'r')\n",
    "for l in plik:\n",
    "    print(l)\n",
    "print('----------')    \n",
    "linie = plik.readlines()\n",
    "linie"
   ]
  },
  {
   "cell_type": "code",
   "execution_count": 13,
   "id": "934ab2c1",
   "metadata": {},
   "outputs": [
    {
     "data": {
      "text/plain": [
       "['Oto mój pierwszy plik stworzony z pythona.\\n',\n",
       " 'Czas na kolejny\\n',\n",
       " 'Teraz dołączam nową linię\\n',\n",
       " 'I kolejną\\n',\n",
       " 'I kolejną\\n',\n",
       " '1234556789']"
      ]
     },
     "execution_count": 13,
     "metadata": {},
     "output_type": "execute_result"
    }
   ],
   "source": [
    "plik = open(sciezka+r\"/6. Pliki/\"+nazwa_pliku, 'r')\n",
    "linie = plik.readlines()\n",
    "linie"
   ]
  },
  {
   "cell_type": "code",
   "execution_count": 14,
   "id": "ee642769",
   "metadata": {},
   "outputs": [
    {
     "data": {
      "text/plain": [
       "['Oto', 'mój', 'pierwszy', 'plik', 'stworzony', 'z', 'pythona.']"
      ]
     },
     "execution_count": 14,
     "metadata": {},
     "output_type": "execute_result"
    }
   ],
   "source": [
    "linie[0].split() #podział tekstu na elementy rozdzielone spacją"
   ]
  },
  {
   "cell_type": "markdown",
   "id": "d8634d57",
   "metadata": {},
   "source": [
    "sprawdzanie trybu otwarcia pliku"
   ]
  },
  {
   "cell_type": "code",
   "execution_count": 15,
   "id": "e4c817c7",
   "metadata": {},
   "outputs": [
    {
     "name": "stdout",
     "output_type": "stream",
     "text": [
      "True False\n",
      "False True\n",
      "False True\n",
      "False\n",
      "True\n"
     ]
    }
   ],
   "source": [
    "f = open(sciezka+r\"/6. Pliki/\"+nazwa_pliku, \"r\")\n",
    "print(f.readable(), f.writable())\n",
    "\n",
    "f = open(sciezka+r\"/6. Pliki/\"+nazwa_pliku, \"w\")\n",
    "print(f.readable(), f.writable())\n",
    "\n",
    "f = open(sciezka+r\"/6. Pliki/\"+nazwa_pliku, \"a\")\n",
    "print(f.readable(), f.writable())\n",
    "\n",
    "print(f.closed)\n",
    "f.close()\n",
    "print(f.closed)"
   ]
  },
  {
   "cell_type": "markdown",
   "id": "52f7263d",
   "metadata": {},
   "source": [
    "Zajmijmy się teraz plikami csv"
   ]
  },
  {
   "cell_type": "code",
   "execution_count": 16,
   "id": "0024f090",
   "metadata": {},
   "outputs": [
    {
     "name": "stdout",
     "output_type": "stream",
     "text": [
      "[{'nr': '1', 'rodzaj': 'Acer', 'gatunek': 'negundo', '2n': '26', 'x': '13'}, {'nr': '2', 'rodzaj': 'Acer', 'gatunek': 'saccharinum', '2n': '52', 'x': '13'}, {'nr': '3', 'rodzaj': 'Amaranthus', 'gatunek': 'bouchonii', '2n': '32', 'x': '8'}, {'nr': '4', 'rodzaj': 'Amaranthus', 'gatunek': 'chlorostachys', '2n': '32', 'x': '16'}, {'nr': '5', 'rodzaj': 'Amaranthus', 'gatunek': 'lividus', '2n': '34', 'x': '17'}, {'nr': '6', 'rodzaj': 'Amaranthus', 'gatunek': 'retroflexus', '2n': '34', 'x': '17'}, {'nr': '7', 'rodzaj': 'Anethum', 'gatunek': 'graveolens', '2n': '22', 'x': '11'}, {'nr': '8', 'rodzaj': 'Heracleum', 'gatunek': 'mantegazzianum', '2n': '22', 'x': '11'}, {'nr': '9', 'rodzaj': 'Heracleum', 'gatunek': 'sosnovskii', '2n': '22', 'x': '11'}]\n"
     ]
    }
   ],
   "source": [
    "#przerabiamy csv na słownik\n",
    "dane = []\n",
    "with open(sciezka+r\"/6. Pliki/dane_chromosomy.csv\", 'r') as plik:\n",
    "    naglowki = plik.readline().rstrip().split(',')\n",
    "    for wiersz in plik:\n",
    "        wiersz = wiersz.rstrip().split(',')\n",
    "        slownik = {}\n",
    "        for klucz, wartosc in zip(naglowki, wiersz):\n",
    "            slownik[klucz] = wartosc\n",
    "        dane.append(slownik)\n",
    "print(dane)"
   ]
  },
  {
   "cell_type": "code",
   "execution_count": null,
   "id": "f66e40b9",
   "metadata": {},
   "outputs": [],
   "source": [
    "#przejdzmy przez kod krok po kroku"
   ]
  },
  {
   "cell_type": "code",
   "execution_count": 17,
   "id": "2b4ebbaf",
   "metadata": {},
   "outputs": [],
   "source": [
    "dane = [] #lista zawierajaca wszystkie wiersze z pliku csv"
   ]
  },
  {
   "cell_type": "code",
   "execution_count": 18,
   "id": "15b288b3",
   "metadata": {},
   "outputs": [
    {
     "name": "stdout",
     "output_type": "stream",
     "text": [
      "['nr', 'rodzaj', 'gatunek', '2n', 'x']\n"
     ]
    }
   ],
   "source": [
    "with open(sciezka+r\"/6. Pliki/dane_chromosomy.csv\", 'r') as plik:\n",
    "    naglowki = plik.readline().rstrip().split(',') #bierzemy pierwszą linię, usuwamy biale znaki i dzielimy po \",\"\n",
    "print(naglowki)"
   ]
  },
  {
   "cell_type": "code",
   "execution_count": 19,
   "id": "7384f89e",
   "metadata": {},
   "outputs": [
    {
     "name": "stdout",
     "output_type": "stream",
     "text": [
      "1,Acer,negundo,26,13\n",
      "\n",
      "['1', 'Acer', 'negundo', '26', '13']\n",
      "2,Acer,saccharinum,52,13\n",
      "\n",
      "['2', 'Acer', 'saccharinum', '52', '13']\n",
      "3,Amaranthus,bouchonii,32,8\n",
      "\n",
      "['3', 'Amaranthus', 'bouchonii', '32', '8']\n",
      "4,Amaranthus,chlorostachys,32,16\n",
      "\n",
      "['4', 'Amaranthus', 'chlorostachys', '32', '16']\n",
      "5,Amaranthus,lividus,34,17\n",
      "\n",
      "['5', 'Amaranthus', 'lividus', '34', '17']\n",
      "6,Amaranthus,retroflexus,34,17\n",
      "\n",
      "['6', 'Amaranthus', 'retroflexus', '34', '17']\n",
      "7,Anethum,graveolens,22,11\n",
      "\n",
      "['7', 'Anethum', 'graveolens', '22', '11']\n",
      "8,Heracleum,mantegazzianum,22,11\n",
      "\n",
      "['8', 'Heracleum', 'mantegazzianum', '22', '11']\n",
      "9,Heracleum,sosnovskii,22,11\n",
      "\n",
      "['9', 'Heracleum', 'sosnovskii', '22', '11']\n"
     ]
    }
   ],
   "source": [
    "with open(sciezka+r\"/6. Pliki/dane_chromosomy.csv\", 'r') as plik:\n",
    "    naglowki = plik.readline().rstrip().split(',')\n",
    "    for wiersz in plik:\n",
    "        print(wiersz)# tak wygląda wiersz z csv\n",
    "        wiersz = wiersz.rstrip().split(',') \n",
    "        print(wiersz) #tak wygląda lista z danymi z danego wiersza - wiersz przerobiony na liste\n",
    "        slownik = {} #pusty słownik - 1 wiersz = 1 słownik"
   ]
  },
  {
   "cell_type": "code",
   "execution_count": 20,
   "id": "02004787",
   "metadata": {},
   "outputs": [
    {
     "name": "stdout",
     "output_type": "stream",
     "text": [
      "{'nr': '1', 'rodzaj': 'Acer', 'gatunek': 'negundo', '2n': '26', 'x': '13'}\n",
      "{'nr': '2', 'rodzaj': 'Acer', 'gatunek': 'saccharinum', '2n': '52', 'x': '13'}\n",
      "{'nr': '3', 'rodzaj': 'Amaranthus', 'gatunek': 'bouchonii', '2n': '32', 'x': '8'}\n",
      "{'nr': '4', 'rodzaj': 'Amaranthus', 'gatunek': 'chlorostachys', '2n': '32', 'x': '16'}\n",
      "{'nr': '5', 'rodzaj': 'Amaranthus', 'gatunek': 'lividus', '2n': '34', 'x': '17'}\n",
      "{'nr': '6', 'rodzaj': 'Amaranthus', 'gatunek': 'retroflexus', '2n': '34', 'x': '17'}\n",
      "{'nr': '7', 'rodzaj': 'Anethum', 'gatunek': 'graveolens', '2n': '22', 'x': '11'}\n",
      "{'nr': '8', 'rodzaj': 'Heracleum', 'gatunek': 'mantegazzianum', '2n': '22', 'x': '11'}\n",
      "{'nr': '9', 'rodzaj': 'Heracleum', 'gatunek': 'sosnovskii', '2n': '22', 'x': '11'}\n"
     ]
    }
   ],
   "source": [
    "with open(sciezka+r\"/6. Pliki/dane_chromosomy.csv\", 'r') as plik:\n",
    "    naglowki = plik.readline().rstrip().split(',')\n",
    "    for wiersz in plik:\n",
    "        wiersz = wiersz.rstrip().split(',')\n",
    "        slownik = {}\n",
    "        for klucz, wartosc in zip(naglowki, wiersz): #łączymy listy w krotki: (nagłówek, rekord dla konkretnej kolumny)\n",
    "            slownik[klucz] = wartosc #do słownika  do klucza przypisujemy wartosc rekordu \n",
    "        print(slownik)    \n",
    "        dane.append(slownik) #dolaczamy slownik do listy"
   ]
  },
  {
   "cell_type": "markdown",
   "id": "0bef2822",
   "metadata": {},
   "source": [
    "popracujmy teraz z modułem pickle, który pozwala na serializację i deserializację obiektów pythona czyli przekształcania obiektów w ciąg bajtów\n"
   ]
  },
  {
   "cell_type": "code",
   "execution_count": 1,
   "id": "25cb6737",
   "metadata": {},
   "outputs": [],
   "source": [
    "import pickle\n",
    "phone_book = {\"Joanna\": \"542124\",\n",
    " \"Maciej\": \"542323\",\n",
    " }\n",
    "bytes = pickle.dumps(phone_book)"
   ]
  },
  {
   "cell_type": "code",
   "execution_count": 2,
   "id": "c19600fc",
   "metadata": {},
   "outputs": [
    {
     "data": {
      "text/plain": [
       "b'\\x80\\x04\\x95)\\x00\\x00\\x00\\x00\\x00\\x00\\x00}\\x94(\\x8c\\x06Joanna\\x94\\x8c\\x06542124\\x94\\x8c\\x06Maciej\\x94\\x8c\\x06542323\\x94u.'"
      ]
     },
     "execution_count": 2,
     "metadata": {},
     "output_type": "execute_result"
    }
   ],
   "source": [
    "bytes"
   ]
  },
  {
   "cell_type": "code",
   "execution_count": 6,
   "id": "96fa9b83",
   "metadata": {},
   "outputs": [],
   "source": [
    "#zapisanie do pliku binarnego\n",
    "with open(sciezka+r\"/6. Pliki/app_data.pickle\", 'wb') as file: #wb jak write binary\n",
    "    pickle.dump(phone_book, file)"
   ]
  },
  {
   "cell_type": "code",
   "execution_count": 7,
   "id": "7ae33f4a",
   "metadata": {},
   "outputs": [],
   "source": [
    "#odczyt ciągu binarnego\n",
    "bytes = (b'(dp0\\nVJonna\\np1\\nV542124\\np2\\nsVMaciej\\np3\\nV542323\\np4\\ns.')\n",
    "phone_book = pickle.loads(bytes)"
   ]
  },
  {
   "cell_type": "code",
   "execution_count": 9,
   "id": "7fed1a14",
   "metadata": {},
   "outputs": [
    {
     "name": "stdout",
     "output_type": "stream",
     "text": [
      "{'Joanna': '542124', 'Maciej': '542323'}\n"
     ]
    }
   ],
   "source": [
    "#odczyt pliku binarnego\n",
    "with open('app_data.pickle', 'rb') as file: #rb jak read binary\n",
    "    phone_book = pickle.load(file)\n",
    "print(phone_book)\n",
    "file.close()"
   ]
  },
  {
   "cell_type": "code",
   "execution_count": 1,
   "id": "178b2bf7",
   "metadata": {},
   "outputs": [],
   "source": [
    "#stwórzmy plik csv\n",
    "lista = ['SGH','Warszawa','Ekonomia']\n",
    "plik_wyjściowy = 'plik_uczelnie.csv'\n",
    "with open(plik_wyjściowy, 'w') as file:\n",
    "    file.write(','.join(lista))"
   ]
  },
  {
   "cell_type": "markdown",
   "id": "9cbab732",
   "metadata": {},
   "source": [
    "### Data persistence - trwałość danych\n",
    "\n",
    "W skrócie, są to dane przechowywane nawet po zakończeniu działania aplikacji.<br>\n",
    "Biblioteka shelve zapewnia mechanizm trwałości danych. Obiekty shelve przypominają słowniki trwale przechowywane na dysku.<br>\n",
    "\n",
    "\n",
    "Do poczytania: https://www.tutorialspoint.com/python_data_persistence/python_data_persistence_quick_guide.htm"
   ]
  },
  {
   "cell_type": "code",
   "execution_count": 4,
   "id": "061c33bd",
   "metadata": {},
   "outputs": [],
   "source": [
    "import os\n",
    "#ustawiamy ścieżkę do pracy z plikami\n",
    "cwd = os.getcwd()\n",
    "os.chdir(cwd+\"\\\\6. Shelve\")"
   ]
  },
  {
   "cell_type": "code",
   "execution_count": 7,
   "id": "9da09aec",
   "metadata": {},
   "outputs": [],
   "source": [
    "import shelve\n",
    "\n",
    "#w obecnej ścieżce zostaną utworzone obiekty typu klucz wartość z zaszyfrowanej formie\n",
    "\n",
    "s=shelve.open(\"test\")\n",
    "s['name']=\"Adam\"\n",
    "s['age']=20\n",
    "s['marks']=83\n",
    "s.close()"
   ]
  },
  {
   "cell_type": "code",
   "execution_count": 8,
   "id": "c2fc1f76",
   "metadata": {},
   "outputs": [
    {
     "name": "stdout",
     "output_type": "stream",
     "text": [
      "20\n",
      "25\n"
     ]
    },
    {
     "data": {
      "text/plain": [
       "83"
      ]
     },
     "execution_count": 8,
     "metadata": {},
     "output_type": "execute_result"
    }
   ],
   "source": [
    "s=shelve.open('test')\n",
    "print (s['age']) #wyświetli 20 tak jak sobie zdefiniowaliśmy\n",
    "s['age']=25\n",
    "print (s.get('age')) #wyświetli nową wartość\n",
    "s.pop('marks') #usuwamy parę klucz wartość"
   ]
  },
  {
   "cell_type": "code",
   "execution_count": 9,
   "id": "8f83b975",
   "metadata": {},
   "outputs": [
    {
     "name": "stdout",
     "output_type": "stream",
     "text": [
      "[('name', 'Adam'), ('age', 25)]\n",
      "['name', 'age']\n",
      "['Adam', 25]\n"
     ]
    }
   ],
   "source": [
    "print(list(s.items()))\n",
    "print(list(s.keys()))\n",
    "print(list(s.values()))\n"
   ]
  },
  {
   "cell_type": "code",
   "execution_count": 11,
   "id": "4af97c5f",
   "metadata": {},
   "outputs": [
    {
     "name": "stdout",
     "output_type": "stream",
     "text": [
      "[('name', 'Adam'), ('age', 25), ('pensja', 5000), ('stanowisko', 'specjalista')]\n"
     ]
    }
   ],
   "source": [
    "#łączymy z innym słownikiem\n",
    "nowy_słownik={'pensja':5000, 'stanowisko':'specjalista'}\n",
    "s.update(nowy_słownik)\n",
    "print(list(s.items()))"
   ]
  },
  {
   "cell_type": "markdown",
   "id": "74f6eb78",
   "metadata": {},
   "source": [
    "### Zadania"
   ]
  },
  {
   "cell_type": "markdown",
   "id": "b963cdec",
   "metadata": {},
   "source": [
    "__Zadanie 1.__ <br>\n",
    "Napisz funckję z użyciem danych wejściowych do liczenia BMI. <br>\n",
    "Wowłaj funkcję dla wzrostu = 180cm i wagi = 80kg."
   ]
  },
  {
   "cell_type": "markdown",
   "id": "4979cc0d",
   "metadata": {},
   "source": [
    "__Zadanie 2.__ <br>\n",
    "Napisz funkcję zwracającą konkretny element ciągu fibonacciego za pomocą pętli, rekursji i rekursji ogonowej"
   ]
  },
  {
   "cell_type": "markdown",
   "id": "7ef407d6",
   "metadata": {},
   "source": [
    "__Zadanie 3.__ <br>\n",
    "Sprawdź, która funkcja najszybciej zwróciła wynik (dla dużego wyrazu np. 40)"
   ]
  },
  {
   "cell_type": "markdown",
   "id": "9dc65f70",
   "metadata": {},
   "source": [
    "__Zadanie 4.__ <br>\n",
    "W folderze pliki znajduje się plik atp6-sequences.fasta. Jest to plik z sekwencją genu atp6.<br> Spróbuj otworzyć plik i sprawdzić jego format.<br>\n",
    "Źródło: https://ggoralski.gitlab.io/python-wprowadzenie/czesc_i/16-pliki/"
   ]
  },
  {
   "cell_type": "markdown",
   "id": "61db9db9",
   "metadata": {},
   "source": [
    "__Zadanie 5.__ <br>\n",
    "Napisz kod który odczyta plik linia po linii."
   ]
  },
  {
   "cell_type": "markdown",
   "id": "a266fada",
   "metadata": {},
   "source": [
    "__Zadanie 6.__ <br>\n",
    "Opis sekwencji znajduje się w linii zaczynającej się od \">\".<br>\n",
    "Pozostałe linie to sekwencja.<br>\n",
    "Puste linie mają długość 0 lub 1.<br>\n",
    "Otwórz plik z dodaniem informacji, czy jest to opis, sekwencja czy pusta linia.<br>"
   ]
  },
  {
   "cell_type": "markdown",
   "id": "5ce4e173",
   "metadata": {},
   "source": [
    "__Zadanie 7.__ <br>\n",
    "Zauważ, że dla jednego opisu istnieje wiele linii sekwencji.\n",
    "Teraz usuńmy \">\" z opisu i połączmy linie sekwencje z jednego opisu w jedną.<br>\n",
    "Podpowiedź: replace('>', '')"
   ]
  },
  {
   "cell_type": "markdown",
   "id": "6d3e2c5c",
   "metadata": {},
   "source": [
    "__Zadanie 8.__ <br>\n",
    "Stwórzmy słownik, gdzie kluczem będzie opis a wartością sekwencja"
   ]
  },
  {
   "cell_type": "markdown",
   "id": "0878547a",
   "metadata": {},
   "source": [
    "__Zadanie 9.__ <br>\n",
    "Odczytaj plik MARKI_2019_05.csv <br>\n",
    "Źródło: https://dane.gov.pl/pl/dataset/1643/resource/18173,marki-maj-2019-csv/table?page=1&per_page=20&q=&sort="
   ]
  },
  {
   "cell_type": "markdown",
   "id": "2559bafb",
   "metadata": {},
   "source": [
    "__Zadanie 10.__ <br>\n",
    "Do kodu z zadania 9 dodaj odczytanie nagłówków.<br>\n",
    "Usuń puste wartości z nagłówków.<br>\n",
    "Możesz użyć: filter(None, naglowki)"
   ]
  },
  {
   "cell_type": "markdown",
   "id": "1780e4dc",
   "metadata": {},
   "source": [
    "__Zadanie 11.__ <br>\n",
    "Utwórz słowniki i dodaj do listy jak: dane = [{'Marka':'VOLKSWAGEN, 'Liczba':15471}, ...]"
   ]
  },
  {
   "cell_type": "markdown",
   "id": "fbe509c8",
   "metadata": {},
   "source": [
    "__Zadanie 12.__ <br>\n",
    "Zapisz do pliku binarnego słownik z zadania 11"
   ]
  },
  {
   "cell_type": "markdown",
   "id": "75a7e179",
   "metadata": {},
   "source": [
    "__Zadanie 13.__ <br>\n",
    "Odczytaj z pliku binarnego plik zapisany w zadaniu 11"
   ]
  }
 ],
 "metadata": {
  "kernelspec": {
   "display_name": "Python 3 (ipykernel)",
   "language": "python",
   "name": "python3"
  },
  "language_info": {
   "codemirror_mode": {
    "name": "ipython",
    "version": 3
   },
   "file_extension": ".py",
   "mimetype": "text/x-python",
   "name": "python",
   "nbconvert_exporter": "python",
   "pygments_lexer": "ipython3",
   "version": "3.8.10"
  }
 },
 "nbformat": 4,
 "nbformat_minor": 5
}
