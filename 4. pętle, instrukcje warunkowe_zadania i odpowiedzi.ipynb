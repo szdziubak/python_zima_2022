{
 "cells": [
  {
   "cell_type": "markdown",
   "id": "e20adb9f",
   "metadata": {},
   "source": [
    "# Pętle, instrukcje warunkowe\n",
    "\n",
    "Szymon Dziubak"
   ]
  },
  {
   "cell_type": "markdown",
   "id": "7ced231a",
   "metadata": {},
   "source": [
    "### Wszystko razem - zadania"
   ]
  },
  {
   "cell_type": "markdown",
   "id": "ed5673e0",
   "metadata": {},
   "source": [
    "__Przykład 1.__ <br>\n",
    "Stwórz słownik osób z liczbą punktów za 2 aktywności: projekt (max 40) i egzamin (max 60).\n",
    "Na podstawie sumy punktów dodaj ocene wg. skali: <br>\n",
    "    51 – 60 - 3<br>\n",
    "    61 – 70 – 3,5<br>\n",
    "    71 – 80 – 4<br>\n",
    "    81 - 90 – 4,5<br>\n",
    "    91 – 100 – 5 \n",
    "    \n",
    "Na wejściu powinniśmy utworzyć słownik:<br>\n",
    "oceny = {numer_indeksu_1 : {projekt: ilosc_punktow, cwiczenia: ilosc_punktow}, numer_indeksu_2 = ...}<br>\n",
    "Na wyjściu powinnismy otrzymać:<br>\n",
    "oceny = {numer_indeksu_1 : {projekt: ilosc_punktow, cwiczenia: ilosc_punktow, ocena: ocena}, numer_indeksu_2 = ...}"
   ]
  },
  {
   "cell_type": "code",
   "execution_count": 7,
   "id": "07ac5164",
   "metadata": {},
   "outputs": [],
   "source": [
    "oceny = {\n",
    "    76543:{'projekt':35, 'egzamin':34},\n",
    "    76542:{'projekt':27, 'egzamin':55},\n",
    "    76541:{'projekt':40, 'egzamin':54},\n",
    "    76549:{'projekt':11, 'egzamin':41},\n",
    "    76548:{'projekt':0, 'egzamin':54},\n",
    "    76547:{'projekt':36, 'egzamin':11}\n",
    "}\n",
    "\n",
    "for numer_indeksu, wartosci in oceny.items():\n",
    "    suma_punktow = wartosci['projekt']+wartosci['egzamin']\n",
    "    if suma_punktow > 90:\n",
    "        oceny[numer_indeksu]['ocena'] = 5\n",
    "    elif suma_punktow > 80:\n",
    "        oceny[numer_indeksu]['ocena'] = 4.5\n",
    "    elif suma_punktow > 70:\n",
    "        oceny[numer_indeksu]['ocena'] = 4\n",
    "    elif suma_punktow > 60:\n",
    "        oceny[numer_indeksu]['ocena'] = 3.5\n",
    "    elif suma_punktow > 50:\n",
    "        oceny[numer_indeksu]['ocena'] = 3\n",
    "    else:\n",
    "        oceny[numer_indeksu]['ocena'] = 2\n",
    "    \n",
    "print(oceny)"
   ]
  },
  {
   "cell_type": "markdown",
   "id": "1862c956",
   "metadata": {},
   "source": [
    "__Przykład 2__<br>\n",
    "Zaimplementuj algorytm potęgi bez użycia znaku potęgi dla dodatnich wykładników (tylko mnożenie i dodawanie).<br>\n",
    "Spróbuj uzyskać ten sam efekt za pomocą pętli for i while."
   ]
  },
  {
   "cell_type": "code",
   "execution_count": 33,
   "id": "400f4462",
   "metadata": {},
   "outputs": [],
   "source": [
    "#wzór na potęgę: (podstawa)^(wykładnik)\n",
    "podstawa = 3\n",
    "wykładnik = 4"
   ]
  },
  {
   "cell_type": "code",
   "execution_count": 34,
   "id": "4e8a5f86",
   "metadata": {},
   "outputs": [
    {
     "name": "stdout",
     "output_type": "stream",
     "text": [
      "81\n"
     ]
    }
   ],
   "source": [
    "wynik = 1\n",
    "for i in range(1, wykładnik+1):\n",
    "    wynik *= podstawa \n",
    "print(wynik)"
   ]
  },
  {
   "cell_type": "code",
   "execution_count": 35,
   "id": "fcc69e5b",
   "metadata": {},
   "outputs": [
    {
     "name": "stdout",
     "output_type": "stream",
     "text": [
      "81\n"
     ]
    }
   ],
   "source": [
    "i = 1\n",
    "wynik = 1\n",
    "while i <= wykładnik:\n",
    "    wynik *= podstawa\n",
    "    i += 1\n",
    "print(wynik)"
   ]
  },
  {
   "cell_type": "markdown",
   "id": "1727c9d1",
   "metadata": {},
   "source": [
    "__Przykład 3__<br>\n",
    "Znajdź miejsca zerowe ax^2 + bx + c = 0 <br>\n",
    "dla a = 2 b = -5 c = 7"
   ]
  },
  {
   "cell_type": "code",
   "execution_count": 40,
   "id": "95cf4633",
   "metadata": {},
   "outputs": [],
   "source": [
    "a = -2\n",
    "b = -5\n",
    "c = 7"
   ]
  },
  {
   "cell_type": "code",
   "execution_count": 46,
   "id": "62ea35b4",
   "metadata": {},
   "outputs": [
    {
     "name": "stdout",
     "output_type": "stream",
     "text": [
      "x1: 1.0\n",
      "x2: -3.5\n"
     ]
    }
   ],
   "source": [
    "delta = b**2 - 4*a*c\n",
    "if delta < 0:\n",
    "    print(\"brak miejsc zerowych\")\n",
    "else:\n",
    "    x1 = (-b - delta**(1/2))/(2*a)\n",
    "    x2 = (-b + delta**(1/2))/(2*a)\n",
    "    print(\"x1: \"+ str(x1))\n",
    "    print(\"x2: \"+ str(x2))"
   ]
  },
  {
   "cell_type": "markdown",
   "id": "af4d498d",
   "metadata": {},
   "source": [
    "__Przykład 4__<br>\n",
    "Oblicz NWD dla zdefiniowanych a i b<br>\n",
    "Własności NWD:<br>\n",
    "NWD(a,b) = NWD (a-b, b) gdzie a>b<br>\n",
    "NWD(a,b) = NWD(a, b-a) gdzie a<b<br>"
   ]
  },
  {
   "cell_type": "code",
   "execution_count": 4,
   "id": "abde3ca8",
   "metadata": {},
   "outputs": [
    {
     "name": "stdout",
     "output_type": "stream",
     "text": [
      "4\n"
     ]
    }
   ],
   "source": [
    "a = 20\n",
    "b = 16\n",
    "while a != b:\n",
    "    if a > b:\n",
    "        a = a-b\n",
    "    else:\n",
    "        b = b-a\n",
    "print(a)"
   ]
  },
  {
   "cell_type": "markdown",
   "id": "8c1fa902",
   "metadata": {},
   "source": [
    "__Przykład 5__<br>\n",
    "Napisz kod na obliczanie dominanty. Jeeli mamy remis to wybierz dowoln z tych liczb.\n"
   ]
  },
  {
   "cell_type": "code",
   "execution_count": 32,
   "id": "1a221687",
   "metadata": {},
   "outputs": [],
   "source": [
    "lista = [1,2,3,4,5,6,7,8,9,3,6,3,5,3,7,5,2,5,9,1,1,6,7,8,3,5,8,4,5,4,6,7,8,3,2,3,5,7,2,6,9,1,1,6,7,8,3,\n",
    "         5,8,9,5,4,6,7,8,3,2,3,5,7,2,6,9,1,1,6,7,8,3,5,8,9,5,4,6,2,5,9,1,1,6,5,8,9,2,5,8,3,8,1,5,8,9,4]"
   ]
  },
  {
   "cell_type": "code",
   "execution_count": 23,
   "id": "8274de4f",
   "metadata": {},
   "outputs": [
    {
     "name": "stdout",
     "output_type": "stream",
     "text": [
      "Jest najwięcej wystąpień 5. Liczba wystąpień to 16\n"
     ]
    }
   ],
   "source": [
    "zliczenia = dict()\n",
    "klucze = set(lista)\n",
    "for klucz in klucze:\n",
    "    zliczenia[klucz] = 0\n",
    "for i in lista:\n",
    "    zliczenia[i] += 1\n",
    "max_klucz = ''\n",
    "max_wartosc = 0\n",
    "for klucz, wartosc in zliczenia.items():\n",
    "    if wartosc > max_wartosc:\n",
    "        max_klucz = klucz\n",
    "        max_wartosc = wartosc\n",
    "    else:\n",
    "        pass\n",
    "print(f\"Jest najwięcej wystąpień {max_klucz}. Liczba wystąpień to {max_wartosc}\")\n"
   ]
  },
  {
   "cell_type": "markdown",
   "id": "6242ed53",
   "metadata": {},
   "source": [
    "__Przykład 6__<br>\n",
    "Zaimplemenuj liczenie mediany dla liczb z listy."
   ]
  },
  {
   "cell_type": "code",
   "execution_count": 42,
   "id": "25fafaa4",
   "metadata": {},
   "outputs": [
    {
     "name": "stdout",
     "output_type": "stream",
     "text": [
      "5.0\n"
     ]
    }
   ],
   "source": [
    "lista_mediana = lista[:]\n",
    "lista_mediana.sort()\n",
    "active = True\n",
    "while active:\n",
    "    dlugosc_listy = len(lista_mediana)\n",
    "    if dlugosc_listy <= 2:\n",
    "        mediana = sum(lista_mediana)/dlugosc_listy\n",
    "        active = False\n",
    "    else:\n",
    "        lista_mediana = lista_mediana[1:-1]\n",
    "print(mediana)"
   ]
  },
  {
   "cell_type": "markdown",
   "id": "3551a159",
   "metadata": {},
   "source": [
    "__Przykład 7__<br>\n",
    "Sprawdź czy napis jest palindromem, czyli na wspak da taki sam napis jak \"kajak\"."
   ]
  },
  {
   "cell_type": "code",
   "execution_count": 53,
   "id": "7d72f597",
   "metadata": {},
   "outputs": [
    {
     "name": "stdout",
     "output_type": "stream",
     "text": [
      "Nie jest palindromem\n"
     ]
    }
   ],
   "source": [
    "napis = 'samochód'\n",
    "a = True\n",
    "n = len(napis)\n",
    "for i in range(len(napis)//2): ##// zaokrągla w dół\n",
    "    if napis[i] != napis[n-i-1]:\n",
    "        a = False\n",
    "        print(\"Nie jest palindromem\")\n",
    "        break\n",
    "if a == True:\n",
    "    print(\"Jest palindromem\")\n",
    "    "
   ]
  },
  {
   "cell_type": "markdown",
   "id": "78801b12",
   "metadata": {},
   "source": [
    "__Przykład 8__<br>\n",
    "W folderze 4.Pliki dodatkowe znajdują się 2 pliki: Dane historyczne dla EUR_PLN i EUR_USD.<br>\n",
    "Stwórz słownik z notowaniami dla par EUR_PLN i EUR_USD w formie listy dla kursów z otwarcia dla dat od 12.09.2022 do 16.09.2022.<br>\n",
    "Dodaj nowy klucz z notowaniami dla pary USD_PLN (obliczając ją odpowiednia dzieląc kurs EUR/PLN przez EUR/USD).\n"
   ]
  },
  {
   "cell_type": "code",
   "execution_count": 56,
   "id": "6d785351",
   "metadata": {},
   "outputs": [],
   "source": [
    "EUR_PLN = [4.6870, 4.7167, 4.7127, 4.7201, 4.7123]\n",
    "EUR_USD = [1.0119, 0.9970, 0.9977, 0.9999, 1.0015]\n",
    "kursy = {'EUR_PLN' : EUR_PLN, 'EUR_USD' : EUR_USD}"
   ]
  },
  {
   "cell_type": "code",
   "execution_count": 59,
   "id": "a31ab2a1",
   "metadata": {},
   "outputs": [],
   "source": [
    "kursy['USD_PLN'] = [i_EUR_PLN / i_EUR_USD for i_EUR_PLN, i_EUR_USD in zip(kursy['EUR_PLN'], kursy['EUR_USD'])]"
   ]
  },
  {
   "cell_type": "code",
   "execution_count": 72,
   "id": "681616e6",
   "metadata": {},
   "outputs": [
    {
     "data": {
      "text/plain": [
       "[4.631880620614686,\n",
       " 4.7308926780341025,\n",
       " 4.723564197654605,\n",
       " 4.720572057205721,\n",
       " 4.705242136794808]"
      ]
     },
     "execution_count": 72,
     "metadata": {},
     "output_type": "execute_result"
    }
   ],
   "source": [
    "#drugi sposób z poleceniem map\n",
    "#map(funkcja, wartości1, wartości2,...) wykonuje dane operacje na wartościach\n",
    "\n",
    "from operator import truediv #import funkcji dzielącej\n",
    "list(map(truediv, EUR_PLN, EUR_USD))"
   ]
  },
  {
   "cell_type": "code",
   "execution_count": 79,
   "id": "0ac87f8f",
   "metadata": {},
   "outputs": [
    {
     "data": {
      "text/plain": [
       "[4.631880620614686,\n",
       " 4.7308926780341025,\n",
       " 4.723564197654605,\n",
       " 4.720572057205721,\n",
       " 4.705242136794808]"
      ]
     },
     "execution_count": 79,
     "metadata": {},
     "output_type": "execute_result"
    }
   ],
   "source": [
    "#teraz sami zaimplementujmy dzielenie dla funkcji map\n",
    "def dzielenie(numer1, numer2):\n",
    "    return numer1/numer2\n",
    "    \n",
    "list(map(dzielenie, EUR_PLN, EUR_USD))"
   ]
  },
  {
   "cell_type": "markdown",
   "id": "04718c56",
   "metadata": {},
   "source": [
    "__Przykład 9__<br>\n",
    "Narysujmy choinke ze zdefiniowaną wysokością"
   ]
  },
  {
   "cell_type": "code",
   "execution_count": 95,
   "id": "e3913a53",
   "metadata": {},
   "outputs": [
    {
     "name": "stdout",
     "output_type": "stream",
     "text": [
      "            *  \n",
      "          * * *  \n",
      "        * * * * *  \n",
      "      * * * * * * *  \n",
      "    * * * * * * * * *  \n",
      "  * * * * * * * * * * *  \n"
     ]
    }
   ],
   "source": [
    "n=6\n",
    "for i in range(n):\n",
    "    for j in range(n-i):\n",
    "        print(' ', end=' ')\n",
    "    for k in range(2*i+1):\n",
    "        print('*',end=' ')\n",
    "    print(\" \") #nowa linia"
   ]
  },
  {
   "cell_type": "code",
   "execution_count": 93,
   "id": "8e8a1737",
   "metadata": {},
   "outputs": [
    {
     "name": "stdout",
     "output_type": "stream",
     "text": [
      "            *  \n",
      "          * * *  \n",
      "        * * * * *  \n",
      "      * * * * * * *  \n",
      "    * * * * * * * * *  \n",
      "  * * * * * * * * * * *  \n",
      "            *  \n",
      "          * * *  \n",
      "        * * * * *  \n",
      "      * * * * * * *  \n",
      "    * * * * * * * * *  \n",
      "  * * * * * * * * * * *  \n",
      "          * * *\n",
      "          * * *\n",
      "          * * *\n"
     ]
    }
   ],
   "source": [
    "for i in range(n):\n",
    "    for j in range(n-i):\n",
    "        print(' ', end=' ')\n",
    "    for k in range(2*i+1):\n",
    "        print('*',end=' ')\n",
    "    print(\" \") #nowa linia\n",
    "    \n",
    "for i in range(n):\n",
    "    for j in range(n-i):\n",
    "        print(' ', end=' ')\n",
    "    for k in range(2*i+1):\n",
    "        print('*',end=' ')\n",
    "    print(\" \") #nowa linia\n",
    "    \n",
    "for i in range(max(n//2, 2)):\n",
    "    for j in range(n-1):\n",
    "        print(' ', end=' ')\n",
    "    print('* * *')"
   ]
  },
  {
   "cell_type": "markdown",
   "id": "7d638ac0",
   "metadata": {},
   "source": [
    "__Przykład 10__<br>\n",
    "Mając kurs EUR/USD sprawdź czy danego dnia kurs jest poniżej czy powyżej parytetu (parytet: EUR/USD = 1)"
   ]
  },
  {
   "cell_type": "markdown",
   "id": "1a1fcc41",
   "metadata": {},
   "source": [
    "|Data|EUR/USD|\n",
    "|----|-------|\n",
    "|25.08.2022|0.9974| \n",
    "|26.08.2022|0.9961|\n",
    "|29.08.2022|0.9995|\n",
    "|30.08.2022|1.0012|\n",
    "|31.08.2022|1.0057|"
   ]
  },
  {
   "cell_type": "code",
   "execution_count": 108,
   "id": "48e21444",
   "metadata": {},
   "outputs": [],
   "source": [
    "EUR_USD = {\n",
    "\"25.08.2022\" : 0.9974,\n",
    "\"26.08.2022\" : 0.9961,\n",
    "\"29.08.2022\" : 0.9995,\n",
    "\"30.08.2022\" : 1.0012,\n",
    "\"31.08.2022\" : 1.0057\n",
    "}"
   ]
  },
  {
   "cell_type": "code",
   "execution_count": 117,
   "id": "7f3e5288",
   "metadata": {},
   "outputs": [
    {
     "name": "stdout",
     "output_type": "stream",
     "text": [
      "Kurs EUR/USD poniżej parytetu dnia 25.08.2022\n",
      "Kurs EUR/USD poniżej parytetu dnia 26.08.2022\n",
      "Kurs EUR/USD poniżej parytetu dnia 29.08.2022\n",
      "Kurs EUR/USD powyżej parytetu dnia 30.08.2022\n",
      "Kurs EUR/USD powyżej parytetu dnia 31.08.2022\n"
     ]
    }
   ],
   "source": [
    "#ciekawsza wersja\n",
    "def roznica(wartosc):\n",
    "    return wartosc - 1\n",
    "\n",
    "roznice = list(map(roznica, list(EUR_USD.values())))\n",
    "zipped = zip(list(EUR_USD.keys()), roznice)\n",
    "\n",
    "for data, roznica in zipped:\n",
    "    if roznica < 0:\n",
    "        print(f\"Kurs EUR/USD poniżej parytetu dnia {data}\")\n",
    "    else:\n",
    "        print(f\"Kurs EUR/USD powyżej parytetu dnia {data}\")"
   ]
  },
  {
   "cell_type": "code",
   "execution_count": 116,
   "id": "aca21fdf",
   "metadata": {},
   "outputs": [
    {
     "name": "stdout",
     "output_type": "stream",
     "text": [
      "Dnia 25.08.2022 kurs euro do usd znalazł się poniżej parytetu\n",
      "Dnia 26.08.2022 kurs euro do usd znalazł się poniżej parytetu\n",
      "Dnia 29.08.2022 kurs euro do usd znalazł się poniżej parytetu\n",
      "Dnia 30.08.2022 kurs euro do usd znalazł się powyżej parytetu\n",
      "Dnia 31.08.2022 kurs euro do usd znalazł się powyżej parytetu\n"
     ]
    }
   ],
   "source": [
    "#prostsza wersja\n",
    "for data, kurs in EUR_USD.items():\n",
    "    if kurs<1:\n",
    "        print(f\"Dnia {data} kurs euro do usd znalazł się poniżej parytetu\")\n",
    "    else:\n",
    "        print(f\"Dnia {data} kurs euro do usd znalazł się powyżej parytetu\")"
   ]
  }
 ],
 "metadata": {
  "kernelspec": {
   "display_name": "Python 3 (ipykernel)",
   "language": "python",
   "name": "python3"
  },
  "language_info": {
   "codemirror_mode": {
    "name": "ipython",
    "version": 3
   },
   "file_extension": ".py",
   "mimetype": "text/x-python",
   "name": "python",
   "nbconvert_exporter": "python",
   "pygments_lexer": "ipython3",
   "version": "3.8.10"
  }
 },
 "nbformat": 4,
 "nbformat_minor": 5
}
